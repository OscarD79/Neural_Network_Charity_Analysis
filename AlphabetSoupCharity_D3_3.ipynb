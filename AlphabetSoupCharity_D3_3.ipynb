{
 "cells": [
  {
   "cell_type": "markdown",
   "metadata": {
    "id": "X3OgWMgiN4cm"
   },
   "source": [
    "### Deliverable 1: Preprocessing the Data for a Neural Network"
   ]
  },
  {
   "cell_type": "code",
   "execution_count": 1,
   "metadata": {
    "id": "AQ2rPV5QN4cn"
   },
   "outputs": [],
   "source": [
    "# Import our dependencies\n",
    "from sklearn.model_selection import train_test_split\n",
    "from sklearn.preprocessing import StandardScaler,OneHotEncoder\n",
    "\n",
    "from sklearn.metrics import classification_report\n",
    "from sklearn.metrics import confusion_matrix, ConfusionMatrixDisplay\n",
    "\n",
    "import pandas as pd\n",
    "import tensorflow as tf"
   ]
  },
  {
   "cell_type": "code",
   "execution_count": 58,
   "metadata": {
    "id": "DQ08rIA_PmCe"
   },
   "outputs": [],
   "source": [
    "# Additional dependencies\n",
    "import matplotlib.pyplot as plt\n",
    "import seaborn as sns\n",
    "import numpy as np\n",
    "sns.set_theme(style=\"darkgrid\")"
   ]
  },
  {
   "cell_type": "code",
   "execution_count": 3,
   "metadata": {
    "colab": {
     "base_uri": "https://localhost:8080/",
     "height": 496
    },
    "id": "YA_YlYrBN4cp",
    "outputId": "1550e43a-81d0-4b5e-d949-d631b7a00603"
   },
   "outputs": [
    {
     "data": {
      "text/html": [
       "<div>\n",
       "<style scoped>\n",
       "    .dataframe tbody tr th:only-of-type {\n",
       "        vertical-align: middle;\n",
       "    }\n",
       "\n",
       "    .dataframe tbody tr th {\n",
       "        vertical-align: top;\n",
       "    }\n",
       "\n",
       "    .dataframe thead th {\n",
       "        text-align: right;\n",
       "    }\n",
       "</style>\n",
       "<table border=\"1\" class=\"dataframe\">\n",
       "  <thead>\n",
       "    <tr style=\"text-align: right;\">\n",
       "      <th></th>\n",
       "      <th>EIN</th>\n",
       "      <th>NAME</th>\n",
       "      <th>APPLICATION_TYPE</th>\n",
       "      <th>AFFILIATION</th>\n",
       "      <th>CLASSIFICATION</th>\n",
       "      <th>USE_CASE</th>\n",
       "      <th>ORGANIZATION</th>\n",
       "      <th>STATUS</th>\n",
       "      <th>INCOME_AMT</th>\n",
       "      <th>SPECIAL_CONSIDERATIONS</th>\n",
       "      <th>ASK_AMT</th>\n",
       "      <th>IS_SUCCESSFUL</th>\n",
       "    </tr>\n",
       "  </thead>\n",
       "  <tbody>\n",
       "    <tr>\n",
       "      <th>0</th>\n",
       "      <td>10520599</td>\n",
       "      <td>BLUE KNIGHTS MOTORCYCLE CLUB</td>\n",
       "      <td>T10</td>\n",
       "      <td>Independent</td>\n",
       "      <td>C1000</td>\n",
       "      <td>ProductDev</td>\n",
       "      <td>Association</td>\n",
       "      <td>1</td>\n",
       "      <td>0</td>\n",
       "      <td>N</td>\n",
       "      <td>5000</td>\n",
       "      <td>1</td>\n",
       "    </tr>\n",
       "    <tr>\n",
       "      <th>1</th>\n",
       "      <td>10531628</td>\n",
       "      <td>AMERICAN CHESAPEAKE CLUB CHARITABLE TR</td>\n",
       "      <td>T3</td>\n",
       "      <td>Independent</td>\n",
       "      <td>C2000</td>\n",
       "      <td>Preservation</td>\n",
       "      <td>Co-operative</td>\n",
       "      <td>1</td>\n",
       "      <td>1-9999</td>\n",
       "      <td>N</td>\n",
       "      <td>108590</td>\n",
       "      <td>1</td>\n",
       "    </tr>\n",
       "    <tr>\n",
       "      <th>2</th>\n",
       "      <td>10547893</td>\n",
       "      <td>ST CLOUD PROFESSIONAL FIREFIGHTERS</td>\n",
       "      <td>T5</td>\n",
       "      <td>CompanySponsored</td>\n",
       "      <td>C3000</td>\n",
       "      <td>ProductDev</td>\n",
       "      <td>Association</td>\n",
       "      <td>1</td>\n",
       "      <td>0</td>\n",
       "      <td>N</td>\n",
       "      <td>5000</td>\n",
       "      <td>0</td>\n",
       "    </tr>\n",
       "    <tr>\n",
       "      <th>3</th>\n",
       "      <td>10553066</td>\n",
       "      <td>SOUTHSIDE ATHLETIC ASSOCIATION</td>\n",
       "      <td>T3</td>\n",
       "      <td>CompanySponsored</td>\n",
       "      <td>C2000</td>\n",
       "      <td>Preservation</td>\n",
       "      <td>Trust</td>\n",
       "      <td>1</td>\n",
       "      <td>10000-24999</td>\n",
       "      <td>N</td>\n",
       "      <td>6692</td>\n",
       "      <td>1</td>\n",
       "    </tr>\n",
       "    <tr>\n",
       "      <th>4</th>\n",
       "      <td>10556103</td>\n",
       "      <td>GENETIC RESEARCH INSTITUTE OF THE DESERT</td>\n",
       "      <td>T3</td>\n",
       "      <td>Independent</td>\n",
       "      <td>C1000</td>\n",
       "      <td>Heathcare</td>\n",
       "      <td>Trust</td>\n",
       "      <td>1</td>\n",
       "      <td>100000-499999</td>\n",
       "      <td>N</td>\n",
       "      <td>142590</td>\n",
       "      <td>1</td>\n",
       "    </tr>\n",
       "  </tbody>\n",
       "</table>\n",
       "</div>"
      ],
      "text/plain": [
       "        EIN                                      NAME APPLICATION_TYPE  \\\n",
       "0  10520599              BLUE KNIGHTS MOTORCYCLE CLUB              T10   \n",
       "1  10531628    AMERICAN CHESAPEAKE CLUB CHARITABLE TR               T3   \n",
       "2  10547893        ST CLOUD PROFESSIONAL FIREFIGHTERS               T5   \n",
       "3  10553066            SOUTHSIDE ATHLETIC ASSOCIATION               T3   \n",
       "4  10556103  GENETIC RESEARCH INSTITUTE OF THE DESERT               T3   \n",
       "\n",
       "        AFFILIATION CLASSIFICATION      USE_CASE  ORGANIZATION  STATUS  \\\n",
       "0       Independent          C1000    ProductDev   Association       1   \n",
       "1       Independent          C2000  Preservation  Co-operative       1   \n",
       "2  CompanySponsored          C3000    ProductDev   Association       1   \n",
       "3  CompanySponsored          C2000  Preservation         Trust       1   \n",
       "4       Independent          C1000     Heathcare         Trust       1   \n",
       "\n",
       "      INCOME_AMT SPECIAL_CONSIDERATIONS  ASK_AMT  IS_SUCCESSFUL  \n",
       "0              0                      N     5000              1  \n",
       "1         1-9999                      N   108590              1  \n",
       "2              0                      N     5000              0  \n",
       "3    10000-24999                      N     6692              1  \n",
       "4  100000-499999                      N   142590              1  "
      ]
     },
     "execution_count": 3,
     "metadata": {},
     "output_type": "execute_result"
    }
   ],
   "source": [
    "#  Import and read the charity_data.csv.\n",
    "import pandas as pd \n",
    "application_df = pd.read_csv(\"./Resources/charity_data.csv\")\n",
    "application_df.head()"
   ]
  },
  {
   "cell_type": "code",
   "execution_count": 4,
   "metadata": {
    "colab": {
     "base_uri": "https://localhost:8080/"
    },
    "id": "V9DYvILQXM3S",
    "outputId": "4f039de9-8375-47a6-a8d5-81d68879408c"
   },
   "outputs": [
    {
     "name": "stdout",
     "output_type": "stream",
     "text": [
      "<class 'pandas.core.frame.DataFrame'>\n",
      "RangeIndex: 34299 entries, 0 to 34298\n",
      "Data columns (total 12 columns):\n",
      " #   Column                  Non-Null Count  Dtype \n",
      "---  ------                  --------------  ----- \n",
      " 0   EIN                     34299 non-null  int64 \n",
      " 1   NAME                    34299 non-null  object\n",
      " 2   APPLICATION_TYPE        34299 non-null  object\n",
      " 3   AFFILIATION             34299 non-null  object\n",
      " 4   CLASSIFICATION          34299 non-null  object\n",
      " 5   USE_CASE                34299 non-null  object\n",
      " 6   ORGANIZATION            34299 non-null  object\n",
      " 7   STATUS                  34299 non-null  int64 \n",
      " 8   INCOME_AMT              34299 non-null  object\n",
      " 9   SPECIAL_CONSIDERATIONS  34299 non-null  object\n",
      " 10  ASK_AMT                 34299 non-null  int64 \n",
      " 11  IS_SUCCESSFUL           34299 non-null  int64 \n",
      "dtypes: int64(4), object(8)\n",
      "memory usage: 3.1+ MB\n"
     ]
    }
   ],
   "source": [
    "# look at data types\n",
    "application_df.info()"
   ]
  },
  {
   "cell_type": "code",
   "execution_count": 5,
   "metadata": {
    "colab": {
     "base_uri": "https://localhost:8080/"
    },
    "id": "kkCBM0L2XmQI",
    "outputId": "0189001d-b72f-4a2b-8d02-064436365fb7"
   },
   "outputs": [
    {
     "data": {
      "text/plain": [
       "(34299, 12)"
      ]
     },
     "execution_count": 5,
     "metadata": {},
     "output_type": "execute_result"
    }
   ],
   "source": [
    "# check the shape\n",
    "application_df.shape"
   ]
  },
  {
   "cell_type": "code",
   "execution_count": 6,
   "metadata": {
    "colab": {
     "base_uri": "https://localhost:8080/"
    },
    "id": "sbtLB6IXN4cp",
    "outputId": "3323db2d-1ca7-46a5-f53c-88be13513a90"
   },
   "outputs": [
    {
     "name": "stdout",
     "output_type": "stream",
     "text": [
      "<class 'pandas.core.frame.DataFrame'>\n",
      "RangeIndex: 34299 entries, 0 to 34298\n",
      "Data columns (total 11 columns):\n",
      " #   Column                  Non-Null Count  Dtype \n",
      "---  ------                  --------------  ----- \n",
      " 0   NAME                    34299 non-null  object\n",
      " 1   APPLICATION_TYPE        34299 non-null  object\n",
      " 2   AFFILIATION             34299 non-null  object\n",
      " 3   CLASSIFICATION          34299 non-null  object\n",
      " 4   USE_CASE                34299 non-null  object\n",
      " 5   ORGANIZATION            34299 non-null  object\n",
      " 6   STATUS                  34299 non-null  int64 \n",
      " 7   INCOME_AMT              34299 non-null  object\n",
      " 8   SPECIAL_CONSIDERATIONS  34299 non-null  object\n",
      " 9   ASK_AMT                 34299 non-null  int64 \n",
      " 10  IS_SUCCESSFUL           34299 non-null  int64 \n",
      "dtypes: int64(3), object(8)\n",
      "memory usage: 2.9+ MB\n"
     ]
    },
    {
     "name": "stderr",
     "output_type": "stream",
     "text": [
      "C:\\Users\\oscy7\\anaconda3\\envs\\mlenv\\lib\\site-packages\\ipykernel_launcher.py:2: FutureWarning: In a future version of pandas all arguments of DataFrame.drop except for the argument 'labels' will be keyword-only\n",
      "  \n"
     ]
    }
   ],
   "source": [
    "# Drop the non-beneficial ID columns, 'EIN'.\n",
    "application_df = application_df.drop([\"EIN\"], 1)\n",
    "application_df.info()"
   ]
  },
  {
   "cell_type": "code",
   "execution_count": 7,
   "metadata": {
    "colab": {
     "base_uri": "https://localhost:8080/"
    },
    "id": "Xi6uJCJCYHgV",
    "outputId": "8762b405-9823-4494-de28-05ad2c720da1"
   },
   "outputs": [
    {
     "data": {
      "text/plain": [
       "(34299, 11)"
      ]
     },
     "execution_count": 7,
     "metadata": {},
     "output_type": "execute_result"
    }
   ],
   "source": [
    "# check shape\n",
    "application_df.shape"
   ]
  },
  {
   "cell_type": "code",
   "execution_count": 8,
   "metadata": {
    "colab": {
     "base_uri": "https://localhost:8080/"
    },
    "id": "HyDS1d9aN4cp",
    "outputId": "e3d42e38-a967-49eb-beec-b63c30ab1ad4"
   },
   "outputs": [
    {
     "data": {
      "text/plain": [
       "NAME                      19568\n",
       "APPLICATION_TYPE             17\n",
       "AFFILIATION                   6\n",
       "CLASSIFICATION               71\n",
       "USE_CASE                      5\n",
       "ORGANIZATION                  4\n",
       "STATUS                        2\n",
       "INCOME_AMT                    9\n",
       "SPECIAL_CONSIDERATIONS        2\n",
       "ASK_AMT                    8747\n",
       "IS_SUCCESSFUL                 2\n",
       "dtype: int64"
      ]
     },
     "execution_count": 8,
     "metadata": {},
     "output_type": "execute_result"
    }
   ],
   "source": [
    "# Determine the number of unique values in each column.\n",
    "application_df.nunique()"
   ]
  },
  {
   "cell_type": "code",
   "execution_count": 9,
   "metadata": {},
   "outputs": [
    {
     "data": {
      "text/plain": [
       "1    34294\n",
       "0        5\n",
       "Name: STATUS, dtype: int64"
      ]
     },
     "execution_count": 9,
     "metadata": {},
     "output_type": "execute_result"
    }
   ],
   "source": [
    "application_df[\"STATUS\"].value_counts()"
   ]
  },
  {
   "cell_type": "code",
   "execution_count": 10,
   "metadata": {},
   "outputs": [
    {
     "data": {
      "text/plain": [
       "N    34272\n",
       "Y       27\n",
       "Name: SPECIAL_CONSIDERATIONS, dtype: int64"
      ]
     },
     "execution_count": 10,
     "metadata": {},
     "output_type": "execute_result"
    }
   ],
   "source": [
    "application_df[\"SPECIAL_CONSIDERATIONS\"].value_counts()"
   ]
  },
  {
   "cell_type": "code",
   "execution_count": 11,
   "metadata": {},
   "outputs": [
    {
     "name": "stdout",
     "output_type": "stream",
     "text": [
      "<class 'pandas.core.frame.DataFrame'>\n",
      "RangeIndex: 34299 entries, 0 to 34298\n",
      "Data columns (total 9 columns):\n",
      " #   Column            Non-Null Count  Dtype \n",
      "---  ------            --------------  ----- \n",
      " 0   NAME              34299 non-null  object\n",
      " 1   APPLICATION_TYPE  34299 non-null  object\n",
      " 2   AFFILIATION       34299 non-null  object\n",
      " 3   CLASSIFICATION    34299 non-null  object\n",
      " 4   USE_CASE          34299 non-null  object\n",
      " 5   ORGANIZATION      34299 non-null  object\n",
      " 6   INCOME_AMT        34299 non-null  object\n",
      " 7   ASK_AMT           34299 non-null  int64 \n",
      " 8   IS_SUCCESSFUL     34299 non-null  int64 \n",
      "dtypes: int64(2), object(7)\n",
      "memory usage: 2.4+ MB\n"
     ]
    },
    {
     "name": "stderr",
     "output_type": "stream",
     "text": [
      "C:\\Users\\oscy7\\anaconda3\\envs\\mlenv\\lib\\site-packages\\ipykernel_launcher.py:1: FutureWarning: In a future version of pandas all arguments of DataFrame.drop except for the argument 'labels' will be keyword-only\n",
      "  \"\"\"Entry point for launching an IPython kernel.\n"
     ]
    }
   ],
   "source": [
    "application_df = application_df.drop([\"SPECIAL_CONSIDERATIONS\", \"STATUS\"], 1)\n",
    "application_df.info()"
   ]
  },
  {
   "cell_type": "code",
   "execution_count": 12,
   "metadata": {
    "colab": {
     "base_uri": "https://localhost:8080/"
    },
    "id": "7iavf5rEN4cq",
    "outputId": "23e08b1f-1c50-4aa6-82ab-eceb1ecde032"
   },
   "outputs": [
    {
     "data": {
      "text/plain": [
       "T3     27037\n",
       "T4      1542\n",
       "T6      1216\n",
       "T5      1173\n",
       "T19     1065\n",
       "T8       737\n",
       "T7       725\n",
       "T10      528\n",
       "T9       156\n",
       "T13       66\n",
       "T12       27\n",
       "T2        16\n",
       "T25        3\n",
       "T14        3\n",
       "T29        2\n",
       "T15        2\n",
       "T17        1\n",
       "Name: APPLICATION_TYPE, dtype: int64"
      ]
     },
     "execution_count": 12,
     "metadata": {},
     "output_type": "execute_result"
    }
   ],
   "source": [
    "# Look at APPLICATION_TYPE value counts fo\n",
    "application_counts = application_df[\"APPLICATION_TYPE\"].value_counts()\n",
    "application_counts"
   ]
  },
  {
   "cell_type": "code",
   "execution_count": 13,
   "metadata": {
    "colab": {
     "base_uri": "https://localhost:8080/",
     "height": 285
    },
    "id": "RN54tHR_N4cq",
    "outputId": "ca3e2c90-edf0-46a2-b2d3-30e14d991c3d"
   },
   "outputs": [
    {
     "data": {
      "text/plain": [
       "<AxesSubplot:ylabel='Density'>"
      ]
     },
     "execution_count": 13,
     "metadata": {},
     "output_type": "execute_result"
    },
    {
     "data": {
      "image/png": "[encoded data removed]",
      "text/plain": [
       "<Figure size 432x288 with 1 Axes>"
      ]
     },
     "metadata": {},
     "output_type": "display_data"
    }
   ],
   "source": [
    "# Visualize the value counts of APPLICATION_TYPE\n",
    "application_counts.plot.density()"
   ]
  },
  {
   "cell_type": "code",
   "execution_count": 14,
   "metadata": {
    "colab": {
     "base_uri": "https://localhost:8080/"
    },
    "id": "4xjMyghiN4cr",
    "outputId": "62418e5b-7677-4f00-dbeb-4f4a798e2738"
   },
   "outputs": [
    {
     "data": {
      "text/plain": [
       "T3       27037\n",
       "T4        1542\n",
       "T6        1216\n",
       "T5        1173\n",
       "T19       1065\n",
       "T8         737\n",
       "T7         725\n",
       "T10        528\n",
       "Other      276\n",
       "Name: APPLICATION_TYPE, dtype: int64"
      ]
     },
     "execution_count": 14,
     "metadata": {},
     "output_type": "execute_result"
    }
   ],
   "source": [
    "# Determine which values to replace if counts are less than ...?\n",
    "replace_application = list(application_counts[application_counts < 500].index)\n",
    "\n",
    "# Replace in dataframe\n",
    "for app in replace_application:\n",
    "    application_df[\"APPLICATION_TYPE\"] = application_df[\"APPLICATION_TYPE\"].replace(app,\"Other\")\n",
    "    \n",
    "# Check to make sure binning was successful\n",
    "application_df.APPLICATION_TYPE.value_counts()"
   ]
  },
  {
   "cell_type": "code",
   "execution_count": 15,
   "metadata": {
    "colab": {
     "base_uri": "https://localhost:8080/"
    },
    "id": "BoH0xA7uN4cr",
    "outputId": "033e9f66-1790-473a-ac51-6641558a9ffd"
   },
   "outputs": [
    {
     "data": {
      "text/plain": [
       "C1000    17326\n",
       "C2000     6074\n",
       "C1200     4837\n",
       "C3000     1918\n",
       "C2100     1883\n",
       "         ...  \n",
       "C4120        1\n",
       "C8210        1\n",
       "C2561        1\n",
       "C4500        1\n",
       "C2150        1\n",
       "Name: CLASSIFICATION, Length: 71, dtype: int64"
      ]
     },
     "execution_count": 15,
     "metadata": {},
     "output_type": "execute_result"
    }
   ],
   "source": [
    "# Look at CLASSIFICATION value counts for binning\n",
    "class_counts = application_df[\"CLASSIFICATION\"].value_counts()\n",
    "class_counts"
   ]
  },
  {
   "cell_type": "code",
   "execution_count": 16,
   "metadata": {
    "colab": {
     "base_uri": "https://localhost:8080/",
     "height": 285
    },
    "id": "dWX7ld8VN4cr",
    "outputId": "bdec5dc4-50fb-4687-fc28-29d3e88bd74a"
   },
   "outputs": [
    {
     "data": {
      "text/plain": [
       "<AxesSubplot:ylabel='Density'>"
      ]
     },
     "execution_count": 16,
     "metadata": {},
     "output_type": "execute_result"
    },
    {
     "data": {
      "image/png": "[encoded data removed]",
      "text/plain": [
       "<Figure size 432x288 with 1 Axes>"
      ]
     },
     "metadata": {},
     "output_type": "display_data"
    }
   ],
   "source": [
    "# Visualize the value counts of CLASSIFICATION\n",
    "class_counts.plot.density()"
   ]
  },
  {
   "cell_type": "code",
   "execution_count": 17,
   "metadata": {
    "colab": {
     "base_uri": "https://localhost:8080/"
    },
    "id": "RFdHqKsff0Jc",
    "outputId": "dd2f3a1b-96d8-4797-d1e5-95b65929377e"
   },
   "outputs": [
    {
     "data": {
      "text/plain": [
       "['C7000',\n",
       " 'C1700',\n",
       " 'C4000',\n",
       " 'C5000',\n",
       " 'C1270',\n",
       " 'C2700',\n",
       " 'C2800',\n",
       " 'C7100',\n",
       " 'C1300',\n",
       " 'C1280',\n",
       " 'C1230',\n",
       " 'C1400',\n",
       " 'C7200',\n",
       " 'C2300',\n",
       " 'C1240',\n",
       " 'C8000',\n",
       " 'C7120',\n",
       " 'C1500',\n",
       " 'C1800',\n",
       " 'C6000',\n",
       " 'C1250',\n",
       " 'C8200',\n",
       " 'C1238',\n",
       " 'C1278',\n",
       " 'C1235',\n",
       " 'C1237',\n",
       " 'C7210',\n",
       " 'C2400',\n",
       " 'C1720',\n",
       " 'C4100',\n",
       " 'C1257',\n",
       " 'C1600',\n",
       " 'C1260',\n",
       " 'C2710',\n",
       " 'C0',\n",
       " 'C3200',\n",
       " 'C1234',\n",
       " 'C1246',\n",
       " 'C1267',\n",
       " 'C1256',\n",
       " 'C2190',\n",
       " 'C4200',\n",
       " 'C2600',\n",
       " 'C5200',\n",
       " 'C1370',\n",
       " 'C1248',\n",
       " 'C6100',\n",
       " 'C1820',\n",
       " 'C1900',\n",
       " 'C1236',\n",
       " 'C3700',\n",
       " 'C2570',\n",
       " 'C1580',\n",
       " 'C1245',\n",
       " 'C2500',\n",
       " 'C1570',\n",
       " 'C1283',\n",
       " 'C2380',\n",
       " 'C1732',\n",
       " 'C1728',\n",
       " 'C2170',\n",
       " 'C4120',\n",
       " 'C8210',\n",
       " 'C2561',\n",
       " 'C4500',\n",
       " 'C2150']"
      ]
     },
     "execution_count": 17,
     "metadata": {},
     "output_type": "execute_result"
    }
   ],
   "source": [
    "list(class_counts[class_counts < 1000].index)"
   ]
  },
  {
   "cell_type": "code",
   "execution_count": 18,
   "metadata": {
    "colab": {
     "base_uri": "https://localhost:8080/"
    },
    "id": "mtOnUIj3N4cr",
    "outputId": "7d52dfa4-497c-463f-d552-15bd3e5277d2"
   },
   "outputs": [
    {
     "data": {
      "text/plain": [
       "C1000    17326\n",
       "C2000     6074\n",
       "C1200     4837\n",
       "Other     2261\n",
       "C3000     1918\n",
       "C2100     1883\n",
       "Name: CLASSIFICATION, dtype: int64"
      ]
     },
     "execution_count": 18,
     "metadata": {},
     "output_type": "execute_result"
    }
   ],
   "source": [
    "# Determine which values to replace if counts are less than ..?\n",
    "replace_class = list(class_counts[class_counts < 1000].index)\n",
    "\n",
    "# Replace in dataframe\n",
    "for cls in replace_class:\n",
    "    application_df[\"CLASSIFICATION\"] = application_df[\"CLASSIFICATION\"].replace(cls,\"Other\")\n",
    "    \n",
    "# Check to make sure binning was successful\n",
    "application_df.CLASSIFICATION.value_counts()"
   ]
  },
  {
   "cell_type": "code",
   "execution_count": 19,
   "metadata": {
    "colab": {
     "base_uri": "https://localhost:8080/"
    },
    "id": "Zd3ujZibymV6",
    "outputId": "667c4765-5954-4996-f99e-adb69a69e046"
   },
   "outputs": [
    {
     "data": {
      "text/plain": [
       "NAME                19568\n",
       "APPLICATION_TYPE        9\n",
       "AFFILIATION             6\n",
       "CLASSIFICATION          6\n",
       "USE_CASE                5\n",
       "ORGANIZATION            4\n",
       "INCOME_AMT              9\n",
       "ASK_AMT              8747\n",
       "IS_SUCCESSFUL           2\n",
       "dtype: int64"
      ]
     },
     "execution_count": 19,
     "metadata": {},
     "output_type": "execute_result"
    }
   ],
   "source": [
    "application_df.nunique()"
   ]
  },
  {
   "cell_type": "code",
   "execution_count": 20,
   "metadata": {},
   "outputs": [
    {
     "name": "stdout",
     "output_type": "stream",
     "text": [
      "<class 'pandas.core.frame.DataFrame'>\n",
      "RangeIndex: 34299 entries, 0 to 34298\n",
      "Data columns (total 9 columns):\n",
      " #   Column            Non-Null Count  Dtype \n",
      "---  ------            --------------  ----- \n",
      " 0   NAME              34299 non-null  object\n",
      " 1   APPLICATION_TYPE  34299 non-null  object\n",
      " 2   AFFILIATION       34299 non-null  object\n",
      " 3   CLASSIFICATION    34299 non-null  object\n",
      " 4   USE_CASE          34299 non-null  object\n",
      " 5   ORGANIZATION      34299 non-null  object\n",
      " 6   INCOME_AMT        34299 non-null  object\n",
      " 7   ASK_AMT           34299 non-null  int64 \n",
      " 8   IS_SUCCESSFUL     34299 non-null  int64 \n",
      "dtypes: int64(2), object(7)\n",
      "memory usage: 2.4+ MB\n"
     ]
    }
   ],
   "source": [
    "application_df.info()"
   ]
  },
  {
   "cell_type": "code",
   "execution_count": 21,
   "metadata": {},
   "outputs": [
    {
     "data": {
      "text/plain": [
       "PARENT BOOSTER USA INC                                                  1260\n",
       "TOPS CLUB INC                                                            765\n",
       "UNITED STATES BOWLING CONGRESS INC                                       700\n",
       "WASHINGTON STATE UNIVERSITY                                              492\n",
       "AMATEUR ATHLETIC UNION OF THE UNITED STATES INC                          408\n",
       "                                                                        ... \n",
       "ST LOUIS SLAM WOMENS FOOTBALL                                              1\n",
       "AIESEC ALUMNI IBEROAMERICA CORP                                            1\n",
       "WEALLBLEEDRED ORG INC                                                      1\n",
       "AMERICAN SOCIETY FOR STANDARDS IN MEDIUMSHIP & PSYCHICAL INVESTIGATI       1\n",
       "WATERHOUSE CHARITABLE TR                                                   1\n",
       "Name: NAME, Length: 19568, dtype: int64"
      ]
     },
     "execution_count": 21,
     "metadata": {},
     "output_type": "execute_result"
    }
   ],
   "source": [
    "# look at name value counts\n",
    "name_counts = application_df[\"NAME\"].value_counts()\n",
    "name_counts"
   ]
  },
  {
   "cell_type": "code",
   "execution_count": 22,
   "metadata": {},
   "outputs": [
    {
     "data": {
      "text/plain": [
       "<AxesSubplot:ylabel='Density'>"
      ]
     },
     "execution_count": 22,
     "metadata": {},
     "output_type": "execute_result"
    },
    {
     "data": {
      "image/png": "[encoded data removed]",
      "text/plain": [
       "<Figure size 432x288 with 1 Axes>"
      ]
     },
     "metadata": {},
     "output_type": "display_data"
    }
   ],
   "source": [
    "name_counts.plot.density()"
   ]
  },
  {
   "cell_type": "code",
   "execution_count": 23,
   "metadata": {},
   "outputs": [
    {
     "data": {
      "text/plain": [
       "ARTS SCIENCE AND TECHNOLOGY EDUCATIONAL CORPORATION OF TEHACHA          1\n",
       "UPTE-CWA RETIRED MEMBERS CHAPTER 9119                                   1\n",
       "WORLD PRESIDENTS ORGANIZATION INC                                       1\n",
       "HOMELESS ANIMAL RESCUE TEAM                                             1\n",
       "DREAM WEAVER CHARITABLE TR                                              1\n",
       "                                                                       ..\n",
       "ST LOUIS SLAM WOMENS FOOTBALL                                           1\n",
       "AIESEC ALUMNI IBEROAMERICA CORP                                         1\n",
       "WEALLBLEEDRED ORG INC                                                   1\n",
       "AMERICAN SOCIETY FOR STANDARDS IN MEDIUMSHIP & PSYCHICAL INVESTIGATI    1\n",
       "WATERHOUSE CHARITABLE TR                                                1\n",
       "Name: NAME, Length: 18776, dtype: int64"
      ]
     },
     "execution_count": 23,
     "metadata": {},
     "output_type": "execute_result"
    }
   ],
   "source": [
    "name_counts[name_counts <= 1]"
   ]
  },
  {
   "cell_type": "code",
   "execution_count": 24,
   "metadata": {},
   "outputs": [
    {
     "data": {
      "text/plain": [
       "FLORIDA FAMILY CHILD CARE HOME ASSOCIATION INC                          5\n",
       "GERONTOLOGICAL ADVANCED PRACTICE NURSES ASSOCIATION                     5\n",
       "INTERNATIONL TRANSPLANT NURSES SOCIETY                                  5\n",
       "NATIONAL ORGANIZATION FOR WOMEN INC                                     5\n",
       "PTA HAWAII CONGRESS                                                     5\n",
       "                                                                       ..\n",
       "ST LOUIS SLAM WOMENS FOOTBALL                                           1\n",
       "AIESEC ALUMNI IBEROAMERICA CORP                                         1\n",
       "WEALLBLEEDRED ORG INC                                                   1\n",
       "AMERICAN SOCIETY FOR STANDARDS IN MEDIUMSHIP & PSYCHICAL INVESTIGATI    1\n",
       "WATERHOUSE CHARITABLE TR                                                1\n",
       "Name: NAME, Length: 19214, dtype: int64"
      ]
     },
     "execution_count": 24,
     "metadata": {},
     "output_type": "execute_result"
    }
   ],
   "source": [
    "name_counts[name_counts <= 5]"
   ]
  },
  {
   "cell_type": "code",
   "execution_count": 25,
   "metadata": {},
   "outputs": [
    {
     "data": {
      "text/plain": [
       "AIR FORCE ASSOCIATION                                      99\n",
       "WORKERS UNITED                                             97\n",
       "GAMMA THETA UPSILON                                        92\n",
       "INTERNATIONAL ASSOCIATION OF FIRE FIGHTERS                 91\n",
       "SOCIETY OF SAINT VINCENT DE PAUL COUNCIL OF LOS ANGELES    87\n",
       "                                                           ..\n",
       "OLD OAK CLIFF CONSERVATION LEAGUE INC                       6\n",
       "AMERICAN NEPHROLOGY NURSES ASSOCIATION                      6\n",
       "HUMBLE ISD EDUCATIONAL SUPPORT GROUPS INC                   6\n",
       "PROFESSIONAL LOADMASTER ASSOCIATION                         6\n",
       "CBMC INC                                                    6\n",
       "Name: NAME, Length: 324, dtype: int64"
      ]
     },
     "execution_count": 25,
     "metadata": {},
     "output_type": "execute_result"
    }
   ],
   "source": [
    "name_counts[(name_counts <= 100) & (name_counts > 5)]"
   ]
  },
  {
   "cell_type": "code",
   "execution_count": 26,
   "metadata": {},
   "outputs": [
    {
     "data": {
      "text/plain": [
       "30"
      ]
     },
     "execution_count": 26,
     "metadata": {},
     "output_type": "execute_result"
    }
   ],
   "source": [
    "len(name_counts[name_counts >100])"
   ]
  },
  {
   "cell_type": "code",
   "execution_count": 27,
   "metadata": {},
   "outputs": [
    {
     "data": {
      "text/plain": [
       "Other                                           20043\n",
       "PARENT BOOSTER USA INC                           1260\n",
       "TOPS CLUB INC                                     765\n",
       "UNITED STATES BOWLING CONGRESS INC                700\n",
       "WASHINGTON STATE UNIVERSITY                       492\n",
       "                                                ...  \n",
       "HABITAT FOR HUMANITY INTERNATIONAL                  6\n",
       "DAMAGE PREVENTION COUNCIL OF TEXAS                  6\n",
       "FLEET RESERVE ASSOCIATION                           6\n",
       "HUGH OBRIAN YOUTH LEADERSHIP                        6\n",
       "INTERNATIONAL CONGRESS OF CHURCHES MINISTERS        6\n",
       "Name: NAME, Length: 355, dtype: int64"
      ]
     },
     "execution_count": 27,
     "metadata": {},
     "output_type": "execute_result"
    }
   ],
   "source": [
    "# use Bucket technique\n",
    "replace_application = list(name_counts[name_counts <=5].index)\n",
    "\n",
    "#replace in df\n",
    "for app in replace_application:\n",
    "    application_df[\"NAME\"] = application_df[\"NAME\"].replace(app,\"Other\")\n",
    "    \n",
    "#check to make sure binning was successful\n",
    "application_df.NAME.value_counts()"
   ]
  },
  {
   "cell_type": "code",
   "execution_count": 28,
   "metadata": {},
   "outputs": [
    {
     "data": {
      "text/plain": [
       "NAME                object\n",
       "APPLICATION_TYPE    object\n",
       "AFFILIATION         object\n",
       "CLASSIFICATION      object\n",
       "USE_CASE            object\n",
       "ORGANIZATION        object\n",
       "INCOME_AMT          object\n",
       "ASK_AMT              int64\n",
       "IS_SUCCESSFUL        int64\n",
       "dtype: object"
      ]
     },
     "execution_count": 28,
     "metadata": {},
     "output_type": "execute_result"
    }
   ],
   "source": [
    "application_df.dtypes"
   ]
  },
  {
   "cell_type": "code",
   "execution_count": 29,
   "metadata": {
    "colab": {
     "base_uri": "https://localhost:8080/"
    },
    "id": "jOA8KNMRpkLQ",
    "outputId": "b8a8b09b-946e-43c4-a1ba-4648f3f181ed"
   },
   "outputs": [
    {
     "data": {
      "text/plain": [
       "['NAME',\n",
       " 'APPLICATION_TYPE',\n",
       " 'AFFILIATION',\n",
       " 'CLASSIFICATION',\n",
       " 'USE_CASE',\n",
       " 'ORGANIZATION',\n",
       " 'INCOME_AMT']"
      ]
     },
     "execution_count": 29,
     "metadata": {},
     "output_type": "execute_result"
    }
   ],
   "source": [
    "application_df.dtypes[application_df.dtypes == \"object\"].index.tolist()"
   ]
  },
  {
   "cell_type": "code",
   "execution_count": 30,
   "metadata": {
    "colab": {
     "base_uri": "https://localhost:8080/"
    },
    "id": "lRArOFb7N4cs",
    "outputId": "614f99ba-1fcf-4bdb-fe2b-6c64cba4ea94"
   },
   "outputs": [
    {
     "data": {
      "text/plain": [
       "['NAME',\n",
       " 'APPLICATION_TYPE',\n",
       " 'AFFILIATION',\n",
       " 'CLASSIFICATION',\n",
       " 'USE_CASE',\n",
       " 'ORGANIZATION',\n",
       " 'INCOME_AMT']"
      ]
     },
     "execution_count": 30,
     "metadata": {},
     "output_type": "execute_result"
    }
   ],
   "source": [
    "# Generate our categorical variable lists\n",
    "application_cat = application_df.dtypes[application_df.dtypes == \"object\"].index.tolist()\n",
    "application_cat"
   ]
  },
  {
   "cell_type": "code",
   "execution_count": 31,
   "metadata": {
    "colab": {
     "base_uri": "https://localhost:8080/",
     "height": 424
    },
    "id": "IeSM1sOfoHBj",
    "outputId": "026681b3-f024-453d-84d6-df153e03f5d9"
   },
   "outputs": [
    {
     "data": {
      "text/html": [
       "<div>\n",
       "<style scoped>\n",
       "    .dataframe tbody tr th:only-of-type {\n",
       "        vertical-align: middle;\n",
       "    }\n",
       "\n",
       "    .dataframe tbody tr th {\n",
       "        vertical-align: top;\n",
       "    }\n",
       "\n",
       "    .dataframe thead th {\n",
       "        text-align: right;\n",
       "    }\n",
       "</style>\n",
       "<table border=\"1\" class=\"dataframe\">\n",
       "  <thead>\n",
       "    <tr style=\"text-align: right;\">\n",
       "      <th></th>\n",
       "      <th>NAME</th>\n",
       "      <th>APPLICATION_TYPE</th>\n",
       "      <th>AFFILIATION</th>\n",
       "      <th>CLASSIFICATION</th>\n",
       "      <th>USE_CASE</th>\n",
       "      <th>ORGANIZATION</th>\n",
       "      <th>INCOME_AMT</th>\n",
       "    </tr>\n",
       "  </thead>\n",
       "  <tbody>\n",
       "    <tr>\n",
       "      <th>0</th>\n",
       "      <td>BLUE KNIGHTS MOTORCYCLE CLUB</td>\n",
       "      <td>T10</td>\n",
       "      <td>Independent</td>\n",
       "      <td>C1000</td>\n",
       "      <td>ProductDev</td>\n",
       "      <td>Association</td>\n",
       "      <td>0</td>\n",
       "    </tr>\n",
       "    <tr>\n",
       "      <th>1</th>\n",
       "      <td>Other</td>\n",
       "      <td>T3</td>\n",
       "      <td>Independent</td>\n",
       "      <td>C2000</td>\n",
       "      <td>Preservation</td>\n",
       "      <td>Co-operative</td>\n",
       "      <td>1-9999</td>\n",
       "    </tr>\n",
       "    <tr>\n",
       "      <th>2</th>\n",
       "      <td>Other</td>\n",
       "      <td>T5</td>\n",
       "      <td>CompanySponsored</td>\n",
       "      <td>C3000</td>\n",
       "      <td>ProductDev</td>\n",
       "      <td>Association</td>\n",
       "      <td>0</td>\n",
       "    </tr>\n",
       "    <tr>\n",
       "      <th>3</th>\n",
       "      <td>Other</td>\n",
       "      <td>T3</td>\n",
       "      <td>CompanySponsored</td>\n",
       "      <td>C2000</td>\n",
       "      <td>Preservation</td>\n",
       "      <td>Trust</td>\n",
       "      <td>10000-24999</td>\n",
       "    </tr>\n",
       "    <tr>\n",
       "      <th>4</th>\n",
       "      <td>Other</td>\n",
       "      <td>T3</td>\n",
       "      <td>Independent</td>\n",
       "      <td>C1000</td>\n",
       "      <td>Heathcare</td>\n",
       "      <td>Trust</td>\n",
       "      <td>100000-499999</td>\n",
       "    </tr>\n",
       "    <tr>\n",
       "      <th>...</th>\n",
       "      <td>...</td>\n",
       "      <td>...</td>\n",
       "      <td>...</td>\n",
       "      <td>...</td>\n",
       "      <td>...</td>\n",
       "      <td>...</td>\n",
       "      <td>...</td>\n",
       "    </tr>\n",
       "    <tr>\n",
       "      <th>34294</th>\n",
       "      <td>Other</td>\n",
       "      <td>T4</td>\n",
       "      <td>Independent</td>\n",
       "      <td>C1000</td>\n",
       "      <td>ProductDev</td>\n",
       "      <td>Association</td>\n",
       "      <td>0</td>\n",
       "    </tr>\n",
       "    <tr>\n",
       "      <th>34295</th>\n",
       "      <td>INTERNATIONAL ASSOCIATION OF LIONS CLUBS</td>\n",
       "      <td>T4</td>\n",
       "      <td>CompanySponsored</td>\n",
       "      <td>C3000</td>\n",
       "      <td>ProductDev</td>\n",
       "      <td>Association</td>\n",
       "      <td>0</td>\n",
       "    </tr>\n",
       "    <tr>\n",
       "      <th>34296</th>\n",
       "      <td>Other</td>\n",
       "      <td>T3</td>\n",
       "      <td>CompanySponsored</td>\n",
       "      <td>C2000</td>\n",
       "      <td>Preservation</td>\n",
       "      <td>Association</td>\n",
       "      <td>0</td>\n",
       "    </tr>\n",
       "    <tr>\n",
       "      <th>34297</th>\n",
       "      <td>Other</td>\n",
       "      <td>T5</td>\n",
       "      <td>Independent</td>\n",
       "      <td>C3000</td>\n",
       "      <td>ProductDev</td>\n",
       "      <td>Association</td>\n",
       "      <td>0</td>\n",
       "    </tr>\n",
       "    <tr>\n",
       "      <th>34298</th>\n",
       "      <td>Other</td>\n",
       "      <td>T3</td>\n",
       "      <td>Independent</td>\n",
       "      <td>C1000</td>\n",
       "      <td>Preservation</td>\n",
       "      <td>Co-operative</td>\n",
       "      <td>1M-5M</td>\n",
       "    </tr>\n",
       "  </tbody>\n",
       "</table>\n",
       "<p>34299 rows × 7 columns</p>\n",
       "</div>"
      ],
      "text/plain": [
       "                                           NAME APPLICATION_TYPE  \\\n",
       "0                  BLUE KNIGHTS MOTORCYCLE CLUB              T10   \n",
       "1                                         Other               T3   \n",
       "2                                         Other               T5   \n",
       "3                                         Other               T3   \n",
       "4                                         Other               T3   \n",
       "...                                         ...              ...   \n",
       "34294                                     Other               T4   \n",
       "34295  INTERNATIONAL ASSOCIATION OF LIONS CLUBS               T4   \n",
       "34296                                     Other               T3   \n",
       "34297                                     Other               T5   \n",
       "34298                                     Other               T3   \n",
       "\n",
       "            AFFILIATION CLASSIFICATION      USE_CASE  ORGANIZATION  \\\n",
       "0           Independent          C1000    ProductDev   Association   \n",
       "1           Independent          C2000  Preservation  Co-operative   \n",
       "2      CompanySponsored          C3000    ProductDev   Association   \n",
       "3      CompanySponsored          C2000  Preservation         Trust   \n",
       "4           Independent          C1000     Heathcare         Trust   \n",
       "...                 ...            ...           ...           ...   \n",
       "34294       Independent          C1000    ProductDev   Association   \n",
       "34295  CompanySponsored          C3000    ProductDev   Association   \n",
       "34296  CompanySponsored          C2000  Preservation   Association   \n",
       "34297       Independent          C3000    ProductDev   Association   \n",
       "34298       Independent          C1000  Preservation  Co-operative   \n",
       "\n",
       "          INCOME_AMT  \n",
       "0                  0  \n",
       "1             1-9999  \n",
       "2                  0  \n",
       "3        10000-24999  \n",
       "4      100000-499999  \n",
       "...              ...  \n",
       "34294              0  \n",
       "34295              0  \n",
       "34296              0  \n",
       "34297              0  \n",
       "34298          1M-5M  \n",
       "\n",
       "[34299 rows x 7 columns]"
      ]
     },
     "execution_count": 31,
     "metadata": {},
     "output_type": "execute_result"
    }
   ],
   "source": [
    "#testing\n",
    "application_df[application_cat]"
   ]
  },
  {
   "cell_type": "code",
   "execution_count": 32,
   "metadata": {
    "colab": {
     "base_uri": "https://localhost:8080/",
     "height": 352
    },
    "id": "nRbDBi73N4cs",
    "outputId": "c498e757-6564-4bb7-edd5-a87fcce93ecf"
   },
   "outputs": [
    {
     "name": "stderr",
     "output_type": "stream",
     "text": [
      "C:\\Users\\oscy7\\anaconda3\\envs\\mlenv\\lib\\site-packages\\sklearn\\utils\\deprecation.py:87: FutureWarning: Function get_feature_names is deprecated; get_feature_names is deprecated in 1.0 and will be removed in 1.2. Please use get_feature_names_out instead.\n",
      "  warnings.warn(msg, category=FutureWarning)\n"
     ]
    },
    {
     "data": {
      "text/html": [
       "<div>\n",
       "<style scoped>\n",
       "    .dataframe tbody tr th:only-of-type {\n",
       "        vertical-align: middle;\n",
       "    }\n",
       "\n",
       "    .dataframe tbody tr th {\n",
       "        vertical-align: top;\n",
       "    }\n",
       "\n",
       "    .dataframe thead th {\n",
       "        text-align: right;\n",
       "    }\n",
       "</style>\n",
       "<table border=\"1\" class=\"dataframe\">\n",
       "  <thead>\n",
       "    <tr style=\"text-align: right;\">\n",
       "      <th></th>\n",
       "      <th>NAME_AACE INTERNATIONAL</th>\n",
       "      <th>NAME_ACE MENTOR PROGRAM OF AMERICA INC</th>\n",
       "      <th>NAME_AFRICAN-AMERICAN POSTAL LEAGUE UNITED FOR SUCCESS A-PLUS</th>\n",
       "      <th>NAME_AIR FORCE ASSOCIATION</th>\n",
       "      <th>NAME_ALABAMA FEDERATION OF WOMENS CLUBS</th>\n",
       "      <th>NAME_ALABAMA TREASURE FOREST ASSOCIATION</th>\n",
       "      <th>NAME_ALBANY STATE UNIVERSITY NATIONAL ALUMNI ASSOCIATION</th>\n",
       "      <th>NAME_ALPHA PHI OMEGA</th>\n",
       "      <th>NAME_ALPHA PHI SIGMA</th>\n",
       "      <th>NAME_ALPHA PHI SIGMA INC</th>\n",
       "      <th>...</th>\n",
       "      <th>ORGANIZATION_Trust</th>\n",
       "      <th>INCOME_AMT_0</th>\n",
       "      <th>INCOME_AMT_1-9999</th>\n",
       "      <th>INCOME_AMT_10000-24999</th>\n",
       "      <th>INCOME_AMT_100000-499999</th>\n",
       "      <th>INCOME_AMT_10M-50M</th>\n",
       "      <th>INCOME_AMT_1M-5M</th>\n",
       "      <th>INCOME_AMT_25000-99999</th>\n",
       "      <th>INCOME_AMT_50M+</th>\n",
       "      <th>INCOME_AMT_5M-10M</th>\n",
       "    </tr>\n",
       "  </thead>\n",
       "  <tbody>\n",
       "    <tr>\n",
       "      <th>0</th>\n",
       "      <td>0.0</td>\n",
       "      <td>0.0</td>\n",
       "      <td>0.0</td>\n",
       "      <td>0.0</td>\n",
       "      <td>0.0</td>\n",
       "      <td>0.0</td>\n",
       "      <td>0.0</td>\n",
       "      <td>0.0</td>\n",
       "      <td>0.0</td>\n",
       "      <td>0.0</td>\n",
       "      <td>...</td>\n",
       "      <td>0.0</td>\n",
       "      <td>1.0</td>\n",
       "      <td>0.0</td>\n",
       "      <td>0.0</td>\n",
       "      <td>0.0</td>\n",
       "      <td>0.0</td>\n",
       "      <td>0.0</td>\n",
       "      <td>0.0</td>\n",
       "      <td>0.0</td>\n",
       "      <td>0.0</td>\n",
       "    </tr>\n",
       "    <tr>\n",
       "      <th>1</th>\n",
       "      <td>0.0</td>\n",
       "      <td>0.0</td>\n",
       "      <td>0.0</td>\n",
       "      <td>0.0</td>\n",
       "      <td>0.0</td>\n",
       "      <td>0.0</td>\n",
       "      <td>0.0</td>\n",
       "      <td>0.0</td>\n",
       "      <td>0.0</td>\n",
       "      <td>0.0</td>\n",
       "      <td>...</td>\n",
       "      <td>0.0</td>\n",
       "      <td>0.0</td>\n",
       "      <td>1.0</td>\n",
       "      <td>0.0</td>\n",
       "      <td>0.0</td>\n",
       "      <td>0.0</td>\n",
       "      <td>0.0</td>\n",
       "      <td>0.0</td>\n",
       "      <td>0.0</td>\n",
       "      <td>0.0</td>\n",
       "    </tr>\n",
       "    <tr>\n",
       "      <th>2</th>\n",
       "      <td>0.0</td>\n",
       "      <td>0.0</td>\n",
       "      <td>0.0</td>\n",
       "      <td>0.0</td>\n",
       "      <td>0.0</td>\n",
       "      <td>0.0</td>\n",
       "      <td>0.0</td>\n",
       "      <td>0.0</td>\n",
       "      <td>0.0</td>\n",
       "      <td>0.0</td>\n",
       "      <td>...</td>\n",
       "      <td>0.0</td>\n",
       "      <td>1.0</td>\n",
       "      <td>0.0</td>\n",
       "      <td>0.0</td>\n",
       "      <td>0.0</td>\n",
       "      <td>0.0</td>\n",
       "      <td>0.0</td>\n",
       "      <td>0.0</td>\n",
       "      <td>0.0</td>\n",
       "      <td>0.0</td>\n",
       "    </tr>\n",
       "    <tr>\n",
       "      <th>3</th>\n",
       "      <td>0.0</td>\n",
       "      <td>0.0</td>\n",
       "      <td>0.0</td>\n",
       "      <td>0.0</td>\n",
       "      <td>0.0</td>\n",
       "      <td>0.0</td>\n",
       "      <td>0.0</td>\n",
       "      <td>0.0</td>\n",
       "      <td>0.0</td>\n",
       "      <td>0.0</td>\n",
       "      <td>...</td>\n",
       "      <td>1.0</td>\n",
       "      <td>0.0</td>\n",
       "      <td>0.0</td>\n",
       "      <td>1.0</td>\n",
       "      <td>0.0</td>\n",
       "      <td>0.0</td>\n",
       "      <td>0.0</td>\n",
       "      <td>0.0</td>\n",
       "      <td>0.0</td>\n",
       "      <td>0.0</td>\n",
       "    </tr>\n",
       "    <tr>\n",
       "      <th>4</th>\n",
       "      <td>0.0</td>\n",
       "      <td>0.0</td>\n",
       "      <td>0.0</td>\n",
       "      <td>0.0</td>\n",
       "      <td>0.0</td>\n",
       "      <td>0.0</td>\n",
       "      <td>0.0</td>\n",
       "      <td>0.0</td>\n",
       "      <td>0.0</td>\n",
       "      <td>0.0</td>\n",
       "      <td>...</td>\n",
       "      <td>1.0</td>\n",
       "      <td>0.0</td>\n",
       "      <td>0.0</td>\n",
       "      <td>0.0</td>\n",
       "      <td>1.0</td>\n",
       "      <td>0.0</td>\n",
       "      <td>0.0</td>\n",
       "      <td>0.0</td>\n",
       "      <td>0.0</td>\n",
       "      <td>0.0</td>\n",
       "    </tr>\n",
       "  </tbody>\n",
       "</table>\n",
       "<p>5 rows × 394 columns</p>\n",
       "</div>"
      ],
      "text/plain": [
       "   NAME_AACE INTERNATIONAL  NAME_ACE MENTOR PROGRAM OF AMERICA INC  \\\n",
       "0                      0.0                                     0.0   \n",
       "1                      0.0                                     0.0   \n",
       "2                      0.0                                     0.0   \n",
       "3                      0.0                                     0.0   \n",
       "4                      0.0                                     0.0   \n",
       "\n",
       "   NAME_AFRICAN-AMERICAN POSTAL LEAGUE UNITED FOR SUCCESS A-PLUS  \\\n",
       "0                                                0.0               \n",
       "1                                                0.0               \n",
       "2                                                0.0               \n",
       "3                                                0.0               \n",
       "4                                                0.0               \n",
       "\n",
       "   NAME_AIR FORCE ASSOCIATION  NAME_ALABAMA FEDERATION OF WOMENS CLUBS  \\\n",
       "0                         0.0                                      0.0   \n",
       "1                         0.0                                      0.0   \n",
       "2                         0.0                                      0.0   \n",
       "3                         0.0                                      0.0   \n",
       "4                         0.0                                      0.0   \n",
       "\n",
       "   NAME_ALABAMA TREASURE FOREST ASSOCIATION  \\\n",
       "0                                       0.0   \n",
       "1                                       0.0   \n",
       "2                                       0.0   \n",
       "3                                       0.0   \n",
       "4                                       0.0   \n",
       "\n",
       "   NAME_ALBANY STATE UNIVERSITY NATIONAL ALUMNI ASSOCIATION  \\\n",
       "0                                                0.0          \n",
       "1                                                0.0          \n",
       "2                                                0.0          \n",
       "3                                                0.0          \n",
       "4                                                0.0          \n",
       "\n",
       "   NAME_ALPHA PHI OMEGA  NAME_ALPHA PHI SIGMA  NAME_ALPHA PHI SIGMA INC  ...  \\\n",
       "0                   0.0                   0.0                       0.0  ...   \n",
       "1                   0.0                   0.0                       0.0  ...   \n",
       "2                   0.0                   0.0                       0.0  ...   \n",
       "3                   0.0                   0.0                       0.0  ...   \n",
       "4                   0.0                   0.0                       0.0  ...   \n",
       "\n",
       "   ORGANIZATION_Trust  INCOME_AMT_0  INCOME_AMT_1-9999  \\\n",
       "0                 0.0           1.0                0.0   \n",
       "1                 0.0           0.0                1.0   \n",
       "2                 0.0           1.0                0.0   \n",
       "3                 1.0           0.0                0.0   \n",
       "4                 1.0           0.0                0.0   \n",
       "\n",
       "   INCOME_AMT_10000-24999  INCOME_AMT_100000-499999  INCOME_AMT_10M-50M  \\\n",
       "0                     0.0                       0.0                 0.0   \n",
       "1                     0.0                       0.0                 0.0   \n",
       "2                     0.0                       0.0                 0.0   \n",
       "3                     1.0                       0.0                 0.0   \n",
       "4                     0.0                       1.0                 0.0   \n",
       "\n",
       "   INCOME_AMT_1M-5M  INCOME_AMT_25000-99999  INCOME_AMT_50M+  \\\n",
       "0               0.0                     0.0              0.0   \n",
       "1               0.0                     0.0              0.0   \n",
       "2               0.0                     0.0              0.0   \n",
       "3               0.0                     0.0              0.0   \n",
       "4               0.0                     0.0              0.0   \n",
       "\n",
       "   INCOME_AMT_5M-10M  \n",
       "0                0.0  \n",
       "1                0.0  \n",
       "2                0.0  \n",
       "3                0.0  \n",
       "4                0.0  \n",
       "\n",
       "[5 rows x 394 columns]"
      ]
     },
     "execution_count": 32,
     "metadata": {},
     "output_type": "execute_result"
    }
   ],
   "source": [
    "# Create a OneHotEncoder instance\n",
    "enc = OneHotEncoder(sparse=False)\n",
    "\n",
    "# Fit and transform the OneHotEncoder using the categorical variable list\n",
    "encode_df = pd.DataFrame(enc.fit_transform(application_df[application_cat]))\n",
    "\n",
    "# Add the encoded variable names to the dataframe\n",
    "encode_df.columns = enc.get_feature_names(application_cat)\n",
    "encode_df.head()"
   ]
  },
  {
   "cell_type": "code",
   "execution_count": 33,
   "metadata": {
    "colab": {
     "base_uri": "https://localhost:8080/",
     "height": 352
    },
    "id": "aT0cwC-EN4cs",
    "outputId": "ad470fd3-9006-4432-cd93-75a85b64f1db"
   },
   "outputs": [
    {
     "name": "stderr",
     "output_type": "stream",
     "text": [
      "C:\\Users\\oscy7\\anaconda3\\envs\\mlenv\\lib\\site-packages\\ipykernel_launcher.py:3: FutureWarning: In a future version of pandas all arguments of DataFrame.drop except for the argument 'labels' will be keyword-only\n",
      "  This is separate from the ipykernel package so we can avoid doing imports until\n"
     ]
    },
    {
     "data": {
      "text/html": [
       "<div>\n",
       "<style scoped>\n",
       "    .dataframe tbody tr th:only-of-type {\n",
       "        vertical-align: middle;\n",
       "    }\n",
       "\n",
       "    .dataframe tbody tr th {\n",
       "        vertical-align: top;\n",
       "    }\n",
       "\n",
       "    .dataframe thead th {\n",
       "        text-align: right;\n",
       "    }\n",
       "</style>\n",
       "<table border=\"1\" class=\"dataframe\">\n",
       "  <thead>\n",
       "    <tr style=\"text-align: right;\">\n",
       "      <th></th>\n",
       "      <th>ASK_AMT</th>\n",
       "      <th>IS_SUCCESSFUL</th>\n",
       "      <th>NAME_AACE INTERNATIONAL</th>\n",
       "      <th>NAME_ACE MENTOR PROGRAM OF AMERICA INC</th>\n",
       "      <th>NAME_AFRICAN-AMERICAN POSTAL LEAGUE UNITED FOR SUCCESS A-PLUS</th>\n",
       "      <th>NAME_AIR FORCE ASSOCIATION</th>\n",
       "      <th>NAME_ALABAMA FEDERATION OF WOMENS CLUBS</th>\n",
       "      <th>NAME_ALABAMA TREASURE FOREST ASSOCIATION</th>\n",
       "      <th>NAME_ALBANY STATE UNIVERSITY NATIONAL ALUMNI ASSOCIATION</th>\n",
       "      <th>NAME_ALPHA PHI OMEGA</th>\n",
       "      <th>...</th>\n",
       "      <th>ORGANIZATION_Trust</th>\n",
       "      <th>INCOME_AMT_0</th>\n",
       "      <th>INCOME_AMT_1-9999</th>\n",
       "      <th>INCOME_AMT_10000-24999</th>\n",
       "      <th>INCOME_AMT_100000-499999</th>\n",
       "      <th>INCOME_AMT_10M-50M</th>\n",
       "      <th>INCOME_AMT_1M-5M</th>\n",
       "      <th>INCOME_AMT_25000-99999</th>\n",
       "      <th>INCOME_AMT_50M+</th>\n",
       "      <th>INCOME_AMT_5M-10M</th>\n",
       "    </tr>\n",
       "  </thead>\n",
       "  <tbody>\n",
       "    <tr>\n",
       "      <th>0</th>\n",
       "      <td>5000</td>\n",
       "      <td>1</td>\n",
       "      <td>0.0</td>\n",
       "      <td>0.0</td>\n",
       "      <td>0.0</td>\n",
       "      <td>0.0</td>\n",
       "      <td>0.0</td>\n",
       "      <td>0.0</td>\n",
       "      <td>0.0</td>\n",
       "      <td>0.0</td>\n",
       "      <td>...</td>\n",
       "      <td>0.0</td>\n",
       "      <td>1.0</td>\n",
       "      <td>0.0</td>\n",
       "      <td>0.0</td>\n",
       "      <td>0.0</td>\n",
       "      <td>0.0</td>\n",
       "      <td>0.0</td>\n",
       "      <td>0.0</td>\n",
       "      <td>0.0</td>\n",
       "      <td>0.0</td>\n",
       "    </tr>\n",
       "    <tr>\n",
       "      <th>1</th>\n",
       "      <td>108590</td>\n",
       "      <td>1</td>\n",
       "      <td>0.0</td>\n",
       "      <td>0.0</td>\n",
       "      <td>0.0</td>\n",
       "      <td>0.0</td>\n",
       "      <td>0.0</td>\n",
       "      <td>0.0</td>\n",
       "      <td>0.0</td>\n",
       "      <td>0.0</td>\n",
       "      <td>...</td>\n",
       "      <td>0.0</td>\n",
       "      <td>0.0</td>\n",
       "      <td>1.0</td>\n",
       "      <td>0.0</td>\n",
       "      <td>0.0</td>\n",
       "      <td>0.0</td>\n",
       "      <td>0.0</td>\n",
       "      <td>0.0</td>\n",
       "      <td>0.0</td>\n",
       "      <td>0.0</td>\n",
       "    </tr>\n",
       "    <tr>\n",
       "      <th>2</th>\n",
       "      <td>5000</td>\n",
       "      <td>0</td>\n",
       "      <td>0.0</td>\n",
       "      <td>0.0</td>\n",
       "      <td>0.0</td>\n",
       "      <td>0.0</td>\n",
       "      <td>0.0</td>\n",
       "      <td>0.0</td>\n",
       "      <td>0.0</td>\n",
       "      <td>0.0</td>\n",
       "      <td>...</td>\n",
       "      <td>0.0</td>\n",
       "      <td>1.0</td>\n",
       "      <td>0.0</td>\n",
       "      <td>0.0</td>\n",
       "      <td>0.0</td>\n",
       "      <td>0.0</td>\n",
       "      <td>0.0</td>\n",
       "      <td>0.0</td>\n",
       "      <td>0.0</td>\n",
       "      <td>0.0</td>\n",
       "    </tr>\n",
       "    <tr>\n",
       "      <th>3</th>\n",
       "      <td>6692</td>\n",
       "      <td>1</td>\n",
       "      <td>0.0</td>\n",
       "      <td>0.0</td>\n",
       "      <td>0.0</td>\n",
       "      <td>0.0</td>\n",
       "      <td>0.0</td>\n",
       "      <td>0.0</td>\n",
       "      <td>0.0</td>\n",
       "      <td>0.0</td>\n",
       "      <td>...</td>\n",
       "      <td>1.0</td>\n",
       "      <td>0.0</td>\n",
       "      <td>0.0</td>\n",
       "      <td>1.0</td>\n",
       "      <td>0.0</td>\n",
       "      <td>0.0</td>\n",
       "      <td>0.0</td>\n",
       "      <td>0.0</td>\n",
       "      <td>0.0</td>\n",
       "      <td>0.0</td>\n",
       "    </tr>\n",
       "    <tr>\n",
       "      <th>4</th>\n",
       "      <td>142590</td>\n",
       "      <td>1</td>\n",
       "      <td>0.0</td>\n",
       "      <td>0.0</td>\n",
       "      <td>0.0</td>\n",
       "      <td>0.0</td>\n",
       "      <td>0.0</td>\n",
       "      <td>0.0</td>\n",
       "      <td>0.0</td>\n",
       "      <td>0.0</td>\n",
       "      <td>...</td>\n",
       "      <td>1.0</td>\n",
       "      <td>0.0</td>\n",
       "      <td>0.0</td>\n",
       "      <td>0.0</td>\n",
       "      <td>1.0</td>\n",
       "      <td>0.0</td>\n",
       "      <td>0.0</td>\n",
       "      <td>0.0</td>\n",
       "      <td>0.0</td>\n",
       "      <td>0.0</td>\n",
       "    </tr>\n",
       "  </tbody>\n",
       "</table>\n",
       "<p>5 rows × 396 columns</p>\n",
       "</div>"
      ],
      "text/plain": [
       "   ASK_AMT  IS_SUCCESSFUL  NAME_AACE INTERNATIONAL  \\\n",
       "0     5000              1                      0.0   \n",
       "1   108590              1                      0.0   \n",
       "2     5000              0                      0.0   \n",
       "3     6692              1                      0.0   \n",
       "4   142590              1                      0.0   \n",
       "\n",
       "   NAME_ACE MENTOR PROGRAM OF AMERICA INC  \\\n",
       "0                                     0.0   \n",
       "1                                     0.0   \n",
       "2                                     0.0   \n",
       "3                                     0.0   \n",
       "4                                     0.0   \n",
       "\n",
       "   NAME_AFRICAN-AMERICAN POSTAL LEAGUE UNITED FOR SUCCESS A-PLUS  \\\n",
       "0                                                0.0               \n",
       "1                                                0.0               \n",
       "2                                                0.0               \n",
       "3                                                0.0               \n",
       "4                                                0.0               \n",
       "\n",
       "   NAME_AIR FORCE ASSOCIATION  NAME_ALABAMA FEDERATION OF WOMENS CLUBS  \\\n",
       "0                         0.0                                      0.0   \n",
       "1                         0.0                                      0.0   \n",
       "2                         0.0                                      0.0   \n",
       "3                         0.0                                      0.0   \n",
       "4                         0.0                                      0.0   \n",
       "\n",
       "   NAME_ALABAMA TREASURE FOREST ASSOCIATION  \\\n",
       "0                                       0.0   \n",
       "1                                       0.0   \n",
       "2                                       0.0   \n",
       "3                                       0.0   \n",
       "4                                       0.0   \n",
       "\n",
       "   NAME_ALBANY STATE UNIVERSITY NATIONAL ALUMNI ASSOCIATION  \\\n",
       "0                                                0.0          \n",
       "1                                                0.0          \n",
       "2                                                0.0          \n",
       "3                                                0.0          \n",
       "4                                                0.0          \n",
       "\n",
       "   NAME_ALPHA PHI OMEGA  ...  ORGANIZATION_Trust  INCOME_AMT_0  \\\n",
       "0                   0.0  ...                 0.0           1.0   \n",
       "1                   0.0  ...                 0.0           0.0   \n",
       "2                   0.0  ...                 0.0           1.0   \n",
       "3                   0.0  ...                 1.0           0.0   \n",
       "4                   0.0  ...                 1.0           0.0   \n",
       "\n",
       "   INCOME_AMT_1-9999  INCOME_AMT_10000-24999  INCOME_AMT_100000-499999  \\\n",
       "0                0.0                     0.0                       0.0   \n",
       "1                1.0                     0.0                       0.0   \n",
       "2                0.0                     0.0                       0.0   \n",
       "3                0.0                     1.0                       0.0   \n",
       "4                0.0                     0.0                       1.0   \n",
       "\n",
       "   INCOME_AMT_10M-50M  INCOME_AMT_1M-5M  INCOME_AMT_25000-99999  \\\n",
       "0                 0.0               0.0                     0.0   \n",
       "1                 0.0               0.0                     0.0   \n",
       "2                 0.0               0.0                     0.0   \n",
       "3                 0.0               0.0                     0.0   \n",
       "4                 0.0               0.0                     0.0   \n",
       "\n",
       "   INCOME_AMT_50M+  INCOME_AMT_5M-10M  \n",
       "0              0.0                0.0  \n",
       "1              0.0                0.0  \n",
       "2              0.0                0.0  \n",
       "3              0.0                0.0  \n",
       "4              0.0                0.0  \n",
       "\n",
       "[5 rows x 396 columns]"
      ]
     },
     "execution_count": 33,
     "metadata": {},
     "output_type": "execute_result"
    }
   ],
   "source": [
    "# Merge one-hot encoded features and drop the originals\n",
    "application_df = application_df.merge(encode_df,left_index=True, right_index=True)\n",
    "application_df = application_df.drop(application_cat,1)\n",
    "application_df.head()"
   ]
  },
  {
   "cell_type": "code",
   "execution_count": 34,
   "metadata": {
    "colab": {
     "base_uri": "https://localhost:8080/"
    },
    "id": "Ws21wxhlwgd2",
    "outputId": "d25f955c-f240-43c3-9e7c-a2bcbd7db5a9"
   },
   "outputs": [
    {
     "data": {
      "text/plain": [
       "(34299, 396)"
      ]
     },
     "execution_count": 34,
     "metadata": {},
     "output_type": "execute_result"
    }
   ],
   "source": [
    "application_df.shape"
   ]
  },
  {
   "cell_type": "code",
   "execution_count": 35,
   "metadata": {
    "colab": {
     "base_uri": "https://localhost:8080/"
    },
    "id": "O4wPCATFxe1-",
    "outputId": "71a9cd3a-e2dc-4454-950b-4525844bd440"
   },
   "outputs": [
    {
     "name": "stdout",
     "output_type": "stream",
     "text": [
      "<class 'pandas.core.frame.DataFrame'>\n",
      "RangeIndex: 34299 entries, 0 to 34298\n",
      "Columns: 396 entries, ASK_AMT to INCOME_AMT_5M-10M\n",
      "dtypes: float64(394), int64(2)\n",
      "memory usage: 103.6 MB\n"
     ]
    }
   ],
   "source": [
    "application_df.info()"
   ]
  },
  {
   "cell_type": "code",
   "execution_count": 36,
   "metadata": {},
   "outputs": [
    {
     "data": {
      "text/plain": [
       "ASK_AMT                                                          8747\n",
       "IS_SUCCESSFUL                                                       2\n",
       "NAME_AACE INTERNATIONAL                                             2\n",
       "NAME_ACE MENTOR PROGRAM OF AMERICA INC                              2\n",
       "NAME_AFRICAN-AMERICAN POSTAL LEAGUE UNITED FOR SUCCESS A-PLUS       2\n",
       "                                                                 ... \n",
       "INCOME_AMT_10M-50M                                                  2\n",
       "INCOME_AMT_1M-5M                                                    2\n",
       "INCOME_AMT_25000-99999                                              2\n",
       "INCOME_AMT_50M+                                                     2\n",
       "INCOME_AMT_5M-10M                                                   2\n",
       "Length: 396, dtype: int64"
      ]
     },
     "execution_count": 36,
     "metadata": {},
     "output_type": "execute_result"
    }
   ],
   "source": [
    "application_df.nunique()"
   ]
  },
  {
   "cell_type": "code",
   "execution_count": 37,
   "metadata": {
    "colab": {
     "base_uri": "https://localhost:8080/"
    },
    "id": "p7JXXMjhN4ct",
    "outputId": "cb3fc7a4-5692-4c5a-b7a8-1170a2dcce42"
   },
   "outputs": [
    {
     "name": "stderr",
     "output_type": "stream",
     "text": [
      "C:\\Users\\oscy7\\anaconda3\\envs\\mlenv\\lib\\site-packages\\ipykernel_launcher.py:2: FutureWarning: In a future version of pandas all arguments of DataFrame.drop except for the argument 'labels' will be keyword-only\n",
      "  \n"
     ]
    }
   ],
   "source": [
    "# Split our preprocessed data into our features and target arrays\n",
    "X_df = application_df.drop([\"IS_SUCCESSFUL\"], 1)\n",
    "\n",
    "X = X_df.values\n",
    "\n",
    "y = application_df[\"IS_SUCCESSFUL\"].values"
   ]
  },
  {
   "cell_type": "code",
   "execution_count": 38,
   "metadata": {
    "colab": {
     "base_uri": "https://localhost:8080/"
    },
    "id": "p7JXXMjhN4ct",
    "outputId": "cb3fc7a4-5692-4c5a-b7a8-1170a2dcce42"
   },
   "outputs": [],
   "source": [
    "# Split the preprocessed data into a training and testing dataset\n",
    "X_train, X_test, y_train, y_tests = train_test_split(X, y, random_state=78)"
   ]
  },
  {
   "cell_type": "code",
   "execution_count": 39,
   "metadata": {
    "id": "gnzA5nZkN4ct"
   },
   "outputs": [],
   "source": [
    "# Create a StandardScaler instances\n",
    "scaler = StandardScaler()\n",
    "\n",
    "# Fit the StandardScaler\n",
    "X_scaler = scaler.fit(X_train)\n",
    "\n",
    "# Scale the data\n",
    "X_train_scaled = X_scaler.transform(X_train)\n",
    "X_test_scaled = X_scaler.transform(X_test)"
   ]
  },
  {
   "cell_type": "code",
   "execution_count": 40,
   "metadata": {
    "colab": {
     "base_uri": "https://localhost:8080/"
    },
    "id": "cW_w2adk-kzt",
    "outputId": "89eb0edc-1a14-4e0a-bb4e-215fc3534d4f"
   },
   "outputs": [
    {
     "data": {
      "text/plain": [
       "395"
      ]
     },
     "execution_count": 40,
     "metadata": {},
     "output_type": "execute_result"
    }
   ],
   "source": [
    "# test\n",
    "len(X_train[0])"
   ]
  },
  {
   "cell_type": "markdown",
   "metadata": {
    "id": "Yv_72MBVN4ct"
   },
   "source": [
    "### Deliverable 2: Compile, Train and Evaluate the Model"
   ]
  },
  {
   "cell_type": "code",
   "execution_count": 41,
   "metadata": {
    "colab": {
     "base_uri": "https://localhost:8080/"
    },
    "id": "qpTVXIEeN4ct",
    "outputId": "23960eb7-4a60-4251-f82b-a02200dc0740",
    "tags": []
   },
   "outputs": [
    {
     "name": "stdout",
     "output_type": "stream",
     "text": [
      "Model: \"sequential\"\n",
      "_________________________________________________________________\n",
      " Layer (type)                Output Shape              Param #   \n",
      "=================================================================\n",
      " dense (Dense)               (None, 1185)              469260    \n",
      "                                                                 \n",
      " dense_1 (Dense)             (None, 790)               936940    \n",
      "                                                                 \n",
      " dense_2 (Dense)             (None, 395)               312445    \n",
      "                                                                 \n",
      " dense_3 (Dense)             (None, 1)                 396       \n",
      "                                                                 \n",
      "=================================================================\n",
      "Total params: 1,719,041\n",
      "Trainable params: 1,719,041\n",
      "Non-trainable params: 0\n",
      "_________________________________________________________________\n"
     ]
    }
   ],
   "source": [
    "# Define the model - deep neural net, i.e., the number of input features and hidden nodes for each layer.\n",
    "number_input_features = len(X_train[0])\n",
    "hidden_nodes_layer1 = number_input_features * 3\n",
    "hidden_nodes_layer2 = number_input_features * 2\n",
    "hidden_nodes_layer3 = number_input_features * 1\n",
    "\n",
    "nn = tf.keras.models.Sequential()\n",
    "\n",
    "# First hidden layer\n",
    "nn.add(\n",
    "    tf.keras.layers.Dense(units=hidden_nodes_layer1, input_dim=number_input_features, activation=\"relu\")\n",
    ")\n",
    "\n",
    "# Second hidden layer\n",
    "nn.add(tf.keras.layers.Dense(units=hidden_nodes_layer2, activation=\"relu\"))\n",
    "\n",
    "# Third hidden layer\n",
    "nn.add(tf.keras.layers.Dense(units=hidden_nodes_layer3, activation=\"relu\"))\n",
    "\n",
    "# Output layer\n",
    "nn.add(tf.keras.layers.Dense(units=1, activation=\"sigmoid\"))\n",
    "\n",
    "# Check the structure of the model\n",
    "nn.summary()"
   ]
  },
  {
   "cell_type": "code",
   "execution_count": 42,
   "metadata": {
    "id": "xFE3QVhNRe1H"
   },
   "outputs": [],
   "source": [
    "# Import checkpoint dependencies\n",
    "import os\n",
    "from tensorflow.keras.callbacks import ModelCheckpoint\n",
    "\n",
    "# Define the checkpoint path and filenames\n",
    "os.makedirs(\"Checkpoints/\",exist_ok=True)\n",
    "checkpoint_path = \"Checkpoints/weights.{epoch:02d}.hdf5\""
   ]
  },
  {
   "cell_type": "code",
   "execution_count": 43,
   "metadata": {
    "id": "AeCMBiduN4cu"
   },
   "outputs": [],
   "source": [
    "# Compile the model\n",
    "nn.compile(loss=\"binary_crossentropy\", optimizer=\"adam\", metrics=[\"accuracy\"])"
   ]
  },
  {
   "cell_type": "code",
   "execution_count": 44,
   "metadata": {
    "id": "uH8MDp2USonW"
   },
   "outputs": [],
   "source": [
    "# Create a callback that saves the model's weights every epoch (set to 5)\n",
    "cp_callback = ModelCheckpoint(\n",
    "    filepath=checkpoint_path,\n",
    "    verbose=1,\n",
    "    save_weights_only=True,\n",
    "    save_freq=\"epoch\")"
   ]
  },
  {
   "cell_type": "code",
   "execution_count": 45,
   "metadata": {
    "colab": {
     "base_uri": "https://localhost:8080/"
    },
    "id": "SYmILndZN4cu",
    "outputId": "d1708b59-f076-4a91-cba1-d916021686ae",
    "tags": []
   },
   "outputs": [
    {
     "name": "stdout",
     "output_type": "stream",
     "text": [
      "Epoch 1/100\n",
      "799/804 [============================>.] - ETA: 0s - loss: 0.4720 - accuracy: 0.7797\n",
      "Epoch 1: saving model to Checkpoints\\weights.01.hdf5\n",
      "804/804 [==============================] - 8s 9ms/step - loss: 0.4714 - accuracy: 0.7800\n",
      "Epoch 2/100\n",
      "804/804 [==============================] - ETA: 0s - loss: 0.4354 - accuracy: 0.7941\n",
      "Epoch 2: saving model to Checkpoints\\weights.02.hdf5\n",
      "804/804 [==============================] - 7s 9ms/step - loss: 0.4354 - accuracy: 0.7941\n",
      "Epoch 3/100\n",
      "803/804 [============================>.] - ETA: 0s - loss: 0.4306 - accuracy: 0.7957\n",
      "Epoch 3: saving model to Checkpoints\\weights.03.hdf5\n",
      "804/804 [==============================] - 7s 9ms/step - loss: 0.4306 - accuracy: 0.7958\n",
      "Epoch 4/100\n",
      "801/804 [============================>.] - ETA: 0s - loss: 0.4285 - accuracy: 0.7950\n",
      "Epoch 4: saving model to Checkpoints\\weights.04.hdf5\n",
      "804/804 [==============================] - 9s 12ms/step - loss: 0.4284 - accuracy: 0.7951\n",
      "Epoch 5/100\n",
      "801/804 [============================>.] - ETA: 0s - loss: 0.4279 - accuracy: 0.7958\n",
      "Epoch 5: saving model to Checkpoints\\weights.05.hdf5\n",
      "804/804 [==============================] - 9s 11ms/step - loss: 0.4279 - accuracy: 0.7959\n",
      "Epoch 6/100\n",
      "802/804 [============================>.] - ETA: 0s - loss: 0.4269 - accuracy: 0.7959\n",
      "Epoch 6: saving model to Checkpoints\\weights.06.hdf5\n",
      "804/804 [==============================] - 8s 10ms/step - loss: 0.4266 - accuracy: 0.7961\n",
      "Epoch 7/100\n",
      "799/804 [============================>.] - ETA: 0s - loss: 0.4254 - accuracy: 0.7974\n",
      "Epoch 7: saving model to Checkpoints\\weights.07.hdf5\n",
      "804/804 [==============================] - 8s 10ms/step - loss: 0.4254 - accuracy: 0.7974\n",
      "Epoch 8/100\n",
      "803/804 [============================>.] - ETA: 0s - loss: 0.4244 - accuracy: 0.7979\n",
      "Epoch 8: saving model to Checkpoints\\weights.08.hdf5\n",
      "804/804 [==============================] - 10s 12ms/step - loss: 0.4248 - accuracy: 0.7977\n",
      "Epoch 9/100\n",
      "804/804 [==============================] - ETA: 0s - loss: 0.4230 - accuracy: 0.7979\n",
      "Epoch 9: saving model to Checkpoints\\weights.09.hdf5\n",
      "804/804 [==============================] - 8s 10ms/step - loss: 0.4230 - accuracy: 0.7979\n",
      "Epoch 10/100\n",
      "803/804 [============================>.] - ETA: 0s - loss: 0.4236 - accuracy: 0.7985\n",
      "Epoch 10: saving model to Checkpoints\\weights.10.hdf5\n",
      "804/804 [==============================] - 8s 10ms/step - loss: 0.4234 - accuracy: 0.7986\n",
      "Epoch 11/100\n",
      "803/804 [============================>.] - ETA: 0s - loss: 0.4219 - accuracy: 0.7995\n",
      "Epoch 11: saving model to Checkpoints\\weights.11.hdf5\n",
      "804/804 [==============================] - 9s 11ms/step - loss: 0.4218 - accuracy: 0.7995\n",
      "Epoch 12/100\n",
      "804/804 [==============================] - ETA: 0s - loss: 0.4210 - accuracy: 0.7999\n",
      "Epoch 12: saving model to Checkpoints\\weights.12.hdf5\n",
      "804/804 [==============================] - 8s 10ms/step - loss: 0.4210 - accuracy: 0.7999\n",
      "Epoch 13/100\n",
      "801/804 [============================>.] - ETA: 0s - loss: 0.4193 - accuracy: 0.8008\n",
      "Epoch 13: saving model to Checkpoints\\weights.13.hdf5\n",
      "804/804 [==============================] - 8s 10ms/step - loss: 0.4192 - accuracy: 0.8010\n",
      "Epoch 14/100\n",
      "800/804 [============================>.] - ETA: 0s - loss: 0.4201 - accuracy: 0.8009\n",
      "Epoch 14: saving model to Checkpoints\\weights.14.hdf5\n",
      "804/804 [==============================] - 8s 10ms/step - loss: 0.4200 - accuracy: 0.8007\n",
      "Epoch 15/100\n",
      "803/804 [============================>.] - ETA: 0s - loss: 0.4202 - accuracy: 0.8008\n",
      "Epoch 15: saving model to Checkpoints\\weights.15.hdf5\n",
      "804/804 [==============================] - 7s 9ms/step - loss: 0.4202 - accuracy: 0.8008\n",
      "Epoch 16/100\n",
      "804/804 [==============================] - ETA: 0s - loss: 0.4176 - accuracy: 0.8021\n",
      "Epoch 16: saving model to Checkpoints\\weights.16.hdf5\n",
      "804/804 [==============================] - 8s 10ms/step - loss: 0.4176 - accuracy: 0.8021\n",
      "Epoch 17/100\n",
      "801/804 [============================>.] - ETA: 0s - loss: 0.4180 - accuracy: 0.8025\n",
      "Epoch 17: saving model to Checkpoints\\weights.17.hdf5\n",
      "804/804 [==============================] - 8s 10ms/step - loss: 0.4183 - accuracy: 0.8022\n",
      "Epoch 18/100\n",
      "800/804 [============================>.] - ETA: 0s - loss: 0.4164 - accuracy: 0.8023\n",
      "Epoch 18: saving model to Checkpoints\\weights.18.hdf5\n",
      "804/804 [==============================] - 9s 11ms/step - loss: 0.4166 - accuracy: 0.8021\n",
      "Epoch 19/100\n",
      "801/804 [============================>.] - ETA: 0s - loss: 0.4165 - accuracy: 0.8022\n",
      "Epoch 19: saving model to Checkpoints\\weights.19.hdf5\n",
      "804/804 [==============================] - 10s 12ms/step - loss: 0.4166 - accuracy: 0.8021\n",
      "Epoch 20/100\n",
      "804/804 [==============================] - ETA: 0s - loss: 0.4161 - accuracy: 0.8019\n",
      "Epoch 20: saving model to Checkpoints\\weights.20.hdf5\n",
      "804/804 [==============================] - 9s 11ms/step - loss: 0.4161 - accuracy: 0.8019\n",
      "Epoch 21/100\n",
      "799/804 [============================>.] - ETA: 0s - loss: 0.4157 - accuracy: 0.8016\n",
      "Epoch 21: saving model to Checkpoints\\weights.21.hdf5\n",
      "804/804 [==============================] - 8s 10ms/step - loss: 0.4155 - accuracy: 0.8015\n",
      "Epoch 22/100\n",
      "801/804 [============================>.] - ETA: 0s - loss: 0.4149 - accuracy: 0.8040\n",
      "Epoch 22: saving model to Checkpoints\\weights.22.hdf5\n",
      "804/804 [==============================] - 7s 9ms/step - loss: 0.4151 - accuracy: 0.8039\n",
      "Epoch 23/100\n",
      "799/804 [============================>.] - ETA: 0s - loss: 0.4147 - accuracy: 0.8039\n",
      "Epoch 23: saving model to Checkpoints\\weights.23.hdf5\n",
      "804/804 [==============================] - 7s 9ms/step - loss: 0.4148 - accuracy: 0.8036\n",
      "Epoch 24/100\n",
      "804/804 [==============================] - ETA: 0s - loss: 0.4136 - accuracy: 0.8042\n",
      "Epoch 24: saving model to Checkpoints\\weights.24.hdf5\n",
      "804/804 [==============================] - 7s 9ms/step - loss: 0.4136 - accuracy: 0.8042\n",
      "Epoch 25/100\n",
      "801/804 [============================>.] - ETA: 0s - loss: 0.4141 - accuracy: 0.8033\n",
      "Epoch 25: saving model to Checkpoints\\weights.25.hdf5\n",
      "804/804 [==============================] - 7s 9ms/step - loss: 0.4140 - accuracy: 0.8033\n",
      "Epoch 26/100\n",
      "800/804 [============================>.] - ETA: 0s - loss: 0.4137 - accuracy: 0.8040\n",
      "Epoch 26: saving model to Checkpoints\\weights.26.hdf5\n",
      "804/804 [==============================] - 9s 11ms/step - loss: 0.4133 - accuracy: 0.8042\n",
      "Epoch 27/100\n",
      "801/804 [============================>.] - ETA: 0s - loss: 0.4121 - accuracy: 0.8050\n",
      "Epoch 27: saving model to Checkpoints\\weights.27.hdf5\n",
      "804/804 [==============================] - 8s 10ms/step - loss: 0.4125 - accuracy: 0.8049\n",
      "Epoch 28/100\n",
      "800/804 [============================>.] - ETA: 0s - loss: 0.4118 - accuracy: 0.8044\n",
      "Epoch 28: saving model to Checkpoints\\weights.28.hdf5\n",
      "804/804 [==============================] - 8s 10ms/step - loss: 0.4119 - accuracy: 0.8045\n",
      "Epoch 29/100\n",
      "804/804 [==============================] - ETA: 0s - loss: 0.4113 - accuracy: 0.8055\n",
      "Epoch 29: saving model to Checkpoints\\weights.29.hdf5\n",
      "804/804 [==============================] - 7s 9ms/step - loss: 0.4113 - accuracy: 0.8055\n",
      "Epoch 30/100\n",
      "804/804 [==============================] - ETA: 0s - loss: 0.4121 - accuracy: 0.8054\n",
      "Epoch 30: saving model to Checkpoints\\weights.30.hdf5\n",
      "804/804 [==============================] - 9s 11ms/step - loss: 0.4121 - accuracy: 0.8054\n",
      "Epoch 31/100\n",
      "802/804 [============================>.] - ETA: 0s - loss: 0.4108 - accuracy: 0.8055\n",
      "Epoch 31: saving model to Checkpoints\\weights.31.hdf5\n",
      "804/804 [==============================] - 8s 10ms/step - loss: 0.4107 - accuracy: 0.8056\n",
      "Epoch 32/100\n",
      "800/804 [============================>.] - ETA: 0s - loss: 0.4112 - accuracy: 0.8055\n",
      "Epoch 32: saving model to Checkpoints\\weights.32.hdf5\n",
      "804/804 [==============================] - 8s 10ms/step - loss: 0.4111 - accuracy: 0.8057\n",
      "Epoch 33/100\n",
      "799/804 [============================>.] - ETA: 0s - loss: 0.4107 - accuracy: 0.8055\n",
      "Epoch 33: saving model to Checkpoints\\weights.33.hdf5\n",
      "804/804 [==============================] - 8s 10ms/step - loss: 0.4109 - accuracy: 0.8055\n",
      "Epoch 34/100\n",
      "802/804 [============================>.] - ETA: 0s - loss: 0.4128 - accuracy: 0.8042\n",
      "Epoch 34: saving model to Checkpoints\\weights.34.hdf5\n",
      "804/804 [==============================] - 10s 12ms/step - loss: 0.4131 - accuracy: 0.8040\n",
      "Epoch 35/100\n",
      "799/804 [============================>.] - ETA: 0s - loss: 0.4104 - accuracy: 0.8050\n",
      "Epoch 35: saving model to Checkpoints\\weights.35.hdf5\n",
      "804/804 [==============================] - 8s 10ms/step - loss: 0.4104 - accuracy: 0.8050\n",
      "Epoch 36/100\n",
      "800/804 [============================>.] - ETA: 0s - loss: 0.4093 - accuracy: 0.8062\n",
      "Epoch 36: saving model to Checkpoints\\weights.36.hdf5\n",
      "804/804 [==============================] - 8s 9ms/step - loss: 0.4095 - accuracy: 0.8059\n",
      "Epoch 37/100\n",
      "803/804 [============================>.] - ETA: 0s - loss: 0.4093 - accuracy: 0.8065\n",
      "Epoch 37: saving model to Checkpoints\\weights.37.hdf5\n",
      "804/804 [==============================] - 8s 9ms/step - loss: 0.4094 - accuracy: 0.8063\n",
      "Epoch 38/100\n",
      "803/804 [============================>.] - ETA: 0s - loss: 0.4081 - accuracy: 0.8060\n",
      "Epoch 38: saving model to Checkpoints\\weights.38.hdf5\n",
      "804/804 [==============================] - 8s 10ms/step - loss: 0.4078 - accuracy: 0.8062\n",
      "Epoch 39/100\n",
      "801/804 [============================>.] - ETA: 0s - loss: 0.4080 - accuracy: 0.8063\n",
      "Epoch 39: saving model to Checkpoints\\weights.39.hdf5\n",
      "804/804 [==============================] - 8s 10ms/step - loss: 0.4079 - accuracy: 0.8063\n",
      "Epoch 40/100\n",
      "800/804 [============================>.] - ETA: 0s - loss: 0.4082 - accuracy: 0.8068\n",
      "Epoch 40: saving model to Checkpoints\\weights.40.hdf5\n",
      "804/804 [==============================] - 8s 10ms/step - loss: 0.4082 - accuracy: 0.8067\n",
      "Epoch 41/100\n",
      "800/804 [============================>.] - ETA: 0s - loss: 0.4094 - accuracy: 0.8066\n",
      "Epoch 41: saving model to Checkpoints\\weights.41.hdf5\n",
      "804/804 [==============================] - 9s 11ms/step - loss: 0.4097 - accuracy: 0.8066\n",
      "Epoch 42/100\n",
      "804/804 [==============================] - ETA: 0s - loss: 0.4075 - accuracy: 0.8055\n",
      "Epoch 42: saving model to Checkpoints\\weights.42.hdf5\n",
      "804/804 [==============================] - 7s 9ms/step - loss: 0.4075 - accuracy: 0.8055\n",
      "Epoch 43/100\n",
      "803/804 [============================>.] - ETA: 0s - loss: 0.4086 - accuracy: 0.8067\n",
      "Epoch 43: saving model to Checkpoints\\weights.43.hdf5\n",
      "804/804 [==============================] - 9s 11ms/step - loss: 0.4086 - accuracy: 0.8067\n",
      "Epoch 44/100\n",
      "799/804 [============================>.] - ETA: 0s - loss: 0.4086 - accuracy: 0.8060\n",
      "Epoch 44: saving model to Checkpoints\\weights.44.hdf5\n",
      "804/804 [==============================] - 8s 10ms/step - loss: 0.4084 - accuracy: 0.8062\n",
      "Epoch 45/100\n",
      "802/804 [============================>.] - ETA: 0s - loss: 0.4079 - accuracy: 0.8063\n",
      "Epoch 45: saving model to Checkpoints\\weights.45.hdf5\n",
      "804/804 [==============================] - 8s 10ms/step - loss: 0.4079 - accuracy: 0.8063\n",
      "Epoch 46/100\n",
      "803/804 [============================>.] - ETA: 0s - loss: 0.4076 - accuracy: 0.8072\n",
      "Epoch 46: saving model to Checkpoints\\weights.46.hdf5\n",
      "804/804 [==============================] - 7s 9ms/step - loss: 0.4075 - accuracy: 0.8073\n",
      "Epoch 47/100\n",
      "804/804 [==============================] - ETA: 0s - loss: 0.4075 - accuracy: 0.8070\n",
      "Epoch 47: saving model to Checkpoints\\weights.47.hdf5\n",
      "804/804 [==============================] - 7s 9ms/step - loss: 0.4075 - accuracy: 0.8070\n",
      "Epoch 48/100\n",
      "800/804 [============================>.] - ETA: 0s - loss: 0.4062 - accuracy: 0.8056\n",
      "Epoch 48: saving model to Checkpoints\\weights.48.hdf5\n",
      "804/804 [==============================] - 8s 10ms/step - loss: 0.4058 - accuracy: 0.8060\n",
      "Epoch 49/100\n",
      "800/804 [============================>.] - ETA: 0s - loss: 0.4053 - accuracy: 0.8083\n",
      "Epoch 49: saving model to Checkpoints\\weights.49.hdf5\n",
      "804/804 [==============================] - 8s 10ms/step - loss: 0.4057 - accuracy: 0.8080\n",
      "Epoch 50/100\n",
      "802/804 [============================>.] - ETA: 0s - loss: 0.4091 - accuracy: 0.8060\n",
      "Epoch 50: saving model to Checkpoints\\weights.50.hdf5\n",
      "804/804 [==============================] - 8s 10ms/step - loss: 0.4090 - accuracy: 0.8061\n",
      "Epoch 51/100\n",
      "804/804 [==============================] - ETA: 0s - loss: 0.4070 - accuracy: 0.8069\n",
      "Epoch 51: saving model to Checkpoints\\weights.51.hdf5\n",
      "804/804 [==============================] - 8s 10ms/step - loss: 0.4070 - accuracy: 0.8069\n",
      "Epoch 52/100\n",
      "799/804 [============================>.] - ETA: 0s - loss: 0.4122 - accuracy: 0.8067\n",
      "Epoch 52: saving model to Checkpoints\\weights.52.hdf5\n",
      "804/804 [==============================] - 8s 10ms/step - loss: 0.4121 - accuracy: 0.8066\n",
      "Epoch 53/100\n",
      "803/804 [============================>.] - ETA: 0s - loss: 0.4041 - accuracy: 0.8078\n",
      "Epoch 53: saving model to Checkpoints\\weights.53.hdf5\n",
      "804/804 [==============================] - 8s 10ms/step - loss: 0.4042 - accuracy: 0.8077\n",
      "Epoch 54/100\n",
      "804/804 [==============================] - ETA: 0s - loss: 0.4040 - accuracy: 0.8069\n",
      "Epoch 54: saving model to Checkpoints\\weights.54.hdf5\n",
      "804/804 [==============================] - 9s 11ms/step - loss: 0.4040 - accuracy: 0.8069\n",
      "Epoch 55/100\n",
      "804/804 [==============================] - ETA: 0s - loss: 0.4043 - accuracy: 0.8074\n",
      "Epoch 55: saving model to Checkpoints\\weights.55.hdf5\n",
      "804/804 [==============================] - 7s 9ms/step - loss: 0.4043 - accuracy: 0.8074\n",
      "Epoch 56/100\n",
      "800/804 [============================>.] - ETA: 0s - loss: 0.4058 - accuracy: 0.8069\n",
      "Epoch 56: saving model to Checkpoints\\weights.56.hdf5\n",
      "804/804 [==============================] - 9s 11ms/step - loss: 0.4058 - accuracy: 0.8070\n",
      "Epoch 57/100\n",
      "804/804 [==============================] - ETA: 0s - loss: 0.4075 - accuracy: 0.8068\n",
      "Epoch 57: saving model to Checkpoints\\weights.57.hdf5\n",
      "804/804 [==============================] - 8s 10ms/step - loss: 0.4075 - accuracy: 0.8068\n",
      "Epoch 58/100\n",
      "803/804 [============================>.] - ETA: 0s - loss: 0.4044 - accuracy: 0.8072\n",
      "Epoch 58: saving model to Checkpoints\\weights.58.hdf5\n",
      "804/804 [==============================] - 8s 10ms/step - loss: 0.4043 - accuracy: 0.8071\n",
      "Epoch 59/100\n",
      "802/804 [============================>.] - ETA: 0s - loss: 0.4555 - accuracy: 0.8051\n",
      "Epoch 59: saving model to Checkpoints\\weights.59.hdf5\n",
      "804/804 [==============================] - 8s 9ms/step - loss: 0.4553 - accuracy: 0.8053\n",
      "Epoch 60/100\n",
      "801/804 [============================>.] - ETA: 0s - loss: 0.4045 - accuracy: 0.8065\n",
      "Epoch 60: saving model to Checkpoints\\weights.60.hdf5\n",
      "804/804 [==============================] - 8s 10ms/step - loss: 0.4047 - accuracy: 0.8065\n",
      "Epoch 61/100\n",
      "802/804 [============================>.] - ETA: 0s - loss: 0.4036 - accuracy: 0.8066\n",
      "Epoch 61: saving model to Checkpoints\\weights.61.hdf5\n",
      "804/804 [==============================] - 8s 10ms/step - loss: 0.4035 - accuracy: 0.8067\n",
      "Epoch 62/100\n",
      "798/804 [============================>.] - ETA: 0s - loss: 0.4030 - accuracy: 0.8069\n",
      "Epoch 62: saving model to Checkpoints\\weights.62.hdf5\n",
      "804/804 [==============================] - 8s 10ms/step - loss: 0.4028 - accuracy: 0.8069\n",
      "Epoch 63/100\n",
      "804/804 [==============================] - ETA: 0s - loss: 0.4032 - accuracy: 0.8079\n",
      "Epoch 63: saving model to Checkpoints\\weights.63.hdf5\n",
      "804/804 [==============================] - 8s 9ms/step - loss: 0.4032 - accuracy: 0.8079\n",
      "Epoch 64/100\n",
      "799/804 [============================>.] - ETA: 0s - loss: 0.4035 - accuracy: 0.8074\n",
      "Epoch 64: saving model to Checkpoints\\weights.64.hdf5\n",
      "804/804 [==============================] - 9s 11ms/step - loss: 0.4034 - accuracy: 0.8077\n",
      "Epoch 65/100\n",
      "803/804 [============================>.] - ETA: 0s - loss: 0.4038 - accuracy: 0.8071\n",
      "Epoch 65: saving model to Checkpoints\\weights.65.hdf5\n",
      "804/804 [==============================] - 7s 9ms/step - loss: 0.4039 - accuracy: 0.8070\n",
      "Epoch 66/100\n",
      "800/804 [============================>.] - ETA: 0s - loss: 0.4043 - accuracy: 0.8075\n",
      "Epoch 66: saving model to Checkpoints\\weights.66.hdf5\n",
      "804/804 [==============================] - 8s 10ms/step - loss: 0.4039 - accuracy: 0.8078\n",
      "Epoch 67/100\n",
      "799/804 [============================>.] - ETA: 0s - loss: 0.4049 - accuracy: 0.8075\n",
      "Epoch 67: saving model to Checkpoints\\weights.67.hdf5\n",
      "804/804 [==============================] - 7s 9ms/step - loss: 0.4051 - accuracy: 0.8075\n",
      "Epoch 68/100\n",
      "804/804 [==============================] - ETA: 0s - loss: 0.4994 - accuracy: 0.8065\n",
      "Epoch 68: saving model to Checkpoints\\weights.68.hdf5\n",
      "804/804 [==============================] - 9s 11ms/step - loss: 0.4994 - accuracy: 0.8065\n",
      "Epoch 69/100\n",
      "804/804 [==============================] - ETA: 0s - loss: 0.4021 - accuracy: 0.8077\n",
      "Epoch 69: saving model to Checkpoints\\weights.69.hdf5\n",
      "804/804 [==============================] - 8s 10ms/step - loss: 0.4021 - accuracy: 0.8077\n",
      "Epoch 70/100\n",
      "802/804 [============================>.] - ETA: 0s - loss: 0.4014 - accuracy: 0.8077\n",
      "Epoch 70: saving model to Checkpoints\\weights.70.hdf5\n",
      "804/804 [==============================] - 9s 11ms/step - loss: 0.4016 - accuracy: 0.8077\n",
      "Epoch 71/100\n",
      "802/804 [============================>.] - ETA: 0s - loss: 0.4018 - accuracy: 0.8076\n",
      "Epoch 71: saving model to Checkpoints\\weights.71.hdf5\n",
      "804/804 [==============================] - 9s 12ms/step - loss: 0.4019 - accuracy: 0.8075\n",
      "Epoch 72/100\n",
      "803/804 [============================>.] - ETA: 0s - loss: 0.4022 - accuracy: 0.8075\n",
      "Epoch 72: saving model to Checkpoints\\weights.72.hdf5\n",
      "804/804 [==============================] - 8s 9ms/step - loss: 0.4022 - accuracy: 0.8075\n",
      "Epoch 73/100\n",
      "804/804 [==============================] - ETA: 0s - loss: 0.4031 - accuracy: 0.8084\n",
      "Epoch 73: saving model to Checkpoints\\weights.73.hdf5\n",
      "804/804 [==============================] - 7s 9ms/step - loss: 0.4031 - accuracy: 0.8084\n",
      "Epoch 74/100\n",
      "802/804 [============================>.] - ETA: 0s - loss: 0.4039 - accuracy: 0.8074\n",
      "Epoch 74: saving model to Checkpoints\\weights.74.hdf5\n",
      "804/804 [==============================] - 7s 9ms/step - loss: 0.4041 - accuracy: 0.8073\n",
      "Epoch 75/100\n",
      "801/804 [============================>.] - ETA: 0s - loss: 0.4029 - accuracy: 0.8075\n",
      "Epoch 75: saving model to Checkpoints\\weights.75.hdf5\n",
      "804/804 [==============================] - 7s 8ms/step - loss: 0.4029 - accuracy: 0.8075\n",
      "Epoch 76/100\n",
      "803/804 [============================>.] - ETA: 0s - loss: 0.4382 - accuracy: 0.8068\n",
      "Epoch 76: saving model to Checkpoints\\weights.76.hdf5\n",
      "804/804 [==============================] - 7s 9ms/step - loss: 0.4380 - accuracy: 0.8068\n",
      "Epoch 77/100\n",
      "800/804 [============================>.] - ETA: 0s - loss: 0.4043 - accuracy: 0.8074\n",
      "Epoch 77: saving model to Checkpoints\\weights.77.hdf5\n",
      "804/804 [==============================] - 9s 11ms/step - loss: 0.4040 - accuracy: 0.8076\n",
      "Epoch 78/100\n",
      "802/804 [============================>.] - ETA: 0s - loss: 0.4044 - accuracy: 0.8077\n",
      "Epoch 78: saving model to Checkpoints\\weights.78.hdf5\n",
      "804/804 [==============================] - 9s 11ms/step - loss: 0.4044 - accuracy: 0.8077\n",
      "Epoch 79/100\n",
      "803/804 [============================>.] - ETA: 0s - loss: 0.4027 - accuracy: 0.8073\n",
      "Epoch 79: saving model to Checkpoints\\weights.79.hdf5\n",
      "804/804 [==============================] - 8s 10ms/step - loss: 0.4026 - accuracy: 0.8073\n",
      "Epoch 80/100\n",
      "802/804 [============================>.] - ETA: 0s - loss: 0.4021 - accuracy: 0.8085\n",
      "Epoch 80: saving model to Checkpoints\\weights.80.hdf5\n",
      "804/804 [==============================] - 8s 10ms/step - loss: 0.4021 - accuracy: 0.8085\n",
      "Epoch 81/100\n",
      "804/804 [==============================] - ETA: 0s - loss: 0.4018 - accuracy: 0.8079\n",
      "Epoch 81: saving model to Checkpoints\\weights.81.hdf5\n",
      "804/804 [==============================] - 8s 10ms/step - loss: 0.4018 - accuracy: 0.8079\n",
      "Epoch 82/100\n",
      "804/804 [==============================] - ETA: 0s - loss: 0.4056 - accuracy: 0.8082\n",
      "Epoch 82: saving model to Checkpoints\\weights.82.hdf5\n",
      "804/804 [==============================] - 7s 9ms/step - loss: 0.4056 - accuracy: 0.8082\n",
      "Epoch 83/100\n",
      "802/804 [============================>.] - ETA: 0s - loss: 0.4396 - accuracy: 0.8067\n",
      "Epoch 83: saving model to Checkpoints\\weights.83.hdf5\n",
      "804/804 [==============================] - 9s 12ms/step - loss: 0.4396 - accuracy: 0.8067\n",
      "Epoch 84/100\n",
      "803/804 [============================>.] - ETA: 0s - loss: 0.4025 - accuracy: 0.8085\n",
      "Epoch 84: saving model to Checkpoints\\weights.84.hdf5\n",
      "804/804 [==============================] - 9s 12ms/step - loss: 0.4025 - accuracy: 0.8084\n",
      "Epoch 85/100\n",
      "803/804 [============================>.] - ETA: 0s - loss: 0.4050 - accuracy: 0.8077\n",
      "Epoch 85: saving model to Checkpoints\\weights.85.hdf5\n",
      "804/804 [==============================] - 9s 11ms/step - loss: 0.4050 - accuracy: 0.8077\n",
      "Epoch 86/100\n",
      "799/804 [============================>.] - ETA: 0s - loss: 0.4035 - accuracy: 0.8083\n",
      "Epoch 86: saving model to Checkpoints\\weights.86.hdf5\n",
      "804/804 [==============================] - 9s 11ms/step - loss: 0.4036 - accuracy: 0.8083\n",
      "Epoch 87/100\n",
      "802/804 [============================>.] - ETA: 0s - loss: 0.4131 - accuracy: 0.8072\n",
      "Epoch 87: saving model to Checkpoints\\weights.87.hdf5\n",
      "804/804 [==============================] - 9s 12ms/step - loss: 0.4130 - accuracy: 0.8073\n",
      "Epoch 88/100\n",
      "802/804 [============================>.] - ETA: 0s - loss: 0.4112 - accuracy: 0.8078\n",
      "Epoch 88: saving model to Checkpoints\\weights.88.hdf5\n",
      "804/804 [==============================] - 11s 14ms/step - loss: 0.4111 - accuracy: 0.8078\n",
      "Epoch 89/100\n",
      "799/804 [============================>.] - ETA: 0s - loss: 0.4028 - accuracy: 0.8070\n",
      "Epoch 89: saving model to Checkpoints\\weights.89.hdf5\n",
      "804/804 [==============================] - 11s 13ms/step - loss: 0.4027 - accuracy: 0.8070\n",
      "Epoch 90/100\n",
      "799/804 [============================>.] - ETA: 0s - loss: 0.4027 - accuracy: 0.8078\n",
      "Epoch 90: saving model to Checkpoints\\weights.90.hdf5\n",
      "804/804 [==============================] - 8s 10ms/step - loss: 0.4030 - accuracy: 0.8078\n",
      "Epoch 91/100\n",
      "802/804 [============================>.] - ETA: 0s - loss: 0.4036 - accuracy: 0.8075\n",
      "Epoch 91: saving model to Checkpoints\\weights.91.hdf5\n",
      "804/804 [==============================] - 8s 9ms/step - loss: 0.4035 - accuracy: 0.8077\n",
      "Epoch 92/100\n",
      "803/804 [============================>.] - ETA: 0s - loss: 0.4096 - accuracy: 0.8075\n",
      "Epoch 92: saving model to Checkpoints\\weights.92.hdf5\n",
      "804/804 [==============================] - 9s 11ms/step - loss: 0.4097 - accuracy: 0.8075\n",
      "Epoch 93/100\n",
      "799/804 [============================>.] - ETA: 0s - loss: 0.4031 - accuracy: 0.8066\n",
      "Epoch 93: saving model to Checkpoints\\weights.93.hdf5\n",
      "804/804 [==============================] - 8s 10ms/step - loss: 0.4034 - accuracy: 0.8064\n",
      "Epoch 94/100\n",
      "799/804 [============================>.] - ETA: 0s - loss: 0.4028 - accuracy: 0.8073\n",
      "Epoch 94: saving model to Checkpoints\\weights.94.hdf5\n",
      "804/804 [==============================] - 7s 9ms/step - loss: 0.4026 - accuracy: 0.8073\n",
      "Epoch 95/100\n",
      "802/804 [============================>.] - ETA: 0s - loss: 0.4029 - accuracy: 0.8076\n",
      "Epoch 95: saving model to Checkpoints\\weights.95.hdf5\n",
      "804/804 [==============================] - 8s 9ms/step - loss: 0.4030 - accuracy: 0.8075\n",
      "Epoch 96/100\n",
      "803/804 [============================>.] - ETA: 0s - loss: 0.4019 - accuracy: 0.8078\n",
      "Epoch 96: saving model to Checkpoints\\weights.96.hdf5\n",
      "804/804 [==============================] - 7s 9ms/step - loss: 0.4020 - accuracy: 0.8078\n",
      "Epoch 97/100\n",
      "799/804 [============================>.] - ETA: 0s - loss: 0.4018 - accuracy: 0.8078\n",
      "Epoch 97: saving model to Checkpoints\\weights.97.hdf5\n",
      "804/804 [==============================] - 8s 9ms/step - loss: 0.4020 - accuracy: 0.8077\n",
      "Epoch 98/100\n",
      "804/804 [==============================] - ETA: 0s - loss: 0.4038 - accuracy: 0.8071\n",
      "Epoch 98: saving model to Checkpoints\\weights.98.hdf5\n",
      "804/804 [==============================] - 7s 9ms/step - loss: 0.4038 - accuracy: 0.8071\n",
      "Epoch 99/100\n",
      "801/804 [============================>.] - ETA: 0s - loss: 0.4051 - accuracy: 0.8071\n",
      "Epoch 99: saving model to Checkpoints\\weights.99.hdf5\n",
      "804/804 [==============================] - 8s 9ms/step - loss: 0.4050 - accuracy: 0.8070\n",
      "Epoch 100/100\n",
      "804/804 [==============================] - ETA: 0s - loss: 0.4141 - accuracy: 0.8082\n",
      "Epoch 100: saving model to Checkpoints\\weights.100.hdf5\n",
      "804/804 [==============================] - 7s 9ms/step - loss: 0.4141 - accuracy: 0.8082\n"
     ]
    }
   ],
   "source": [
    "# Train the model\n",
    "fit_model = nn.fit(X_train_scaled,y_train,epochs=100, callbacks=[cp_callback])"
   ]
  },
  {
   "cell_type": "code",
   "execution_count": 46,
   "metadata": {
    "colab": {
     "base_uri": "https://localhost:8080/",
     "height": 296
    },
    "id": "r_AzlFv6T6m0",
    "outputId": "61b05bf6-b2d1-437c-ae67-b74cf7ac488c"
   },
   "outputs": [
    {
     "data": {
      "text/plain": [
       "<AxesSubplot:>"
      ]
     },
     "execution_count": 46,
     "metadata": {},
     "output_type": "execute_result"
    },
    {
     "data": {
      "image/png": "[encoded data removed]",
      "text/plain": [
       "<Figure size 432x288 with 1 Axes>"
      ]
     },
     "metadata": {},
     "output_type": "display_data"
    }
   ],
   "source": [
    "# Create a DataFrame containing training History\n",
    "history_df = pd.DataFrame(fit_model.history, index=range(1,len(fit_model.history[\"loss\"])+1))\n",
    "\n",
    "# Plot the loss\n",
    "history_df.plot(y=\"loss\")"
   ]
  },
  {
   "cell_type": "code",
   "execution_count": 47,
   "metadata": {
    "colab": {
     "base_uri": "https://localhost:8080/",
     "height": 285
    },
    "id": "wS-fBGRoT6cW",
    "outputId": "7bc0c819-d2db-480e-dc41-4ff2d0347823"
   },
   "outputs": [
    {
     "data": {
      "text/plain": [
       "<AxesSubplot:>"
      ]
     },
     "execution_count": 47,
     "metadata": {},
     "output_type": "execute_result"
    },
    {
     "data": {
      "image/png": "[encoded data removed]",
      "text/plain": [
       "<Figure size 432x288 with 1 Axes>"
      ]
     },
     "metadata": {},
     "output_type": "display_data"
    }
   ],
   "source": [
    "# Plot the accuracy\n",
    "history_df.plot(y=\"accuracy\")"
   ]
  },
  {
   "cell_type": "code",
   "execution_count": 48,
   "metadata": {
    "colab": {
     "base_uri": "https://localhost:8080/"
    },
    "id": "3-CB_ze2N4cu",
    "outputId": "7852ebf8-27ad-4dc9-8749-467ec4cc3d14"
   },
   "outputs": [
    {
     "name": "stdout",
     "output_type": "stream",
     "text": [
      "268/268 - 1s - loss: 0.6891 - accuracy: 0.7866 - 1s/epoch - 4ms/step\n",
      "Loss: 0.689103901386261, Accuracy: 0.7865889072418213\n"
     ]
    }
   ],
   "source": [
    "# Evaluate the model using the test data\n",
    "model_loss, model_accuracy = nn.evaluate(X_test_scaled,y_tests,verbose=2)\n",
    "print(f\"Loss: {model_loss}, Accuracy: {model_accuracy}\")"
   ]
  },
  {
   "cell_type": "code",
   "execution_count": 49,
   "metadata": {
    "id": "cqHbY_68N4cu"
   },
   "outputs": [],
   "source": [
    "# Export our model to HDF5 file\n",
    "nn.save(\"./Trained_Models/AlphabetSoupCharity.h5\")"
   ]
  },
  {
   "cell_type": "markdown",
   "metadata": {},
   "source": [
    "Examine Random Forest Classifier for comparison to another model"
   ]
  },
  {
   "cell_type": "code",
   "execution_count": 50,
   "metadata": {},
   "outputs": [],
   "source": [
    "# import dependencies\n",
    "from sklearn.metrics import accuracy_score\n",
    "from sklearn.ensemble import RandomForestClassifier"
   ]
  },
  {
   "cell_type": "code",
   "execution_count": 51,
   "metadata": {},
   "outputs": [
    {
     "name": "stdout",
     "output_type": "stream",
     "text": [
      " Random forest predictive accuracy: 0.776\n"
     ]
    }
   ],
   "source": [
    "# create a random forest classifier\n",
    "rf_model = RandomForestClassifier(n_estimators=200, random_state=1)\n",
    "\n",
    "# fitting the model\n",
    "rf_model = rf_model.fit(X_train_scaled, y_train)\n",
    "                        \n",
    "# Evaluate the model\n",
    "y_pred = rf_model.predict(X_test_scaled)\n",
    "print(f\" Random forest predictive accuracy: {accuracy_score(y_tests,y_pred):.3f}\")                        "
   ]
  },
  {
   "cell_type": "code",
   "execution_count": 52,
   "metadata": {},
   "outputs": [
    {
     "data": {
      "image/png": "[encoded data removed]",
      "text/plain": [
       "<Figure size 432x288 with 2 Axes>"
      ]
     },
     "metadata": {},
     "output_type": "display_data"
    }
   ],
   "source": [
    "# Display the confusion matrix\n",
    "cm = confusion_matrix(y_tests, y_pred)\n",
    "\n",
    "# display the confusion matrix display\n",
    "disp = ConfusionMatrixDisplay(confusion_matrix=cm,display_labels= rf_model.classes_)\n",
    "disp.plot()\n",
    "plt.savefig(\"./Images/RandomForestClassifier_confusion_marix.png\")\n",
    "plt.show()"
   ]
  },
  {
   "cell_type": "code",
   "execution_count": 53,
   "metadata": {},
   "outputs": [
    {
     "name": "stdout",
     "output_type": "stream",
     "text": [
      "              precision    recall  f1-score   support\n",
      "\n",
      "           0       0.80      0.69      0.74      4003\n",
      "           1       0.76      0.85      0.80      4572\n",
      "\n",
      "    accuracy                           0.78      8575\n",
      "   macro avg       0.78      0.77      0.77      8575\n",
      "weighted avg       0.78      0.78      0.77      8575\n",
      "\n"
     ]
    }
   ],
   "source": [
    "# Print the classification report\n",
    "report = classification_report(y_tests, y_pred)\n",
    "print(report)"
   ]
  },
  {
   "cell_type": "code",
   "execution_count": 54,
   "metadata": {},
   "outputs": [
    {
     "data": {
      "text/html": [
       "<div>\n",
       "<style scoped>\n",
       "    .dataframe tbody tr th:only-of-type {\n",
       "        vertical-align: middle;\n",
       "    }\n",
       "\n",
       "    .dataframe tbody tr th {\n",
       "        vertical-align: top;\n",
       "    }\n",
       "\n",
       "    .dataframe thead th {\n",
       "        text-align: right;\n",
       "    }\n",
       "</style>\n",
       "<table border=\"1\" class=\"dataframe\">\n",
       "  <thead>\n",
       "    <tr style=\"text-align: right;\">\n",
       "      <th></th>\n",
       "      <th>feature</th>\n",
       "      <th>importance</th>\n",
       "    </tr>\n",
       "  </thead>\n",
       "  <tbody>\n",
       "    <tr>\n",
       "      <th>0</th>\n",
       "      <td>ASK_AMT</td>\n",
       "      <td>0.274360</td>\n",
       "    </tr>\n",
       "    <tr>\n",
       "      <th>1</th>\n",
       "      <td>NAME_Other</td>\n",
       "      <td>0.072332</td>\n",
       "    </tr>\n",
       "    <tr>\n",
       "      <th>2</th>\n",
       "      <td>AFFILIATION_Independent</td>\n",
       "      <td>0.059615</td>\n",
       "    </tr>\n",
       "    <tr>\n",
       "      <th>3</th>\n",
       "      <td>AFFILIATION_CompanySponsored</td>\n",
       "      <td>0.055770</td>\n",
       "    </tr>\n",
       "    <tr>\n",
       "      <th>4</th>\n",
       "      <td>ORGANIZATION_Association</td>\n",
       "      <td>0.019687</td>\n",
       "    </tr>\n",
       "    <tr>\n",
       "      <th>...</th>\n",
       "      <td>...</td>\n",
       "      <td>...</td>\n",
       "    </tr>\n",
       "    <tr>\n",
       "      <th>390</th>\n",
       "      <td>NAME_DEPARTMENT OF UTAH LADIES AUXILIARY TO TH...</td>\n",
       "      <td>0.000018</td>\n",
       "    </tr>\n",
       "    <tr>\n",
       "      <th>391</th>\n",
       "      <td>NAME_VFW AUXILIARY DEPT OF HAWAII</td>\n",
       "      <td>0.000016</td>\n",
       "    </tr>\n",
       "    <tr>\n",
       "      <th>392</th>\n",
       "      <td>NAME_DAUGHTERS OF CHARITY HEALTH SYSTEM</td>\n",
       "      <td>0.000012</td>\n",
       "    </tr>\n",
       "    <tr>\n",
       "      <th>393</th>\n",
       "      <td>NAME_VETERANS OF FOREIGN WARS DEPARTMENT OF KA...</td>\n",
       "      <td>0.000009</td>\n",
       "    </tr>\n",
       "    <tr>\n",
       "      <th>394</th>\n",
       "      <td>NAME_DEPARTMENT OF OREGON LADIES AUXILLARY TO ...</td>\n",
       "      <td>0.000008</td>\n",
       "    </tr>\n",
       "  </tbody>\n",
       "</table>\n",
       "<p>395 rows × 2 columns</p>\n",
       "</div>"
      ],
      "text/plain": [
       "                                               feature  importance\n",
       "0                                              ASK_AMT    0.274360\n",
       "1                                           NAME_Other    0.072332\n",
       "2                              AFFILIATION_Independent    0.059615\n",
       "3                         AFFILIATION_CompanySponsored    0.055770\n",
       "4                             ORGANIZATION_Association    0.019687\n",
       "..                                                 ...         ...\n",
       "390  NAME_DEPARTMENT OF UTAH LADIES AUXILIARY TO TH...    0.000018\n",
       "391                  NAME_VFW AUXILIARY DEPT OF HAWAII    0.000016\n",
       "392            NAME_DAUGHTERS OF CHARITY HEALTH SYSTEM    0.000012\n",
       "393  NAME_VETERANS OF FOREIGN WARS DEPARTMENT OF KA...    0.000009\n",
       "394  NAME_DEPARTMENT OF OREGON LADIES AUXILLARY TO ...    0.000008\n",
       "\n",
       "[395 rows x 2 columns]"
      ]
     },
     "execution_count": 54,
     "metadata": {},
     "output_type": "execute_result"
    }
   ],
   "source": [
    "# get feature importance using importances = forest.feature_importances_\n",
    "# create feature importances from model\n",
    "importances = rf_model.feature_importances_\n",
    "\n",
    "# get column names\n",
    "columns = X_df.columns\n",
    "\n",
    "#create a dataframe\n",
    "feature_importance_df = pd.DataFrame({\n",
    "    'feature': columns,\n",
    "    'importance': importances\n",
    "})\n",
    "\n",
    "feature_importance_df.sort_values(by=['importance'], ascending=False, inplace=True)\n",
    "feature_importance_df.reset_index(drop=True, inplace=True)\n",
    "feature_importance_df"
   ]
  },
  {
   "cell_type": "code",
   "execution_count": 60,
   "metadata": {},
   "outputs": [
    {
     "name": "stderr",
     "output_type": "stream",
     "text": [
      "C:\\Users\\oscy7\\anaconda3\\envs\\mlenv\\lib\\site-packages\\ipykernel_launcher.py:13: UserWarning: Tight layout not applied. The bottom and top margins cannot be made large enough to accommodate all axes decorations.\n",
      "  del sys.path[0]\n"
     ]
    },
    {
     "data": {
      "image/png": "[encoded data removed]",
      "text/plain": [
       "<Figure size 432x288 with 1 Axes>"
      ]
     },
     "metadata": {},
     "output_type": "display_data"
    }
   ],
   "source": [
    "# visualize the top ten feature_importances_\n",
    "importances = rf_model.feature_importances_[:10]\n",
    "std = np.std([\n",
    "    tree.feature_importances_[: 10] for tree in rf_model.estimators_], axis=0)\n",
    "\n",
    "forest_importances = pd.Series(importances, index=[X_df.columns[: 10]])\n",
    "\n",
    "fig, ax = plt.subplots()\n",
    "forest_importances.plot.bar(yerr=std, ax=ax)\n",
    "ax.set_title(\"Top Ten Feature importances using MDI\")\n",
    "ax.set_ylabel(\"Mean decrease in impurity\")\n",
    "plt.savefig(\"./Images/ForestClassifier_feature_importance.png\")\n",
    "fig.tight_layout()"
   ]
  },
  {
   "cell_type": "code",
   "execution_count": null,
   "metadata": {},
   "outputs": [],
   "source": []
  }
 ],
 "metadata": {
  "colab": {
   "collapsed_sections": [],
   "provenance": []
  },
  "kernelspec": {
   "display_name": "mlenv",
   "language": "python",
   "name": "mlenv"
  },
  "language_info": {
   "codemirror_mode": {
    "name": "ipython",
    "version": 3
   },
   "file_extension": ".py",
   "mimetype": "text/x-python",
   "name": "python",
   "nbconvert_exporter": "python",
   "pygments_lexer": "ipython3",
   "version": "3.7.13"
  }
 },
 "nbformat": 4,
 "nbformat_minor": 4
}
