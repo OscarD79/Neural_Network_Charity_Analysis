{
 "cells": [
  {
   "cell_type": "markdown",
   "metadata": {
    "id": "X3OgWMgiN4cm"
   },
   "source": [
    "### Deliverable 1: Preprocessing the Data for a Neural Network"
   ]
  },
  {
   "cell_type": "code",
   "execution_count": 1,
   "metadata": {
    "id": "AQ2rPV5QN4cn"
   },
   "outputs": [],
   "source": [
    "# Import our dependencies\n",
    "from sklearn.model_selection import train_test_split\n",
    "from sklearn.preprocessing import StandardScaler,OneHotEncoder\n",
    "import pandas as pd\n",
    "import tensorflow as tf"
   ]
  },
  {
   "cell_type": "code",
   "execution_count": 2,
   "metadata": {
    "id": "DQ08rIA_PmCe"
   },
   "outputs": [],
   "source": [
    "# Additional dependencies\n",
    "import matplotlib.pyplot as plt\n",
    "import seaborn as sns\n",
    "sns.set_theme(style=\"darkgrid\")"
   ]
  },
  {
   "cell_type": "code",
   "execution_count": 3,
   "metadata": {
    "colab": {
     "base_uri": "https://localhost:8080/",
     "height": 496
    },
    "id": "YA_YlYrBN4cp",
    "outputId": "1550e43a-81d0-4b5e-d949-d631b7a00603"
   },
   "outputs": [
    {
     "data": {
      "text/html": [
       "<div>\n",
       "<style scoped>\n",
       "    .dataframe tbody tr th:only-of-type {\n",
       "        vertical-align: middle;\n",
       "    }\n",
       "\n",
       "    .dataframe tbody tr th {\n",
       "        vertical-align: top;\n",
       "    }\n",
       "\n",
       "    .dataframe thead th {\n",
       "        text-align: right;\n",
       "    }\n",
       "</style>\n",
       "<table border=\"1\" class=\"dataframe\">\n",
       "  <thead>\n",
       "    <tr style=\"text-align: right;\">\n",
       "      <th></th>\n",
       "      <th>EIN</th>\n",
       "      <th>NAME</th>\n",
       "      <th>APPLICATION_TYPE</th>\n",
       "      <th>AFFILIATION</th>\n",
       "      <th>CLASSIFICATION</th>\n",
       "      <th>USE_CASE</th>\n",
       "      <th>ORGANIZATION</th>\n",
       "      <th>STATUS</th>\n",
       "      <th>INCOME_AMT</th>\n",
       "      <th>SPECIAL_CONSIDERATIONS</th>\n",
       "      <th>ASK_AMT</th>\n",
       "      <th>IS_SUCCESSFUL</th>\n",
       "    </tr>\n",
       "  </thead>\n",
       "  <tbody>\n",
       "    <tr>\n",
       "      <th>0</th>\n",
       "      <td>10520599</td>\n",
       "      <td>BLUE KNIGHTS MOTORCYCLE CLUB</td>\n",
       "      <td>T10</td>\n",
       "      <td>Independent</td>\n",
       "      <td>C1000</td>\n",
       "      <td>ProductDev</td>\n",
       "      <td>Association</td>\n",
       "      <td>1</td>\n",
       "      <td>0</td>\n",
       "      <td>N</td>\n",
       "      <td>5000</td>\n",
       "      <td>1</td>\n",
       "    </tr>\n",
       "    <tr>\n",
       "      <th>1</th>\n",
       "      <td>10531628</td>\n",
       "      <td>AMERICAN CHESAPEAKE CLUB CHARITABLE TR</td>\n",
       "      <td>T3</td>\n",
       "      <td>Independent</td>\n",
       "      <td>C2000</td>\n",
       "      <td>Preservation</td>\n",
       "      <td>Co-operative</td>\n",
       "      <td>1</td>\n",
       "      <td>1-9999</td>\n",
       "      <td>N</td>\n",
       "      <td>108590</td>\n",
       "      <td>1</td>\n",
       "    </tr>\n",
       "    <tr>\n",
       "      <th>2</th>\n",
       "      <td>10547893</td>\n",
       "      <td>ST CLOUD PROFESSIONAL FIREFIGHTERS</td>\n",
       "      <td>T5</td>\n",
       "      <td>CompanySponsored</td>\n",
       "      <td>C3000</td>\n",
       "      <td>ProductDev</td>\n",
       "      <td>Association</td>\n",
       "      <td>1</td>\n",
       "      <td>0</td>\n",
       "      <td>N</td>\n",
       "      <td>5000</td>\n",
       "      <td>0</td>\n",
       "    </tr>\n",
       "    <tr>\n",
       "      <th>3</th>\n",
       "      <td>10553066</td>\n",
       "      <td>SOUTHSIDE ATHLETIC ASSOCIATION</td>\n",
       "      <td>T3</td>\n",
       "      <td>CompanySponsored</td>\n",
       "      <td>C2000</td>\n",
       "      <td>Preservation</td>\n",
       "      <td>Trust</td>\n",
       "      <td>1</td>\n",
       "      <td>10000-24999</td>\n",
       "      <td>N</td>\n",
       "      <td>6692</td>\n",
       "      <td>1</td>\n",
       "    </tr>\n",
       "    <tr>\n",
       "      <th>4</th>\n",
       "      <td>10556103</td>\n",
       "      <td>GENETIC RESEARCH INSTITUTE OF THE DESERT</td>\n",
       "      <td>T3</td>\n",
       "      <td>Independent</td>\n",
       "      <td>C1000</td>\n",
       "      <td>Heathcare</td>\n",
       "      <td>Trust</td>\n",
       "      <td>1</td>\n",
       "      <td>100000-499999</td>\n",
       "      <td>N</td>\n",
       "      <td>142590</td>\n",
       "      <td>1</td>\n",
       "    </tr>\n",
       "  </tbody>\n",
       "</table>\n",
       "</div>"
      ],
      "text/plain": [
       "        EIN                                      NAME APPLICATION_TYPE  \\\n",
       "0  10520599              BLUE KNIGHTS MOTORCYCLE CLUB              T10   \n",
       "1  10531628    AMERICAN CHESAPEAKE CLUB CHARITABLE TR               T3   \n",
       "2  10547893        ST CLOUD PROFESSIONAL FIREFIGHTERS               T5   \n",
       "3  10553066            SOUTHSIDE ATHLETIC ASSOCIATION               T3   \n",
       "4  10556103  GENETIC RESEARCH INSTITUTE OF THE DESERT               T3   \n",
       "\n",
       "        AFFILIATION CLASSIFICATION      USE_CASE  ORGANIZATION  STATUS  \\\n",
       "0       Independent          C1000    ProductDev   Association       1   \n",
       "1       Independent          C2000  Preservation  Co-operative       1   \n",
       "2  CompanySponsored          C3000    ProductDev   Association       1   \n",
       "3  CompanySponsored          C2000  Preservation         Trust       1   \n",
       "4       Independent          C1000     Heathcare         Trust       1   \n",
       "\n",
       "      INCOME_AMT SPECIAL_CONSIDERATIONS  ASK_AMT  IS_SUCCESSFUL  \n",
       "0              0                      N     5000              1  \n",
       "1         1-9999                      N   108590              1  \n",
       "2              0                      N     5000              0  \n",
       "3    10000-24999                      N     6692              1  \n",
       "4  100000-499999                      N   142590              1  "
      ]
     },
     "execution_count": 3,
     "metadata": {},
     "output_type": "execute_result"
    }
   ],
   "source": [
    "#  Import and read the charity_data.csv.\n",
    "import pandas as pd \n",
    "application_df = pd.read_csv(\"./Resources/charity_data.csv\")\n",
    "application_df.head()"
   ]
  },
  {
   "cell_type": "code",
   "execution_count": 4,
   "metadata": {
    "colab": {
     "base_uri": "https://localhost:8080/"
    },
    "id": "V9DYvILQXM3S",
    "outputId": "4f039de9-8375-47a6-a8d5-81d68879408c"
   },
   "outputs": [
    {
     "name": "stdout",
     "output_type": "stream",
     "text": [
      "<class 'pandas.core.frame.DataFrame'>\n",
      "RangeIndex: 34299 entries, 0 to 34298\n",
      "Data columns (total 12 columns):\n",
      " #   Column                  Non-Null Count  Dtype \n",
      "---  ------                  --------------  ----- \n",
      " 0   EIN                     34299 non-null  int64 \n",
      " 1   NAME                    34299 non-null  object\n",
      " 2   APPLICATION_TYPE        34299 non-null  object\n",
      " 3   AFFILIATION             34299 non-null  object\n",
      " 4   CLASSIFICATION          34299 non-null  object\n",
      " 5   USE_CASE                34299 non-null  object\n",
      " 6   ORGANIZATION            34299 non-null  object\n",
      " 7   STATUS                  34299 non-null  int64 \n",
      " 8   INCOME_AMT              34299 non-null  object\n",
      " 9   SPECIAL_CONSIDERATIONS  34299 non-null  object\n",
      " 10  ASK_AMT                 34299 non-null  int64 \n",
      " 11  IS_SUCCESSFUL           34299 non-null  int64 \n",
      "dtypes: int64(4), object(8)\n",
      "memory usage: 3.1+ MB\n"
     ]
    }
   ],
   "source": [
    "# look at data types\n",
    "application_df.info()"
   ]
  },
  {
   "cell_type": "code",
   "execution_count": 5,
   "metadata": {
    "colab": {
     "base_uri": "https://localhost:8080/"
    },
    "id": "kkCBM0L2XmQI",
    "outputId": "0189001d-b72f-4a2b-8d02-064436365fb7"
   },
   "outputs": [
    {
     "data": {
      "text/plain": [
       "(34299, 12)"
      ]
     },
     "execution_count": 5,
     "metadata": {},
     "output_type": "execute_result"
    }
   ],
   "source": [
    "# check the shape\n",
    "application_df.shape"
   ]
  },
  {
   "cell_type": "code",
   "execution_count": 6,
   "metadata": {
    "colab": {
     "base_uri": "https://localhost:8080/"
    },
    "id": "sbtLB6IXN4cp",
    "outputId": "3323db2d-1ca7-46a5-f53c-88be13513a90"
   },
   "outputs": [
    {
     "name": "stdout",
     "output_type": "stream",
     "text": [
      "<class 'pandas.core.frame.DataFrame'>\n",
      "RangeIndex: 34299 entries, 0 to 34298\n",
      "Data columns (total 11 columns):\n",
      " #   Column                  Non-Null Count  Dtype \n",
      "---  ------                  --------------  ----- \n",
      " 0   NAME                    34299 non-null  object\n",
      " 1   APPLICATION_TYPE        34299 non-null  object\n",
      " 2   AFFILIATION             34299 non-null  object\n",
      " 3   CLASSIFICATION          34299 non-null  object\n",
      " 4   USE_CASE                34299 non-null  object\n",
      " 5   ORGANIZATION            34299 non-null  object\n",
      " 6   STATUS                  34299 non-null  int64 \n",
      " 7   INCOME_AMT              34299 non-null  object\n",
      " 8   SPECIAL_CONSIDERATIONS  34299 non-null  object\n",
      " 9   ASK_AMT                 34299 non-null  int64 \n",
      " 10  IS_SUCCESSFUL           34299 non-null  int64 \n",
      "dtypes: int64(3), object(8)\n",
      "memory usage: 2.9+ MB\n"
     ]
    },
    {
     "name": "stderr",
     "output_type": "stream",
     "text": [
      "C:\\Users\\oscy7\\anaconda3\\envs\\mlenv\\lib\\site-packages\\ipykernel_launcher.py:2: FutureWarning: In a future version of pandas all arguments of DataFrame.drop except for the argument 'labels' will be keyword-only\n",
      "  \n"
     ]
    }
   ],
   "source": [
    "# Drop the non-beneficial ID columns, 'EIN'.\n",
    "application_df = application_df.drop([\"EIN\"], 1)\n",
    "application_df.info()"
   ]
  },
  {
   "cell_type": "code",
   "execution_count": 7,
   "metadata": {
    "colab": {
     "base_uri": "https://localhost:8080/"
    },
    "id": "Xi6uJCJCYHgV",
    "outputId": "8762b405-9823-4494-de28-05ad2c720da1"
   },
   "outputs": [
    {
     "data": {
      "text/plain": [
       "(34299, 11)"
      ]
     },
     "execution_count": 7,
     "metadata": {},
     "output_type": "execute_result"
    }
   ],
   "source": [
    "# check shape\n",
    "application_df.shape"
   ]
  },
  {
   "cell_type": "code",
   "execution_count": 8,
   "metadata": {
    "colab": {
     "base_uri": "https://localhost:8080/"
    },
    "id": "HyDS1d9aN4cp",
    "outputId": "e3d42e38-a967-49eb-beec-b63c30ab1ad4"
   },
   "outputs": [
    {
     "data": {
      "text/plain": [
       "NAME                      19568\n",
       "APPLICATION_TYPE             17\n",
       "AFFILIATION                   6\n",
       "CLASSIFICATION               71\n",
       "USE_CASE                      5\n",
       "ORGANIZATION                  4\n",
       "STATUS                        2\n",
       "INCOME_AMT                    9\n",
       "SPECIAL_CONSIDERATIONS        2\n",
       "ASK_AMT                    8747\n",
       "IS_SUCCESSFUL                 2\n",
       "dtype: int64"
      ]
     },
     "execution_count": 8,
     "metadata": {},
     "output_type": "execute_result"
    }
   ],
   "source": [
    "# Determine the number of unique values in each column.\n",
    "application_df.nunique()"
   ]
  },
  {
   "cell_type": "code",
   "execution_count": 9,
   "metadata": {
    "colab": {
     "base_uri": "https://localhost:8080/"
    },
    "id": "7iavf5rEN4cq",
    "outputId": "23e08b1f-1c50-4aa6-82ab-eceb1ecde032"
   },
   "outputs": [
    {
     "data": {
      "text/plain": [
       "T3     27037\n",
       "T4      1542\n",
       "T6      1216\n",
       "T5      1173\n",
       "T19     1065\n",
       "T8       737\n",
       "T7       725\n",
       "T10      528\n",
       "T9       156\n",
       "T13       66\n",
       "T12       27\n",
       "T2        16\n",
       "T25        3\n",
       "T14        3\n",
       "T29        2\n",
       "T15        2\n",
       "T17        1\n",
       "Name: APPLICATION_TYPE, dtype: int64"
      ]
     },
     "execution_count": 9,
     "metadata": {},
     "output_type": "execute_result"
    }
   ],
   "source": [
    "# Look at APPLICATION_TYPE value counts fo\n",
    "application_counts = application_df[\"APPLICATION_TYPE\"].value_counts()\n",
    "application_counts"
   ]
  },
  {
   "cell_type": "code",
   "execution_count": 10,
   "metadata": {
    "colab": {
     "base_uri": "https://localhost:8080/",
     "height": 285
    },
    "id": "RN54tHR_N4cq",
    "outputId": "ca3e2c90-edf0-46a2-b2d3-30e14d991c3d"
   },
   "outputs": [
    {
     "data": {
      "text/plain": [
       "<AxesSubplot:ylabel='Density'>"
      ]
     },
     "execution_count": 10,
     "metadata": {},
     "output_type": "execute_result"
    },
    {
     "data": {
      "image/png": "[encoded data removed]",
      "text/plain": [
       "<Figure size 432x288 with 1 Axes>"
      ]
     },
     "metadata": {},
     "output_type": "display_data"
    }
   ],
   "source": [
    "# Visualize the value counts of APPLICATION_TYPE\n",
    "application_counts.plot.density()"
   ]
  },
  {
   "cell_type": "code",
   "execution_count": 11,
   "metadata": {
    "colab": {
     "base_uri": "https://localhost:8080/"
    },
    "id": "4xjMyghiN4cr",
    "outputId": "62418e5b-7677-4f00-dbeb-4f4a798e2738"
   },
   "outputs": [
    {
     "data": {
      "text/plain": [
       "T3       27037\n",
       "T4        1542\n",
       "T6        1216\n",
       "T5        1173\n",
       "T19       1065\n",
       "T8         737\n",
       "T7         725\n",
       "T10        528\n",
       "Other      276\n",
       "Name: APPLICATION_TYPE, dtype: int64"
      ]
     },
     "execution_count": 11,
     "metadata": {},
     "output_type": "execute_result"
    }
   ],
   "source": [
    "# Determine which values to replace if counts are less than ...?\n",
    "replace_application = list(application_counts[application_counts < 500].index)\n",
    "\n",
    "# Replace in dataframe\n",
    "for app in replace_application:\n",
    "    application_df[\"APPLICATION_TYPE\"] = application_df[\"APPLICATION_TYPE\"].replace(app,\"Other\")\n",
    "    \n",
    "# Check to make sure binning was successful\n",
    "application_df.APPLICATION_TYPE.value_counts()"
   ]
  },
  {
   "cell_type": "code",
   "execution_count": 12,
   "metadata": {
    "colab": {
     "base_uri": "https://localhost:8080/"
    },
    "id": "BoH0xA7uN4cr",
    "outputId": "033e9f66-1790-473a-ac51-6641558a9ffd"
   },
   "outputs": [
    {
     "data": {
      "text/plain": [
       "C1000    17326\n",
       "C2000     6074\n",
       "C1200     4837\n",
       "C3000     1918\n",
       "C2100     1883\n",
       "         ...  \n",
       "C4120        1\n",
       "C8210        1\n",
       "C2561        1\n",
       "C4500        1\n",
       "C2150        1\n",
       "Name: CLASSIFICATION, Length: 71, dtype: int64"
      ]
     },
     "execution_count": 12,
     "metadata": {},
     "output_type": "execute_result"
    }
   ],
   "source": [
    "# Look at CLASSIFICATION value counts for binning\n",
    "class_counts = application_df[\"CLASSIFICATION\"].value_counts()\n",
    "class_counts"
   ]
  },
  {
   "cell_type": "code",
   "execution_count": 13,
   "metadata": {
    "colab": {
     "base_uri": "https://localhost:8080/",
     "height": 285
    },
    "id": "dWX7ld8VN4cr",
    "outputId": "bdec5dc4-50fb-4687-fc28-29d3e88bd74a"
   },
   "outputs": [
    {
     "data": {
      "text/plain": [
       "<AxesSubplot:ylabel='Density'>"
      ]
     },
     "execution_count": 13,
     "metadata": {},
     "output_type": "execute_result"
    },
    {
     "data": {
      "image/png": "[encoded data removed]",
      "text/plain": [
       "<Figure size 432x288 with 1 Axes>"
      ]
     },
     "metadata": {},
     "output_type": "display_data"
    }
   ],
   "source": [
    "# Visualize the value counts of CLASSIFICATION\n",
    "class_counts.plot.density()"
   ]
  },
  {
   "cell_type": "code",
   "execution_count": 14,
   "metadata": {
    "colab": {
     "base_uri": "https://localhost:8080/"
    },
    "id": "RFdHqKsff0Jc",
    "outputId": "dd2f3a1b-96d8-4797-d1e5-95b65929377e"
   },
   "outputs": [
    {
     "data": {
      "text/plain": [
       "['C7000',\n",
       " 'C1700',\n",
       " 'C4000',\n",
       " 'C5000',\n",
       " 'C1270',\n",
       " 'C2700',\n",
       " 'C2800',\n",
       " 'C7100',\n",
       " 'C1300',\n",
       " 'C1280',\n",
       " 'C1230',\n",
       " 'C1400',\n",
       " 'C7200',\n",
       " 'C2300',\n",
       " 'C1240',\n",
       " 'C8000',\n",
       " 'C7120',\n",
       " 'C1500',\n",
       " 'C1800',\n",
       " 'C6000',\n",
       " 'C1250',\n",
       " 'C8200',\n",
       " 'C1238',\n",
       " 'C1278',\n",
       " 'C1235',\n",
       " 'C1237',\n",
       " 'C7210',\n",
       " 'C2400',\n",
       " 'C1720',\n",
       " 'C4100',\n",
       " 'C1257',\n",
       " 'C1600',\n",
       " 'C1260',\n",
       " 'C2710',\n",
       " 'C0',\n",
       " 'C3200',\n",
       " 'C1234',\n",
       " 'C1246',\n",
       " 'C1267',\n",
       " 'C1256',\n",
       " 'C2190',\n",
       " 'C4200',\n",
       " 'C2600',\n",
       " 'C5200',\n",
       " 'C1370',\n",
       " 'C1248',\n",
       " 'C6100',\n",
       " 'C1820',\n",
       " 'C1900',\n",
       " 'C1236',\n",
       " 'C3700',\n",
       " 'C2570',\n",
       " 'C1580',\n",
       " 'C1245',\n",
       " 'C2500',\n",
       " 'C1570',\n",
       " 'C1283',\n",
       " 'C2380',\n",
       " 'C1732',\n",
       " 'C1728',\n",
       " 'C2170',\n",
       " 'C4120',\n",
       " 'C8210',\n",
       " 'C2561',\n",
       " 'C4500',\n",
       " 'C2150']"
      ]
     },
     "execution_count": 14,
     "metadata": {},
     "output_type": "execute_result"
    }
   ],
   "source": [
    "list(class_counts[class_counts < 1000].index)"
   ]
  },
  {
   "cell_type": "code",
   "execution_count": 15,
   "metadata": {
    "colab": {
     "base_uri": "https://localhost:8080/"
    },
    "id": "mtOnUIj3N4cr",
    "outputId": "7d52dfa4-497c-463f-d552-15bd3e5277d2"
   },
   "outputs": [
    {
     "data": {
      "text/plain": [
       "C1000    17326\n",
       "C2000     6074\n",
       "C1200     4837\n",
       "Other     2261\n",
       "C3000     1918\n",
       "C2100     1883\n",
       "Name: CLASSIFICATION, dtype: int64"
      ]
     },
     "execution_count": 15,
     "metadata": {},
     "output_type": "execute_result"
    }
   ],
   "source": [
    "# Determine which values to replace if counts are less than ..?\n",
    "replace_class = list(class_counts[class_counts < 1000].index)\n",
    "\n",
    "# Replace in dataframe\n",
    "for cls in replace_class:\n",
    "    application_df[\"CLASSIFICATION\"] = application_df[\"CLASSIFICATION\"].replace(cls,\"Other\")\n",
    "    \n",
    "# Check to make sure binning was successful\n",
    "application_df.CLASSIFICATION.value_counts()"
   ]
  },
  {
   "cell_type": "code",
   "execution_count": 16,
   "metadata": {
    "colab": {
     "base_uri": "https://localhost:8080/"
    },
    "id": "Zd3ujZibymV6",
    "outputId": "667c4765-5954-4996-f99e-adb69a69e046"
   },
   "outputs": [
    {
     "data": {
      "text/plain": [
       "NAME                      19568\n",
       "APPLICATION_TYPE              9\n",
       "AFFILIATION                   6\n",
       "CLASSIFICATION                6\n",
       "USE_CASE                      5\n",
       "ORGANIZATION                  4\n",
       "STATUS                        2\n",
       "INCOME_AMT                    9\n",
       "SPECIAL_CONSIDERATIONS        2\n",
       "ASK_AMT                    8747\n",
       "IS_SUCCESSFUL                 2\n",
       "dtype: int64"
      ]
     },
     "execution_count": 16,
     "metadata": {},
     "output_type": "execute_result"
    }
   ],
   "source": [
    "application_df.nunique()"
   ]
  },
  {
   "cell_type": "code",
   "execution_count": 17,
   "metadata": {},
   "outputs": [
    {
     "name": "stdout",
     "output_type": "stream",
     "text": [
      "<class 'pandas.core.frame.DataFrame'>\n",
      "RangeIndex: 34299 entries, 0 to 34298\n",
      "Data columns (total 11 columns):\n",
      " #   Column                  Non-Null Count  Dtype \n",
      "---  ------                  --------------  ----- \n",
      " 0   NAME                    34299 non-null  object\n",
      " 1   APPLICATION_TYPE        34299 non-null  object\n",
      " 2   AFFILIATION             34299 non-null  object\n",
      " 3   CLASSIFICATION          34299 non-null  object\n",
      " 4   USE_CASE                34299 non-null  object\n",
      " 5   ORGANIZATION            34299 non-null  object\n",
      " 6   STATUS                  34299 non-null  int64 \n",
      " 7   INCOME_AMT              34299 non-null  object\n",
      " 8   SPECIAL_CONSIDERATIONS  34299 non-null  object\n",
      " 9   ASK_AMT                 34299 non-null  int64 \n",
      " 10  IS_SUCCESSFUL           34299 non-null  int64 \n",
      "dtypes: int64(3), object(8)\n",
      "memory usage: 2.9+ MB\n"
     ]
    }
   ],
   "source": [
    "application_df.info()"
   ]
  },
  {
   "cell_type": "code",
   "execution_count": 18,
   "metadata": {},
   "outputs": [
    {
     "data": {
      "text/plain": [
       "PARENT BOOSTER USA INC                                                  1260\n",
       "TOPS CLUB INC                                                            765\n",
       "UNITED STATES BOWLING CONGRESS INC                                       700\n",
       "WASHINGTON STATE UNIVERSITY                                              492\n",
       "AMATEUR ATHLETIC UNION OF THE UNITED STATES INC                          408\n",
       "                                                                        ... \n",
       "ST LOUIS SLAM WOMENS FOOTBALL                                              1\n",
       "AIESEC ALUMNI IBEROAMERICA CORP                                            1\n",
       "WEALLBLEEDRED ORG INC                                                      1\n",
       "AMERICAN SOCIETY FOR STANDARDS IN MEDIUMSHIP & PSYCHICAL INVESTIGATI       1\n",
       "WATERHOUSE CHARITABLE TR                                                   1\n",
       "Name: NAME, Length: 19568, dtype: int64"
      ]
     },
     "execution_count": 18,
     "metadata": {},
     "output_type": "execute_result"
    }
   ],
   "source": [
    "# look at name value counts\n",
    "name_counts = application_df[\"NAME\"].value_counts()\n",
    "name_counts"
   ]
  },
  {
   "cell_type": "code",
   "execution_count": 19,
   "metadata": {},
   "outputs": [
    {
     "data": {
      "text/plain": [
       "<AxesSubplot:ylabel='Density'>"
      ]
     },
     "execution_count": 19,
     "metadata": {},
     "output_type": "execute_result"
    },
    {
     "data": {
      "image/png": "[encoded data removed]",
      "text/plain": [
       "<Figure size 432x288 with 1 Axes>"
      ]
     },
     "metadata": {},
     "output_type": "display_data"
    }
   ],
   "source": [
    "name_counts.plot.density()"
   ]
  },
  {
   "cell_type": "code",
   "execution_count": 20,
   "metadata": {},
   "outputs": [
    {
     "data": {
      "text/plain": [
       "ARTS SCIENCE AND TECHNOLOGY EDUCATIONAL CORPORATION OF TEHACHA          1\n",
       "UPTE-CWA RETIRED MEMBERS CHAPTER 9119                                   1\n",
       "WORLD PRESIDENTS ORGANIZATION INC                                       1\n",
       "HOMELESS ANIMAL RESCUE TEAM                                             1\n",
       "DREAM WEAVER CHARITABLE TR                                              1\n",
       "                                                                       ..\n",
       "ST LOUIS SLAM WOMENS FOOTBALL                                           1\n",
       "AIESEC ALUMNI IBEROAMERICA CORP                                         1\n",
       "WEALLBLEEDRED ORG INC                                                   1\n",
       "AMERICAN SOCIETY FOR STANDARDS IN MEDIUMSHIP & PSYCHICAL INVESTIGATI    1\n",
       "WATERHOUSE CHARITABLE TR                                                1\n",
       "Name: NAME, Length: 18776, dtype: int64"
      ]
     },
     "execution_count": 20,
     "metadata": {},
     "output_type": "execute_result"
    }
   ],
   "source": [
    "name_counts[name_counts <= 1]"
   ]
  },
  {
   "cell_type": "code",
   "execution_count": 21,
   "metadata": {},
   "outputs": [
    {
     "data": {
      "text/plain": [
       "FLORIDA FAMILY CHILD CARE HOME ASSOCIATION INC                          5\n",
       "GERONTOLOGICAL ADVANCED PRACTICE NURSES ASSOCIATION                     5\n",
       "INTERNATIONL TRANSPLANT NURSES SOCIETY                                  5\n",
       "NATIONAL ORGANIZATION FOR WOMEN INC                                     5\n",
       "PTA HAWAII CONGRESS                                                     5\n",
       "                                                                       ..\n",
       "ST LOUIS SLAM WOMENS FOOTBALL                                           1\n",
       "AIESEC ALUMNI IBEROAMERICA CORP                                         1\n",
       "WEALLBLEEDRED ORG INC                                                   1\n",
       "AMERICAN SOCIETY FOR STANDARDS IN MEDIUMSHIP & PSYCHICAL INVESTIGATI    1\n",
       "WATERHOUSE CHARITABLE TR                                                1\n",
       "Name: NAME, Length: 19214, dtype: int64"
      ]
     },
     "execution_count": 21,
     "metadata": {},
     "output_type": "execute_result"
    }
   ],
   "source": [
    "name_counts[name_counts <= 5]"
   ]
  },
  {
   "cell_type": "code",
   "execution_count": 22,
   "metadata": {},
   "outputs": [
    {
     "data": {
      "text/plain": [
       "AIR FORCE ASSOCIATION                                      99\n",
       "WORKERS UNITED                                             97\n",
       "GAMMA THETA UPSILON                                        92\n",
       "INTERNATIONAL ASSOCIATION OF FIRE FIGHTERS                 91\n",
       "SOCIETY OF SAINT VINCENT DE PAUL COUNCIL OF LOS ANGELES    87\n",
       "                                                           ..\n",
       "OLD OAK CLIFF CONSERVATION LEAGUE INC                       6\n",
       "AMERICAN NEPHROLOGY NURSES ASSOCIATION                      6\n",
       "HUMBLE ISD EDUCATIONAL SUPPORT GROUPS INC                   6\n",
       "PROFESSIONAL LOADMASTER ASSOCIATION                         6\n",
       "CBMC INC                                                    6\n",
       "Name: NAME, Length: 324, dtype: int64"
      ]
     },
     "execution_count": 22,
     "metadata": {},
     "output_type": "execute_result"
    }
   ],
   "source": [
    "name_counts[(name_counts <= 100) & (name_counts > 5)]"
   ]
  },
  {
   "cell_type": "code",
   "execution_count": 23,
   "metadata": {},
   "outputs": [
    {
     "data": {
      "text/plain": [
       "30"
      ]
     },
     "execution_count": 23,
     "metadata": {},
     "output_type": "execute_result"
    }
   ],
   "source": [
    "len(name_counts[name_counts >100])"
   ]
  },
  {
   "cell_type": "code",
   "execution_count": 24,
   "metadata": {},
   "outputs": [
    {
     "data": {
      "text/plain": [
       "No_repeat                                                             18776\n",
       "PARENT BOOSTER USA INC                                                 1260\n",
       "TOPS CLUB INC                                                           765\n",
       "UNITED STATES BOWLING CONGRESS INC                                      700\n",
       "WASHINGTON STATE UNIVERSITY                                             492\n",
       "                                                                      ...  \n",
       "WASHINGTON EXPLORER SEARCH AND RESCUE                                     2\n",
       "INTERNATIONAL ALLIANCE THEATRICAL STAGE EMPLOYEES & MOVING PICTURE        2\n",
       "BIRTH NETWORK                                                             2\n",
       "NATIONAL ASSOCIATON OF CORPORATE DIRECTORS                                2\n",
       "NATIONAL SOCIETY COLONIAL DAMES XVII CENTURY                              2\n",
       "Name: NAME, Length: 793, dtype: int64"
      ]
     },
     "execution_count": 24,
     "metadata": {},
     "output_type": "execute_result"
    }
   ],
   "source": [
    "# use Bucket technique\n",
    "replace_application = list(name_counts[name_counts <=1].index)\n",
    "\n",
    "#replace in df\n",
    "for app in replace_application:\n",
    "    application_df[\"NAME\"] = application_df[\"NAME\"].replace(app,\"No_repeat\")\n",
    "    \n",
    "#check to make sure binning was successful\n",
    "application_df.NAME.value_counts()"
   ]
  },
  {
   "cell_type": "code",
   "execution_count": 25,
   "metadata": {},
   "outputs": [
    {
     "data": {
      "text/plain": [
       "No_repeat                                       18776\n",
       "Infrequent                                       1267\n",
       "PARENT BOOSTER USA INC                           1260\n",
       "TOPS CLUB INC                                     765\n",
       "UNITED STATES BOWLING CONGRESS INC                700\n",
       "                                                ...  \n",
       "HABITAT FOR HUMANITY INTERNATIONAL                  6\n",
       "DAMAGE PREVENTION COUNCIL OF TEXAS                  6\n",
       "FLEET RESERVE ASSOCIATION                           6\n",
       "HUGH OBRIAN YOUTH LEADERSHIP                        6\n",
       "INTERNATIONAL CONGRESS OF CHURCHES MINISTERS        6\n",
       "Name: NAME, Length: 356, dtype: int64"
      ]
     },
     "execution_count": 25,
     "metadata": {},
     "output_type": "execute_result"
    }
   ],
   "source": [
    "# use Bucket technique again\n",
    "replace_application = list(name_counts[name_counts <=5].index)\n",
    "\n",
    "#replace in df\n",
    "for app in replace_application:\n",
    "    application_df[\"NAME\"] = application_df[\"NAME\"].replace(app,\"Infrequent\")\n",
    "    \n",
    "#check to make sure binning was successful\n",
    "application_df.NAME.value_counts()"
   ]
  },
  {
   "cell_type": "code",
   "execution_count": 26,
   "metadata": {},
   "outputs": [
    {
     "data": {
      "text/plain": [
       "No_repeat                                                             18776\n",
       "Frequent                                                               5944\n",
       "Infrequent                                                             1267\n",
       "PARENT BOOSTER USA INC                                                 1260\n",
       "TOPS CLUB INC                                                           765\n",
       "UNITED STATES BOWLING CONGRESS INC                                      700\n",
       "WASHINGTON STATE UNIVERSITY                                             492\n",
       "AMATEUR ATHLETIC UNION OF THE UNITED STATES INC                         408\n",
       "PTA TEXAS CONGRESS                                                      368\n",
       "SOROPTIMIST INTERNATIONAL OF THE AMERICAS INC                           331\n",
       "ALPHA PHI SIGMA                                                         313\n",
       "TOASTMASTERS INTERNATIONAL                                              293\n",
       "MOST WORSHIPFUL STRINGER FREE AND ACCEPTED MASONS                       287\n",
       "LITTLE LEAGUE BASEBALL INC                                              277\n",
       "INTERNATIONAL ASSOCIATION OF LIONS CLUBS                                266\n",
       "MOMS CLUB                                                               210\n",
       "INTERNATIONAL ASSOCIATION OF SHEET METAL AIR RAIL & TRANSPORTATION      206\n",
       "AMERICAN ASSOCIATION OF UNIVERSITY WOMEN                                197\n",
       "FARMERS EDUCATIONAL AND COOPERATIVE UNION OF AMERICA                    166\n",
       "KNIGHTS OF COLUMBUS                                                     158\n",
       "HABITAT FOR HUMANITY INTERNATIONAL INC                                  154\n",
       "TENNESSEE ORDER OF THE EASTERN STAR                                     151\n",
       "VETERANS OF FOREIGN WARS OF THE UNITED STATES AUXILIARY                 144\n",
       "PTA UTAH CONGRESS                                                       140\n",
       "THE UNITED STATES PONY CLUBS INC                                        136\n",
       "CIVITAN INTERNATIONAL                                                   131\n",
       "SIGMA BETA DELTA INC                                                    127\n",
       "HONOR SOCIETY OF PHI KAPPA PHI                                          107\n",
       "MONTANA 4-H FOUNDATION INC                                              107\n",
       "WASHINGTON STATE GRANGE                                                 106\n",
       "UNIVERSITY OF WYOMING                                                   105\n",
       "DEMOLAY INTERNATIONAL                                                   104\n",
       "SERTOMA INC                                                             103\n",
       "Name: NAME, dtype: int64"
      ]
     },
     "execution_count": 26,
     "metadata": {},
     "output_type": "execute_result"
    }
   ],
   "source": [
    "# use Bucket technique\n",
    "replace_application = list(name_counts[name_counts <=100].index)\n",
    "\n",
    "#replace in df\n",
    "for app in replace_application:\n",
    "    application_df[\"NAME\"] = application_df[\"NAME\"].replace(app,\"Frequent\")\n",
    "    \n",
    "#check to make sure binning was successful\n",
    "application_df.NAME.value_counts()"
   ]
  },
  {
   "cell_type": "code",
   "execution_count": 27,
   "metadata": {},
   "outputs": [
    {
     "data": {
      "text/plain": [
       "No_repeat     18776\n",
       "Habitual       8312\n",
       "Frequent       5944\n",
       "Infrequent     1267\n",
       "Name: NAME, dtype: int64"
      ]
     },
     "execution_count": 27,
     "metadata": {},
     "output_type": "execute_result"
    }
   ],
   "source": [
    "# use Bucket technique\n",
    "replace_application = list(name_counts[name_counts > 100].index)\n",
    "\n",
    "#replace in df\n",
    "for app in replace_application:\n",
    "    application_df[\"NAME\"] = application_df[\"NAME\"].replace(app,\"Habitual\")\n",
    "    \n",
    "#check to make sure binning was successful\n",
    "application_df.NAME.value_counts()"
   ]
  },
  {
   "cell_type": "code",
   "execution_count": 28,
   "metadata": {},
   "outputs": [
    {
     "data": {
      "text/plain": [
       "NAME                      object\n",
       "APPLICATION_TYPE          object\n",
       "AFFILIATION               object\n",
       "CLASSIFICATION            object\n",
       "USE_CASE                  object\n",
       "ORGANIZATION              object\n",
       "STATUS                     int64\n",
       "INCOME_AMT                object\n",
       "SPECIAL_CONSIDERATIONS    object\n",
       "ASK_AMT                    int64\n",
       "IS_SUCCESSFUL              int64\n",
       "dtype: object"
      ]
     },
     "execution_count": 28,
     "metadata": {},
     "output_type": "execute_result"
    }
   ],
   "source": [
    "application_df.dtypes"
   ]
  },
  {
   "cell_type": "code",
   "execution_count": 29,
   "metadata": {
    "colab": {
     "base_uri": "https://localhost:8080/"
    },
    "id": "7ucIss5WmjFB",
    "outputId": "f55e06ee-5d86-4086-b20e-805f482039dd"
   },
   "outputs": [
    {
     "data": {
      "text/plain": [
       "[NAME                       True\n",
       " APPLICATION_TYPE           True\n",
       " AFFILIATION                True\n",
       " CLASSIFICATION             True\n",
       " USE_CASE                   True\n",
       " ORGANIZATION               True\n",
       " STATUS                    False\n",
       " INCOME_AMT                 True\n",
       " SPECIAL_CONSIDERATIONS     True\n",
       " ASK_AMT                   False\n",
       " IS_SUCCESSFUL             False\n",
       " dtype: bool]"
      ]
     },
     "execution_count": 29,
     "metadata": {},
     "output_type": "execute_result"
    }
   ],
   "source": [
    "[application_df.dtypes == \"object\"]"
   ]
  },
  {
   "cell_type": "code",
   "execution_count": 30,
   "metadata": {
    "colab": {
     "base_uri": "https://localhost:8080/"
    },
    "id": "M9-E8Nbs3O0a",
    "outputId": "e8a5cd81-867f-4baf-f1cd-653487edf22f"
   },
   "outputs": [
    {
     "name": "stdout",
     "output_type": "stream",
     "text": [
      "<class 'pandas.core.frame.DataFrame'>\n",
      "RangeIndex: 34299 entries, 0 to 34298\n",
      "Data columns (total 11 columns):\n",
      " #   Column                  Non-Null Count  Dtype \n",
      "---  ------                  --------------  ----- \n",
      " 0   NAME                    34299 non-null  object\n",
      " 1   APPLICATION_TYPE        34299 non-null  object\n",
      " 2   AFFILIATION             34299 non-null  object\n",
      " 3   CLASSIFICATION          34299 non-null  object\n",
      " 4   USE_CASE                34299 non-null  object\n",
      " 5   ORGANIZATION            34299 non-null  object\n",
      " 6   STATUS                  34299 non-null  int64 \n",
      " 7   INCOME_AMT              34299 non-null  object\n",
      " 8   SPECIAL_CONSIDERATIONS  34299 non-null  object\n",
      " 9   ASK_AMT                 34299 non-null  int64 \n",
      " 10  IS_SUCCESSFUL           34299 non-null  int64 \n",
      "dtypes: int64(3), object(8)\n",
      "memory usage: 2.9+ MB\n"
     ]
    }
   ],
   "source": [
    "application_df.info()"
   ]
  },
  {
   "cell_type": "code",
   "execution_count": 31,
   "metadata": {
    "colab": {
     "base_uri": "https://localhost:8080/"
    },
    "id": "jOA8KNMRpkLQ",
    "outputId": "b8a8b09b-946e-43c4-a1ba-4648f3f181ed"
   },
   "outputs": [
    {
     "data": {
      "text/plain": [
       "['NAME',\n",
       " 'APPLICATION_TYPE',\n",
       " 'AFFILIATION',\n",
       " 'CLASSIFICATION',\n",
       " 'USE_CASE',\n",
       " 'ORGANIZATION',\n",
       " 'INCOME_AMT',\n",
       " 'SPECIAL_CONSIDERATIONS']"
      ]
     },
     "execution_count": 31,
     "metadata": {},
     "output_type": "execute_result"
    }
   ],
   "source": [
    "application_df.dtypes[application_df.dtypes == \"object\"].index.tolist()"
   ]
  },
  {
   "cell_type": "code",
   "execution_count": 32,
   "metadata": {
    "colab": {
     "base_uri": "https://localhost:8080/"
    },
    "id": "lRArOFb7N4cs",
    "outputId": "614f99ba-1fcf-4bdb-fe2b-6c64cba4ea94"
   },
   "outputs": [
    {
     "data": {
      "text/plain": [
       "['NAME',\n",
       " 'APPLICATION_TYPE',\n",
       " 'AFFILIATION',\n",
       " 'CLASSIFICATION',\n",
       " 'USE_CASE',\n",
       " 'ORGANIZATION',\n",
       " 'INCOME_AMT',\n",
       " 'SPECIAL_CONSIDERATIONS']"
      ]
     },
     "execution_count": 32,
     "metadata": {},
     "output_type": "execute_result"
    }
   ],
   "source": [
    "# Generate our categorical variable lists\n",
    "application_cat = application_df.dtypes[application_df.dtypes == \"object\"].index.tolist()\n",
    "application_cat"
   ]
  },
  {
   "cell_type": "code",
   "execution_count": 33,
   "metadata": {
    "colab": {
     "base_uri": "https://localhost:8080/",
     "height": 424
    },
    "id": "IeSM1sOfoHBj",
    "outputId": "026681b3-f024-453d-84d6-df153e03f5d9"
   },
   "outputs": [
    {
     "data": {
      "text/html": [
       "<div>\n",
       "<style scoped>\n",
       "    .dataframe tbody tr th:only-of-type {\n",
       "        vertical-align: middle;\n",
       "    }\n",
       "\n",
       "    .dataframe tbody tr th {\n",
       "        vertical-align: top;\n",
       "    }\n",
       "\n",
       "    .dataframe thead th {\n",
       "        text-align: right;\n",
       "    }\n",
       "</style>\n",
       "<table border=\"1\" class=\"dataframe\">\n",
       "  <thead>\n",
       "    <tr style=\"text-align: right;\">\n",
       "      <th></th>\n",
       "      <th>NAME</th>\n",
       "      <th>APPLICATION_TYPE</th>\n",
       "      <th>AFFILIATION</th>\n",
       "      <th>CLASSIFICATION</th>\n",
       "      <th>USE_CASE</th>\n",
       "      <th>ORGANIZATION</th>\n",
       "      <th>INCOME_AMT</th>\n",
       "      <th>SPECIAL_CONSIDERATIONS</th>\n",
       "    </tr>\n",
       "  </thead>\n",
       "  <tbody>\n",
       "    <tr>\n",
       "      <th>0</th>\n",
       "      <td>Frequent</td>\n",
       "      <td>T10</td>\n",
       "      <td>Independent</td>\n",
       "      <td>C1000</td>\n",
       "      <td>ProductDev</td>\n",
       "      <td>Association</td>\n",
       "      <td>0</td>\n",
       "      <td>N</td>\n",
       "    </tr>\n",
       "    <tr>\n",
       "      <th>1</th>\n",
       "      <td>No_repeat</td>\n",
       "      <td>T3</td>\n",
       "      <td>Independent</td>\n",
       "      <td>C2000</td>\n",
       "      <td>Preservation</td>\n",
       "      <td>Co-operative</td>\n",
       "      <td>1-9999</td>\n",
       "      <td>N</td>\n",
       "    </tr>\n",
       "    <tr>\n",
       "      <th>2</th>\n",
       "      <td>No_repeat</td>\n",
       "      <td>T5</td>\n",
       "      <td>CompanySponsored</td>\n",
       "      <td>C3000</td>\n",
       "      <td>ProductDev</td>\n",
       "      <td>Association</td>\n",
       "      <td>0</td>\n",
       "      <td>N</td>\n",
       "    </tr>\n",
       "    <tr>\n",
       "      <th>3</th>\n",
       "      <td>No_repeat</td>\n",
       "      <td>T3</td>\n",
       "      <td>CompanySponsored</td>\n",
       "      <td>C2000</td>\n",
       "      <td>Preservation</td>\n",
       "      <td>Trust</td>\n",
       "      <td>10000-24999</td>\n",
       "      <td>N</td>\n",
       "    </tr>\n",
       "    <tr>\n",
       "      <th>4</th>\n",
       "      <td>No_repeat</td>\n",
       "      <td>T3</td>\n",
       "      <td>Independent</td>\n",
       "      <td>C1000</td>\n",
       "      <td>Heathcare</td>\n",
       "      <td>Trust</td>\n",
       "      <td>100000-499999</td>\n",
       "      <td>N</td>\n",
       "    </tr>\n",
       "    <tr>\n",
       "      <th>...</th>\n",
       "      <td>...</td>\n",
       "      <td>...</td>\n",
       "      <td>...</td>\n",
       "      <td>...</td>\n",
       "      <td>...</td>\n",
       "      <td>...</td>\n",
       "      <td>...</td>\n",
       "      <td>...</td>\n",
       "    </tr>\n",
       "    <tr>\n",
       "      <th>34294</th>\n",
       "      <td>No_repeat</td>\n",
       "      <td>T4</td>\n",
       "      <td>Independent</td>\n",
       "      <td>C1000</td>\n",
       "      <td>ProductDev</td>\n",
       "      <td>Association</td>\n",
       "      <td>0</td>\n",
       "      <td>N</td>\n",
       "    </tr>\n",
       "    <tr>\n",
       "      <th>34295</th>\n",
       "      <td>Habitual</td>\n",
       "      <td>T4</td>\n",
       "      <td>CompanySponsored</td>\n",
       "      <td>C3000</td>\n",
       "      <td>ProductDev</td>\n",
       "      <td>Association</td>\n",
       "      <td>0</td>\n",
       "      <td>N</td>\n",
       "    </tr>\n",
       "    <tr>\n",
       "      <th>34296</th>\n",
       "      <td>Infrequent</td>\n",
       "      <td>T3</td>\n",
       "      <td>CompanySponsored</td>\n",
       "      <td>C2000</td>\n",
       "      <td>Preservation</td>\n",
       "      <td>Association</td>\n",
       "      <td>0</td>\n",
       "      <td>N</td>\n",
       "    </tr>\n",
       "    <tr>\n",
       "      <th>34297</th>\n",
       "      <td>No_repeat</td>\n",
       "      <td>T5</td>\n",
       "      <td>Independent</td>\n",
       "      <td>C3000</td>\n",
       "      <td>ProductDev</td>\n",
       "      <td>Association</td>\n",
       "      <td>0</td>\n",
       "      <td>N</td>\n",
       "    </tr>\n",
       "    <tr>\n",
       "      <th>34298</th>\n",
       "      <td>No_repeat</td>\n",
       "      <td>T3</td>\n",
       "      <td>Independent</td>\n",
       "      <td>C1000</td>\n",
       "      <td>Preservation</td>\n",
       "      <td>Co-operative</td>\n",
       "      <td>1M-5M</td>\n",
       "      <td>N</td>\n",
       "    </tr>\n",
       "  </tbody>\n",
       "</table>\n",
       "<p>34299 rows × 8 columns</p>\n",
       "</div>"
      ],
      "text/plain": [
       "             NAME APPLICATION_TYPE       AFFILIATION CLASSIFICATION  \\\n",
       "0        Frequent              T10       Independent          C1000   \n",
       "1       No_repeat               T3       Independent          C2000   \n",
       "2       No_repeat               T5  CompanySponsored          C3000   \n",
       "3       No_repeat               T3  CompanySponsored          C2000   \n",
       "4       No_repeat               T3       Independent          C1000   \n",
       "...           ...              ...               ...            ...   \n",
       "34294   No_repeat               T4       Independent          C1000   \n",
       "34295    Habitual               T4  CompanySponsored          C3000   \n",
       "34296  Infrequent               T3  CompanySponsored          C2000   \n",
       "34297   No_repeat               T5       Independent          C3000   \n",
       "34298   No_repeat               T3       Independent          C1000   \n",
       "\n",
       "           USE_CASE  ORGANIZATION     INCOME_AMT SPECIAL_CONSIDERATIONS  \n",
       "0        ProductDev   Association              0                      N  \n",
       "1      Preservation  Co-operative         1-9999                      N  \n",
       "2        ProductDev   Association              0                      N  \n",
       "3      Preservation         Trust    10000-24999                      N  \n",
       "4         Heathcare         Trust  100000-499999                      N  \n",
       "...             ...           ...            ...                    ...  \n",
       "34294    ProductDev   Association              0                      N  \n",
       "34295    ProductDev   Association              0                      N  \n",
       "34296  Preservation   Association              0                      N  \n",
       "34297    ProductDev   Association              0                      N  \n",
       "34298  Preservation  Co-operative          1M-5M                      N  \n",
       "\n",
       "[34299 rows x 8 columns]"
      ]
     },
     "execution_count": 33,
     "metadata": {},
     "output_type": "execute_result"
    }
   ],
   "source": [
    "#testing\n",
    "application_df[application_cat]"
   ]
  },
  {
   "cell_type": "code",
   "execution_count": 34,
   "metadata": {
    "colab": {
     "base_uri": "https://localhost:8080/",
     "height": 352
    },
    "id": "nRbDBi73N4cs",
    "outputId": "c498e757-6564-4bb7-edd5-a87fcce93ecf"
   },
   "outputs": [
    {
     "name": "stderr",
     "output_type": "stream",
     "text": [
      "C:\\Users\\oscy7\\anaconda3\\envs\\mlenv\\lib\\site-packages\\sklearn\\utils\\deprecation.py:87: FutureWarning: Function get_feature_names is deprecated; get_feature_names is deprecated in 1.0 and will be removed in 1.2. Please use get_feature_names_out instead.\n",
      "  warnings.warn(msg, category=FutureWarning)\n"
     ]
    },
    {
     "data": {
      "text/html": [
       "<div>\n",
       "<style scoped>\n",
       "    .dataframe tbody tr th:only-of-type {\n",
       "        vertical-align: middle;\n",
       "    }\n",
       "\n",
       "    .dataframe tbody tr th {\n",
       "        vertical-align: top;\n",
       "    }\n",
       "\n",
       "    .dataframe thead th {\n",
       "        text-align: right;\n",
       "    }\n",
       "</style>\n",
       "<table border=\"1\" class=\"dataframe\">\n",
       "  <thead>\n",
       "    <tr style=\"text-align: right;\">\n",
       "      <th></th>\n",
       "      <th>NAME_Frequent</th>\n",
       "      <th>NAME_Habitual</th>\n",
       "      <th>NAME_Infrequent</th>\n",
       "      <th>NAME_No_repeat</th>\n",
       "      <th>APPLICATION_TYPE_Other</th>\n",
       "      <th>APPLICATION_TYPE_T10</th>\n",
       "      <th>APPLICATION_TYPE_T19</th>\n",
       "      <th>APPLICATION_TYPE_T3</th>\n",
       "      <th>APPLICATION_TYPE_T4</th>\n",
       "      <th>APPLICATION_TYPE_T5</th>\n",
       "      <th>...</th>\n",
       "      <th>INCOME_AMT_1-9999</th>\n",
       "      <th>INCOME_AMT_10000-24999</th>\n",
       "      <th>INCOME_AMT_100000-499999</th>\n",
       "      <th>INCOME_AMT_10M-50M</th>\n",
       "      <th>INCOME_AMT_1M-5M</th>\n",
       "      <th>INCOME_AMT_25000-99999</th>\n",
       "      <th>INCOME_AMT_50M+</th>\n",
       "      <th>INCOME_AMT_5M-10M</th>\n",
       "      <th>SPECIAL_CONSIDERATIONS_N</th>\n",
       "      <th>SPECIAL_CONSIDERATIONS_Y</th>\n",
       "    </tr>\n",
       "  </thead>\n",
       "  <tbody>\n",
       "    <tr>\n",
       "      <th>0</th>\n",
       "      <td>1.0</td>\n",
       "      <td>0.0</td>\n",
       "      <td>0.0</td>\n",
       "      <td>0.0</td>\n",
       "      <td>0.0</td>\n",
       "      <td>1.0</td>\n",
       "      <td>0.0</td>\n",
       "      <td>0.0</td>\n",
       "      <td>0.0</td>\n",
       "      <td>0.0</td>\n",
       "      <td>...</td>\n",
       "      <td>0.0</td>\n",
       "      <td>0.0</td>\n",
       "      <td>0.0</td>\n",
       "      <td>0.0</td>\n",
       "      <td>0.0</td>\n",
       "      <td>0.0</td>\n",
       "      <td>0.0</td>\n",
       "      <td>0.0</td>\n",
       "      <td>1.0</td>\n",
       "      <td>0.0</td>\n",
       "    </tr>\n",
       "    <tr>\n",
       "      <th>1</th>\n",
       "      <td>0.0</td>\n",
       "      <td>0.0</td>\n",
       "      <td>0.0</td>\n",
       "      <td>1.0</td>\n",
       "      <td>0.0</td>\n",
       "      <td>0.0</td>\n",
       "      <td>0.0</td>\n",
       "      <td>1.0</td>\n",
       "      <td>0.0</td>\n",
       "      <td>0.0</td>\n",
       "      <td>...</td>\n",
       "      <td>1.0</td>\n",
       "      <td>0.0</td>\n",
       "      <td>0.0</td>\n",
       "      <td>0.0</td>\n",
       "      <td>0.0</td>\n",
       "      <td>0.0</td>\n",
       "      <td>0.0</td>\n",
       "      <td>0.0</td>\n",
       "      <td>1.0</td>\n",
       "      <td>0.0</td>\n",
       "    </tr>\n",
       "    <tr>\n",
       "      <th>2</th>\n",
       "      <td>0.0</td>\n",
       "      <td>0.0</td>\n",
       "      <td>0.0</td>\n",
       "      <td>1.0</td>\n",
       "      <td>0.0</td>\n",
       "      <td>0.0</td>\n",
       "      <td>0.0</td>\n",
       "      <td>0.0</td>\n",
       "      <td>0.0</td>\n",
       "      <td>1.0</td>\n",
       "      <td>...</td>\n",
       "      <td>0.0</td>\n",
       "      <td>0.0</td>\n",
       "      <td>0.0</td>\n",
       "      <td>0.0</td>\n",
       "      <td>0.0</td>\n",
       "      <td>0.0</td>\n",
       "      <td>0.0</td>\n",
       "      <td>0.0</td>\n",
       "      <td>1.0</td>\n",
       "      <td>0.0</td>\n",
       "    </tr>\n",
       "    <tr>\n",
       "      <th>3</th>\n",
       "      <td>0.0</td>\n",
       "      <td>0.0</td>\n",
       "      <td>0.0</td>\n",
       "      <td>1.0</td>\n",
       "      <td>0.0</td>\n",
       "      <td>0.0</td>\n",
       "      <td>0.0</td>\n",
       "      <td>1.0</td>\n",
       "      <td>0.0</td>\n",
       "      <td>0.0</td>\n",
       "      <td>...</td>\n",
       "      <td>0.0</td>\n",
       "      <td>1.0</td>\n",
       "      <td>0.0</td>\n",
       "      <td>0.0</td>\n",
       "      <td>0.0</td>\n",
       "      <td>0.0</td>\n",
       "      <td>0.0</td>\n",
       "      <td>0.0</td>\n",
       "      <td>1.0</td>\n",
       "      <td>0.0</td>\n",
       "    </tr>\n",
       "    <tr>\n",
       "      <th>4</th>\n",
       "      <td>0.0</td>\n",
       "      <td>0.0</td>\n",
       "      <td>0.0</td>\n",
       "      <td>1.0</td>\n",
       "      <td>0.0</td>\n",
       "      <td>0.0</td>\n",
       "      <td>0.0</td>\n",
       "      <td>1.0</td>\n",
       "      <td>0.0</td>\n",
       "      <td>0.0</td>\n",
       "      <td>...</td>\n",
       "      <td>0.0</td>\n",
       "      <td>0.0</td>\n",
       "      <td>1.0</td>\n",
       "      <td>0.0</td>\n",
       "      <td>0.0</td>\n",
       "      <td>0.0</td>\n",
       "      <td>0.0</td>\n",
       "      <td>0.0</td>\n",
       "      <td>1.0</td>\n",
       "      <td>0.0</td>\n",
       "    </tr>\n",
       "  </tbody>\n",
       "</table>\n",
       "<p>5 rows × 45 columns</p>\n",
       "</div>"
      ],
      "text/plain": [
       "   NAME_Frequent  NAME_Habitual  NAME_Infrequent  NAME_No_repeat  \\\n",
       "0            1.0            0.0              0.0             0.0   \n",
       "1            0.0            0.0              0.0             1.0   \n",
       "2            0.0            0.0              0.0             1.0   \n",
       "3            0.0            0.0              0.0             1.0   \n",
       "4            0.0            0.0              0.0             1.0   \n",
       "\n",
       "   APPLICATION_TYPE_Other  APPLICATION_TYPE_T10  APPLICATION_TYPE_T19  \\\n",
       "0                     0.0                   1.0                   0.0   \n",
       "1                     0.0                   0.0                   0.0   \n",
       "2                     0.0                   0.0                   0.0   \n",
       "3                     0.0                   0.0                   0.0   \n",
       "4                     0.0                   0.0                   0.0   \n",
       "\n",
       "   APPLICATION_TYPE_T3  APPLICATION_TYPE_T4  APPLICATION_TYPE_T5  ...  \\\n",
       "0                  0.0                  0.0                  0.0  ...   \n",
       "1                  1.0                  0.0                  0.0  ...   \n",
       "2                  0.0                  0.0                  1.0  ...   \n",
       "3                  1.0                  0.0                  0.0  ...   \n",
       "4                  1.0                  0.0                  0.0  ...   \n",
       "\n",
       "   INCOME_AMT_1-9999  INCOME_AMT_10000-24999  INCOME_AMT_100000-499999  \\\n",
       "0                0.0                     0.0                       0.0   \n",
       "1                1.0                     0.0                       0.0   \n",
       "2                0.0                     0.0                       0.0   \n",
       "3                0.0                     1.0                       0.0   \n",
       "4                0.0                     0.0                       1.0   \n",
       "\n",
       "   INCOME_AMT_10M-50M  INCOME_AMT_1M-5M  INCOME_AMT_25000-99999  \\\n",
       "0                 0.0               0.0                     0.0   \n",
       "1                 0.0               0.0                     0.0   \n",
       "2                 0.0               0.0                     0.0   \n",
       "3                 0.0               0.0                     0.0   \n",
       "4                 0.0               0.0                     0.0   \n",
       "\n",
       "   INCOME_AMT_50M+  INCOME_AMT_5M-10M  SPECIAL_CONSIDERATIONS_N  \\\n",
       "0              0.0                0.0                       1.0   \n",
       "1              0.0                0.0                       1.0   \n",
       "2              0.0                0.0                       1.0   \n",
       "3              0.0                0.0                       1.0   \n",
       "4              0.0                0.0                       1.0   \n",
       "\n",
       "   SPECIAL_CONSIDERATIONS_Y  \n",
       "0                       0.0  \n",
       "1                       0.0  \n",
       "2                       0.0  \n",
       "3                       0.0  \n",
       "4                       0.0  \n",
       "\n",
       "[5 rows x 45 columns]"
      ]
     },
     "execution_count": 34,
     "metadata": {},
     "output_type": "execute_result"
    }
   ],
   "source": [
    "# Create a OneHotEncoder instance\n",
    "enc = OneHotEncoder(sparse=False)\n",
    "\n",
    "# Fit and transform the OneHotEncoder using the categorical variable list\n",
    "encode_df = pd.DataFrame(enc.fit_transform(application_df[application_cat]))\n",
    "\n",
    "# Add the encoded variable names to the dataframe\n",
    "encode_df.columns = enc.get_feature_names(application_cat)\n",
    "encode_df.head()"
   ]
  },
  {
   "cell_type": "code",
   "execution_count": 35,
   "metadata": {
    "colab": {
     "base_uri": "https://localhost:8080/",
     "height": 352
    },
    "id": "aT0cwC-EN4cs",
    "outputId": "ad470fd3-9006-4432-cd93-75a85b64f1db"
   },
   "outputs": [
    {
     "name": "stderr",
     "output_type": "stream",
     "text": [
      "C:\\Users\\oscy7\\anaconda3\\envs\\mlenv\\lib\\site-packages\\ipykernel_launcher.py:3: FutureWarning: In a future version of pandas all arguments of DataFrame.drop except for the argument 'labels' will be keyword-only\n",
      "  This is separate from the ipykernel package so we can avoid doing imports until\n"
     ]
    },
    {
     "data": {
      "text/html": [
       "<div>\n",
       "<style scoped>\n",
       "    .dataframe tbody tr th:only-of-type {\n",
       "        vertical-align: middle;\n",
       "    }\n",
       "\n",
       "    .dataframe tbody tr th {\n",
       "        vertical-align: top;\n",
       "    }\n",
       "\n",
       "    .dataframe thead th {\n",
       "        text-align: right;\n",
       "    }\n",
       "</style>\n",
       "<table border=\"1\" class=\"dataframe\">\n",
       "  <thead>\n",
       "    <tr style=\"text-align: right;\">\n",
       "      <th></th>\n",
       "      <th>STATUS</th>\n",
       "      <th>ASK_AMT</th>\n",
       "      <th>IS_SUCCESSFUL</th>\n",
       "      <th>NAME_Frequent</th>\n",
       "      <th>NAME_Habitual</th>\n",
       "      <th>NAME_Infrequent</th>\n",
       "      <th>NAME_No_repeat</th>\n",
       "      <th>APPLICATION_TYPE_Other</th>\n",
       "      <th>APPLICATION_TYPE_T10</th>\n",
       "      <th>APPLICATION_TYPE_T19</th>\n",
       "      <th>...</th>\n",
       "      <th>INCOME_AMT_1-9999</th>\n",
       "      <th>INCOME_AMT_10000-24999</th>\n",
       "      <th>INCOME_AMT_100000-499999</th>\n",
       "      <th>INCOME_AMT_10M-50M</th>\n",
       "      <th>INCOME_AMT_1M-5M</th>\n",
       "      <th>INCOME_AMT_25000-99999</th>\n",
       "      <th>INCOME_AMT_50M+</th>\n",
       "      <th>INCOME_AMT_5M-10M</th>\n",
       "      <th>SPECIAL_CONSIDERATIONS_N</th>\n",
       "      <th>SPECIAL_CONSIDERATIONS_Y</th>\n",
       "    </tr>\n",
       "  </thead>\n",
       "  <tbody>\n",
       "    <tr>\n",
       "      <th>0</th>\n",
       "      <td>1</td>\n",
       "      <td>5000</td>\n",
       "      <td>1</td>\n",
       "      <td>1.0</td>\n",
       "      <td>0.0</td>\n",
       "      <td>0.0</td>\n",
       "      <td>0.0</td>\n",
       "      <td>0.0</td>\n",
       "      <td>1.0</td>\n",
       "      <td>0.0</td>\n",
       "      <td>...</td>\n",
       "      <td>0.0</td>\n",
       "      <td>0.0</td>\n",
       "      <td>0.0</td>\n",
       "      <td>0.0</td>\n",
       "      <td>0.0</td>\n",
       "      <td>0.0</td>\n",
       "      <td>0.0</td>\n",
       "      <td>0.0</td>\n",
       "      <td>1.0</td>\n",
       "      <td>0.0</td>\n",
       "    </tr>\n",
       "    <tr>\n",
       "      <th>1</th>\n",
       "      <td>1</td>\n",
       "      <td>108590</td>\n",
       "      <td>1</td>\n",
       "      <td>0.0</td>\n",
       "      <td>0.0</td>\n",
       "      <td>0.0</td>\n",
       "      <td>1.0</td>\n",
       "      <td>0.0</td>\n",
       "      <td>0.0</td>\n",
       "      <td>0.0</td>\n",
       "      <td>...</td>\n",
       "      <td>1.0</td>\n",
       "      <td>0.0</td>\n",
       "      <td>0.0</td>\n",
       "      <td>0.0</td>\n",
       "      <td>0.0</td>\n",
       "      <td>0.0</td>\n",
       "      <td>0.0</td>\n",
       "      <td>0.0</td>\n",
       "      <td>1.0</td>\n",
       "      <td>0.0</td>\n",
       "    </tr>\n",
       "    <tr>\n",
       "      <th>2</th>\n",
       "      <td>1</td>\n",
       "      <td>5000</td>\n",
       "      <td>0</td>\n",
       "      <td>0.0</td>\n",
       "      <td>0.0</td>\n",
       "      <td>0.0</td>\n",
       "      <td>1.0</td>\n",
       "      <td>0.0</td>\n",
       "      <td>0.0</td>\n",
       "      <td>0.0</td>\n",
       "      <td>...</td>\n",
       "      <td>0.0</td>\n",
       "      <td>0.0</td>\n",
       "      <td>0.0</td>\n",
       "      <td>0.0</td>\n",
       "      <td>0.0</td>\n",
       "      <td>0.0</td>\n",
       "      <td>0.0</td>\n",
       "      <td>0.0</td>\n",
       "      <td>1.0</td>\n",
       "      <td>0.0</td>\n",
       "    </tr>\n",
       "    <tr>\n",
       "      <th>3</th>\n",
       "      <td>1</td>\n",
       "      <td>6692</td>\n",
       "      <td>1</td>\n",
       "      <td>0.0</td>\n",
       "      <td>0.0</td>\n",
       "      <td>0.0</td>\n",
       "      <td>1.0</td>\n",
       "      <td>0.0</td>\n",
       "      <td>0.0</td>\n",
       "      <td>0.0</td>\n",
       "      <td>...</td>\n",
       "      <td>0.0</td>\n",
       "      <td>1.0</td>\n",
       "      <td>0.0</td>\n",
       "      <td>0.0</td>\n",
       "      <td>0.0</td>\n",
       "      <td>0.0</td>\n",
       "      <td>0.0</td>\n",
       "      <td>0.0</td>\n",
       "      <td>1.0</td>\n",
       "      <td>0.0</td>\n",
       "    </tr>\n",
       "    <tr>\n",
       "      <th>4</th>\n",
       "      <td>1</td>\n",
       "      <td>142590</td>\n",
       "      <td>1</td>\n",
       "      <td>0.0</td>\n",
       "      <td>0.0</td>\n",
       "      <td>0.0</td>\n",
       "      <td>1.0</td>\n",
       "      <td>0.0</td>\n",
       "      <td>0.0</td>\n",
       "      <td>0.0</td>\n",
       "      <td>...</td>\n",
       "      <td>0.0</td>\n",
       "      <td>0.0</td>\n",
       "      <td>1.0</td>\n",
       "      <td>0.0</td>\n",
       "      <td>0.0</td>\n",
       "      <td>0.0</td>\n",
       "      <td>0.0</td>\n",
       "      <td>0.0</td>\n",
       "      <td>1.0</td>\n",
       "      <td>0.0</td>\n",
       "    </tr>\n",
       "  </tbody>\n",
       "</table>\n",
       "<p>5 rows × 48 columns</p>\n",
       "</div>"
      ],
      "text/plain": [
       "   STATUS  ASK_AMT  IS_SUCCESSFUL  NAME_Frequent  NAME_Habitual  \\\n",
       "0       1     5000              1            1.0            0.0   \n",
       "1       1   108590              1            0.0            0.0   \n",
       "2       1     5000              0            0.0            0.0   \n",
       "3       1     6692              1            0.0            0.0   \n",
       "4       1   142590              1            0.0            0.0   \n",
       "\n",
       "   NAME_Infrequent  NAME_No_repeat  APPLICATION_TYPE_Other  \\\n",
       "0              0.0             0.0                     0.0   \n",
       "1              0.0             1.0                     0.0   \n",
       "2              0.0             1.0                     0.0   \n",
       "3              0.0             1.0                     0.0   \n",
       "4              0.0             1.0                     0.0   \n",
       "\n",
       "   APPLICATION_TYPE_T10  APPLICATION_TYPE_T19  ...  INCOME_AMT_1-9999  \\\n",
       "0                   1.0                   0.0  ...                0.0   \n",
       "1                   0.0                   0.0  ...                1.0   \n",
       "2                   0.0                   0.0  ...                0.0   \n",
       "3                   0.0                   0.0  ...                0.0   \n",
       "4                   0.0                   0.0  ...                0.0   \n",
       "\n",
       "   INCOME_AMT_10000-24999  INCOME_AMT_100000-499999  INCOME_AMT_10M-50M  \\\n",
       "0                     0.0                       0.0                 0.0   \n",
       "1                     0.0                       0.0                 0.0   \n",
       "2                     0.0                       0.0                 0.0   \n",
       "3                     1.0                       0.0                 0.0   \n",
       "4                     0.0                       1.0                 0.0   \n",
       "\n",
       "   INCOME_AMT_1M-5M  INCOME_AMT_25000-99999  INCOME_AMT_50M+  \\\n",
       "0               0.0                     0.0              0.0   \n",
       "1               0.0                     0.0              0.0   \n",
       "2               0.0                     0.0              0.0   \n",
       "3               0.0                     0.0              0.0   \n",
       "4               0.0                     0.0              0.0   \n",
       "\n",
       "   INCOME_AMT_5M-10M  SPECIAL_CONSIDERATIONS_N  SPECIAL_CONSIDERATIONS_Y  \n",
       "0                0.0                       1.0                       0.0  \n",
       "1                0.0                       1.0                       0.0  \n",
       "2                0.0                       1.0                       0.0  \n",
       "3                0.0                       1.0                       0.0  \n",
       "4                0.0                       1.0                       0.0  \n",
       "\n",
       "[5 rows x 48 columns]"
      ]
     },
     "execution_count": 35,
     "metadata": {},
     "output_type": "execute_result"
    }
   ],
   "source": [
    "# Merge one-hot encoded features and drop the originals\n",
    "application_df = application_df.merge(encode_df,left_index=True, right_index=True)\n",
    "application_df = application_df.drop(application_cat,1)\n",
    "application_df.head()"
   ]
  },
  {
   "cell_type": "code",
   "execution_count": 36,
   "metadata": {
    "colab": {
     "base_uri": "https://localhost:8080/"
    },
    "id": "Ws21wxhlwgd2",
    "outputId": "d25f955c-f240-43c3-9e7c-a2bcbd7db5a9"
   },
   "outputs": [
    {
     "data": {
      "text/plain": [
       "(34299, 48)"
      ]
     },
     "execution_count": 36,
     "metadata": {},
     "output_type": "execute_result"
    }
   ],
   "source": [
    "application_df.shape"
   ]
  },
  {
   "cell_type": "code",
   "execution_count": 37,
   "metadata": {
    "colab": {
     "base_uri": "https://localhost:8080/"
    },
    "id": "O4wPCATFxe1-",
    "outputId": "71a9cd3a-e2dc-4454-950b-4525844bd440"
   },
   "outputs": [
    {
     "name": "stdout",
     "output_type": "stream",
     "text": [
      "<class 'pandas.core.frame.DataFrame'>\n",
      "RangeIndex: 34299 entries, 0 to 34298\n",
      "Data columns (total 48 columns):\n",
      " #   Column                        Non-Null Count  Dtype  \n",
      "---  ------                        --------------  -----  \n",
      " 0   STATUS                        34299 non-null  int64  \n",
      " 1   ASK_AMT                       34299 non-null  int64  \n",
      " 2   IS_SUCCESSFUL                 34299 non-null  int64  \n",
      " 3   NAME_Frequent                 34299 non-null  float64\n",
      " 4   NAME_Habitual                 34299 non-null  float64\n",
      " 5   NAME_Infrequent               34299 non-null  float64\n",
      " 6   NAME_No_repeat                34299 non-null  float64\n",
      " 7   APPLICATION_TYPE_Other        34299 non-null  float64\n",
      " 8   APPLICATION_TYPE_T10          34299 non-null  float64\n",
      " 9   APPLICATION_TYPE_T19          34299 non-null  float64\n",
      " 10  APPLICATION_TYPE_T3           34299 non-null  float64\n",
      " 11  APPLICATION_TYPE_T4           34299 non-null  float64\n",
      " 12  APPLICATION_TYPE_T5           34299 non-null  float64\n",
      " 13  APPLICATION_TYPE_T6           34299 non-null  float64\n",
      " 14  APPLICATION_TYPE_T7           34299 non-null  float64\n",
      " 15  APPLICATION_TYPE_T8           34299 non-null  float64\n",
      " 16  AFFILIATION_CompanySponsored  34299 non-null  float64\n",
      " 17  AFFILIATION_Family/Parent     34299 non-null  float64\n",
      " 18  AFFILIATION_Independent       34299 non-null  float64\n",
      " 19  AFFILIATION_National          34299 non-null  float64\n",
      " 20  AFFILIATION_Other             34299 non-null  float64\n",
      " 21  AFFILIATION_Regional          34299 non-null  float64\n",
      " 22  CLASSIFICATION_C1000          34299 non-null  float64\n",
      " 23  CLASSIFICATION_C1200          34299 non-null  float64\n",
      " 24  CLASSIFICATION_C2000          34299 non-null  float64\n",
      " 25  CLASSIFICATION_C2100          34299 non-null  float64\n",
      " 26  CLASSIFICATION_C3000          34299 non-null  float64\n",
      " 27  CLASSIFICATION_Other          34299 non-null  float64\n",
      " 28  USE_CASE_CommunityServ        34299 non-null  float64\n",
      " 29  USE_CASE_Heathcare            34299 non-null  float64\n",
      " 30  USE_CASE_Other                34299 non-null  float64\n",
      " 31  USE_CASE_Preservation         34299 non-null  float64\n",
      " 32  USE_CASE_ProductDev           34299 non-null  float64\n",
      " 33  ORGANIZATION_Association      34299 non-null  float64\n",
      " 34  ORGANIZATION_Co-operative     34299 non-null  float64\n",
      " 35  ORGANIZATION_Corporation      34299 non-null  float64\n",
      " 36  ORGANIZATION_Trust            34299 non-null  float64\n",
      " 37  INCOME_AMT_0                  34299 non-null  float64\n",
      " 38  INCOME_AMT_1-9999             34299 non-null  float64\n",
      " 39  INCOME_AMT_10000-24999        34299 non-null  float64\n",
      " 40  INCOME_AMT_100000-499999      34299 non-null  float64\n",
      " 41  INCOME_AMT_10M-50M            34299 non-null  float64\n",
      " 42  INCOME_AMT_1M-5M              34299 non-null  float64\n",
      " 43  INCOME_AMT_25000-99999        34299 non-null  float64\n",
      " 44  INCOME_AMT_50M+               34299 non-null  float64\n",
      " 45  INCOME_AMT_5M-10M             34299 non-null  float64\n",
      " 46  SPECIAL_CONSIDERATIONS_N      34299 non-null  float64\n",
      " 47  SPECIAL_CONSIDERATIONS_Y      34299 non-null  float64\n",
      "dtypes: float64(45), int64(3)\n",
      "memory usage: 12.6 MB\n"
     ]
    }
   ],
   "source": [
    "application_df.info()"
   ]
  },
  {
   "cell_type": "code",
   "execution_count": 38,
   "metadata": {},
   "outputs": [
    {
     "data": {
      "text/plain": [
       "STATUS                             2\n",
       "ASK_AMT                         8747\n",
       "IS_SUCCESSFUL                      2\n",
       "NAME_Frequent                      2\n",
       "NAME_Habitual                      2\n",
       "NAME_Infrequent                    2\n",
       "NAME_No_repeat                     2\n",
       "APPLICATION_TYPE_Other             2\n",
       "APPLICATION_TYPE_T10               2\n",
       "APPLICATION_TYPE_T19               2\n",
       "APPLICATION_TYPE_T3                2\n",
       "APPLICATION_TYPE_T4                2\n",
       "APPLICATION_TYPE_T5                2\n",
       "APPLICATION_TYPE_T6                2\n",
       "APPLICATION_TYPE_T7                2\n",
       "APPLICATION_TYPE_T8                2\n",
       "AFFILIATION_CompanySponsored       2\n",
       "AFFILIATION_Family/Parent          2\n",
       "AFFILIATION_Independent            2\n",
       "AFFILIATION_National               2\n",
       "AFFILIATION_Other                  2\n",
       "AFFILIATION_Regional               2\n",
       "CLASSIFICATION_C1000               2\n",
       "CLASSIFICATION_C1200               2\n",
       "CLASSIFICATION_C2000               2\n",
       "CLASSIFICATION_C2100               2\n",
       "CLASSIFICATION_C3000               2\n",
       "CLASSIFICATION_Other               2\n",
       "USE_CASE_CommunityServ             2\n",
       "USE_CASE_Heathcare                 2\n",
       "USE_CASE_Other                     2\n",
       "USE_CASE_Preservation              2\n",
       "USE_CASE_ProductDev                2\n",
       "ORGANIZATION_Association           2\n",
       "ORGANIZATION_Co-operative          2\n",
       "ORGANIZATION_Corporation           2\n",
       "ORGANIZATION_Trust                 2\n",
       "INCOME_AMT_0                       2\n",
       "INCOME_AMT_1-9999                  2\n",
       "INCOME_AMT_10000-24999             2\n",
       "INCOME_AMT_100000-499999           2\n",
       "INCOME_AMT_10M-50M                 2\n",
       "INCOME_AMT_1M-5M                   2\n",
       "INCOME_AMT_25000-99999             2\n",
       "INCOME_AMT_50M+                    2\n",
       "INCOME_AMT_5M-10M                  2\n",
       "SPECIAL_CONSIDERATIONS_N           2\n",
       "SPECIAL_CONSIDERATIONS_Y           2\n",
       "dtype: int64"
      ]
     },
     "execution_count": 38,
     "metadata": {},
     "output_type": "execute_result"
    }
   ],
   "source": [
    "application_df.nunique()"
   ]
  },
  {
   "cell_type": "code",
   "execution_count": 39,
   "metadata": {
    "colab": {
     "base_uri": "https://localhost:8080/"
    },
    "id": "p7JXXMjhN4ct",
    "outputId": "cb3fc7a4-5692-4c5a-b7a8-1170a2dcce42"
   },
   "outputs": [
    {
     "name": "stderr",
     "output_type": "stream",
     "text": [
      "C:\\Users\\oscy7\\anaconda3\\envs\\mlenv\\lib\\site-packages\\ipykernel_launcher.py:2: FutureWarning: In a future version of pandas all arguments of DataFrame.drop except for the argument 'labels' will be keyword-only\n",
      "  \n"
     ]
    }
   ],
   "source": [
    "# Split our preprocessed data into our features and target arrays\n",
    "X = application_df.drop([\"IS_SUCCESSFUL\"], 1).values\n",
    "\n",
    "\n",
    "y = application_df[\"IS_SUCCESSFUL\"].values\n",
    "\n",
    "# Split the preprocessed data into a training and testing dataset\n",
    "X_train, X_test, y_train, y_tests = train_test_split(X, y, random_state=78)"
   ]
  },
  {
   "cell_type": "code",
   "execution_count": 40,
   "metadata": {
    "id": "gnzA5nZkN4ct"
   },
   "outputs": [],
   "source": [
    "# Create a StandardScaler instances\n",
    "scaler = StandardScaler()\n",
    "\n",
    "# Fit the StandardScaler\n",
    "X_scaler = scaler.fit(X_train)\n",
    "\n",
    "# Scale the data\n",
    "X_train_scaled = X_scaler.transform(X_train)\n",
    "X_test_scaled = X_scaler.transform(X_test)"
   ]
  },
  {
   "cell_type": "code",
   "execution_count": 41,
   "metadata": {
    "colab": {
     "base_uri": "https://localhost:8080/"
    },
    "id": "cW_w2adk-kzt",
    "outputId": "89eb0edc-1a14-4e0a-bb4e-215fc3534d4f"
   },
   "outputs": [
    {
     "data": {
      "text/plain": [
       "47"
      ]
     },
     "execution_count": 41,
     "metadata": {},
     "output_type": "execute_result"
    }
   ],
   "source": [
    "# test\n",
    "len(X_train[0])"
   ]
  },
  {
   "cell_type": "markdown",
   "metadata": {
    "id": "Yv_72MBVN4ct"
   },
   "source": [
    "### Deliverable 2: Compile, Train and Evaluate the Model"
   ]
  },
  {
   "cell_type": "code",
   "execution_count": 42,
   "metadata": {
    "colab": {
     "base_uri": "https://localhost:8080/"
    },
    "id": "qpTVXIEeN4ct",
    "outputId": "23960eb7-4a60-4251-f82b-a02200dc0740",
    "tags": []
   },
   "outputs": [
    {
     "name": "stdout",
     "output_type": "stream",
     "text": [
      "Model: \"sequential\"\n",
      "_________________________________________________________________\n",
      " Layer (type)                Output Shape              Param #   \n",
      "=================================================================\n",
      " dense (Dense)               (None, 141)               6768      \n",
      "                                                                 \n",
      " dense_1 (Dense)             (None, 94)                13348     \n",
      "                                                                 \n",
      " dense_2 (Dense)             (None, 47)                4465      \n",
      "                                                                 \n",
      " dense_3 (Dense)             (None, 20)                960       \n",
      "                                                                 \n",
      " dense_4 (Dense)             (None, 1)                 21        \n",
      "                                                                 \n",
      "=================================================================\n",
      "Total params: 25,562\n",
      "Trainable params: 25,562\n",
      "Non-trainable params: 0\n",
      "_________________________________________________________________\n"
     ]
    }
   ],
   "source": [
    "# Define the model - deep neural net, i.e., the number of input features and hidden nodes for each layer.\n",
    "number_input_features = len(X_train[0])\n",
    "hidden_nodes_layer1 = number_input_features * 3\n",
    "hidden_nodes_layer2 = number_input_features * 2\n",
    "hidden_nodes_layer3 = number_input_features * 1\n",
    "hidden_nodes_layer4 = 20\n",
    "\n",
    "nn = tf.keras.models.Sequential()\n",
    "\n",
    "# First hidden layer\n",
    "nn.add(\n",
    "    tf.keras.layers.Dense(units=hidden_nodes_layer1, input_dim=number_input_features, activation=\"relu\")\n",
    ")\n",
    "\n",
    "# Second hidden layer\n",
    "nn.add(tf.keras.layers.Dense(units=hidden_nodes_layer2, activation=\"sigmoid\"))\n",
    "\n",
    "# Third hidden layer\n",
    "nn.add(tf.keras.layers.Dense(units=hidden_nodes_layer3, activation=\"sigmoid\"))\n",
    "\n",
    "# Fourth hidden layer\n",
    "nn.add(tf.keras.layers.Dense(units=hidden_nodes_layer4, activation=\"sigmoid\"))\n",
    "\n",
    "# Output layer\n",
    "nn.add(tf.keras.layers.Dense(units=1, activation=\"sigmoid\"))\n",
    "\n",
    "# Check the structure of the model\n",
    "nn.summary()"
   ]
  },
  {
   "cell_type": "code",
   "execution_count": 43,
   "metadata": {
    "id": "xFE3QVhNRe1H"
   },
   "outputs": [],
   "source": [
    "# Import checkpoint dependencies\n",
    "import os\n",
    "from tensorflow.keras.callbacks import ModelCheckpoint\n",
    "\n",
    "# Define the checkpoint path and filenames\n",
    "os.makedirs(\"Checkpoints/\",exist_ok=True)\n",
    "checkpoint_path = \"Checkpoints/weights.{epoch:02d}.hdf5\""
   ]
  },
  {
   "cell_type": "code",
   "execution_count": 44,
   "metadata": {
    "id": "AeCMBiduN4cu"
   },
   "outputs": [],
   "source": [
    "# Compile the model\n",
    "nn.compile(loss=\"binary_crossentropy\", optimizer=\"adam\", metrics=[\"accuracy\"])"
   ]
  },
  {
   "cell_type": "code",
   "execution_count": 45,
   "metadata": {
    "id": "uH8MDp2USonW"
   },
   "outputs": [],
   "source": [
    "# Create a callback that saves the model's weights every epoch (set to 5)\n",
    "cp_callback = ModelCheckpoint(\n",
    "    filepath=checkpoint_path,\n",
    "    verbose=1,\n",
    "    save_weights_only=True,\n",
    "    save_freq=\"epoch\")"
   ]
  },
  {
   "cell_type": "code",
   "execution_count": 46,
   "metadata": {
    "colab": {
     "base_uri": "https://localhost:8080/"
    },
    "id": "SYmILndZN4cu",
    "outputId": "d1708b59-f076-4a91-cba1-d916021686ae",
    "tags": []
   },
   "outputs": [
    {
     "name": "stdout",
     "output_type": "stream",
     "text": [
      "Epoch 1/100\n",
      "797/804 [============================>.] - ETA: 0s - loss: 0.5845 - accuracy: 0.7134\n",
      "Epoch 1: saving model to Checkpoints\\weights.01.hdf5\n",
      "804/804 [==============================] - 2s 2ms/step - loss: 0.5844 - accuracy: 0.7132\n",
      "Epoch 2/100\n",
      "781/804 [============================>.] - ETA: 0s - loss: 0.5387 - accuracy: 0.7375\n",
      "Epoch 2: saving model to Checkpoints\\weights.02.hdf5\n",
      "804/804 [==============================] - 1s 2ms/step - loss: 0.5383 - accuracy: 0.7378\n",
      "Epoch 3/100\n",
      "784/804 [============================>.] - ETA: 0s - loss: 0.5264 - accuracy: 0.7453\n",
      "Epoch 3: saving model to Checkpoints\\weights.03.hdf5\n",
      "804/804 [==============================] - 1s 2ms/step - loss: 0.5269 - accuracy: 0.7445\n",
      "Epoch 4/100\n",
      "804/804 [==============================] - ETA: 0s - loss: 0.5240 - accuracy: 0.7490\n",
      "Epoch 4: saving model to Checkpoints\\weights.04.hdf5\n",
      "804/804 [==============================] - 1s 2ms/step - loss: 0.5240 - accuracy: 0.7490\n",
      "Epoch 5/100\n",
      "804/804 [==============================] - ETA: 0s - loss: 0.5212 - accuracy: 0.7505\n",
      "Epoch 5: saving model to Checkpoints\\weights.05.hdf5\n",
      "804/804 [==============================] - 1s 2ms/step - loss: 0.5212 - accuracy: 0.7505\n",
      "Epoch 6/100\n",
      "792/804 [============================>.] - ETA: 0s - loss: 0.5186 - accuracy: 0.7506\n",
      "Epoch 6: saving model to Checkpoints\\weights.06.hdf5\n",
      "804/804 [==============================] - 1s 2ms/step - loss: 0.5188 - accuracy: 0.7503\n",
      "Epoch 7/100\n",
      "785/804 [============================>.] - ETA: 0s - loss: 0.5172 - accuracy: 0.7520\n",
      "Epoch 7: saving model to Checkpoints\\weights.07.hdf5\n",
      "804/804 [==============================] - 1s 2ms/step - loss: 0.5168 - accuracy: 0.7520\n",
      "Epoch 8/100\n",
      "780/804 [============================>.] - ETA: 0s - loss: 0.5146 - accuracy: 0.7531\n",
      "Epoch 8: saving model to Checkpoints\\weights.08.hdf5\n",
      "804/804 [==============================] - 1s 2ms/step - loss: 0.5151 - accuracy: 0.7526\n",
      "Epoch 9/100\n",
      "783/804 [============================>.] - ETA: 0s - loss: 0.5146 - accuracy: 0.7538\n",
      "Epoch 9: saving model to Checkpoints\\weights.09.hdf5\n",
      "804/804 [==============================] - 1s 2ms/step - loss: 0.5141 - accuracy: 0.7541\n",
      "Epoch 10/100\n",
      "783/804 [============================>.] - ETA: 0s - loss: 0.5120 - accuracy: 0.7547\n",
      "Epoch 10: saving model to Checkpoints\\weights.10.hdf5\n",
      "804/804 [==============================] - 1s 2ms/step - loss: 0.5125 - accuracy: 0.7541\n",
      "Epoch 11/100\n",
      "785/804 [============================>.] - ETA: 0s - loss: 0.5120 - accuracy: 0.7536\n",
      "Epoch 11: saving model to Checkpoints\\weights.11.hdf5\n",
      "804/804 [==============================] - 1s 2ms/step - loss: 0.5122 - accuracy: 0.7537\n",
      "Epoch 12/100\n",
      "804/804 [==============================] - ETA: 0s - loss: 0.5107 - accuracy: 0.7545\n",
      "Epoch 12: saving model to Checkpoints\\weights.12.hdf5\n",
      "804/804 [==============================] - 1s 2ms/step - loss: 0.5107 - accuracy: 0.7545\n",
      "Epoch 13/100\n",
      "794/804 [============================>.] - ETA: 0s - loss: 0.5104 - accuracy: 0.7557\n",
      "Epoch 13: saving model to Checkpoints\\weights.13.hdf5\n",
      "804/804 [==============================] - 1s 2ms/step - loss: 0.5103 - accuracy: 0.7556\n",
      "Epoch 14/100\n",
      "774/804 [===========================>..] - ETA: 0s - loss: 0.5084 - accuracy: 0.7559\n",
      "Epoch 14: saving model to Checkpoints\\weights.14.hdf5\n",
      "804/804 [==============================] - 1s 2ms/step - loss: 0.5088 - accuracy: 0.7557\n",
      "Epoch 15/100\n",
      "802/804 [============================>.] - ETA: 0s - loss: 0.5088 - accuracy: 0.7559\n",
      "Epoch 15: saving model to Checkpoints\\weights.15.hdf5\n",
      "804/804 [==============================] - 1s 2ms/step - loss: 0.5087 - accuracy: 0.7560\n",
      "Epoch 16/100\n",
      "776/804 [===========================>..] - ETA: 0s - loss: 0.5076 - accuracy: 0.7554\n",
      "Epoch 16: saving model to Checkpoints\\weights.16.hdf5\n",
      "804/804 [==============================] - 1s 2ms/step - loss: 0.5078 - accuracy: 0.7552\n",
      "Epoch 17/100\n",
      "791/804 [============================>.] - ETA: 0s - loss: 0.5064 - accuracy: 0.7569\n",
      "Epoch 17: saving model to Checkpoints\\weights.17.hdf5\n",
      "804/804 [==============================] - 1s 2ms/step - loss: 0.5070 - accuracy: 0.7568\n",
      "Epoch 18/100\n",
      "780/804 [============================>.] - ETA: 0s - loss: 0.5057 - accuracy: 0.7579\n",
      "Epoch 18: saving model to Checkpoints\\weights.18.hdf5\n",
      "804/804 [==============================] - 1s 2ms/step - loss: 0.5062 - accuracy: 0.7576\n",
      "Epoch 19/100\n",
      "779/804 [============================>.] - ETA: 0s - loss: 0.5066 - accuracy: 0.7573\n",
      "Epoch 19: saving model to Checkpoints\\weights.19.hdf5\n",
      "804/804 [==============================] - 1s 2ms/step - loss: 0.5064 - accuracy: 0.7577\n",
      "Epoch 20/100\n",
      "797/804 [============================>.] - ETA: 0s - loss: 0.5048 - accuracy: 0.7578\n",
      "Epoch 20: saving model to Checkpoints\\weights.20.hdf5\n",
      "804/804 [==============================] - 1s 2ms/step - loss: 0.5051 - accuracy: 0.7572\n",
      "Epoch 21/100\n",
      "802/804 [============================>.] - ETA: 0s - loss: 0.5047 - accuracy: 0.7579\n",
      "Epoch 21: saving model to Checkpoints\\weights.21.hdf5\n",
      "804/804 [==============================] - 1s 2ms/step - loss: 0.5048 - accuracy: 0.7580\n",
      "Epoch 22/100\n",
      "776/804 [===========================>..] - ETA: 0s - loss: 0.5044 - accuracy: 0.7580\n",
      "Epoch 22: saving model to Checkpoints\\weights.22.hdf5\n",
      "804/804 [==============================] - 1s 2ms/step - loss: 0.5043 - accuracy: 0.7580\n",
      "Epoch 23/100\n",
      "791/804 [============================>.] - ETA: 0s - loss: 0.5040 - accuracy: 0.7594\n",
      "Epoch 23: saving model to Checkpoints\\weights.23.hdf5\n",
      "804/804 [==============================] - 1s 2ms/step - loss: 0.5035 - accuracy: 0.7594\n",
      "Epoch 24/100\n",
      "783/804 [============================>.] - ETA: 0s - loss: 0.5030 - accuracy: 0.7587\n",
      "Epoch 24: saving model to Checkpoints\\weights.24.hdf5\n",
      "804/804 [==============================] - 2s 2ms/step - loss: 0.5031 - accuracy: 0.7589\n",
      "Epoch 25/100\n",
      "773/804 [===========================>..] - ETA: 0s - loss: 0.5037 - accuracy: 0.7574\n",
      "Epoch 25: saving model to Checkpoints\\weights.25.hdf5\n",
      "804/804 [==============================] - 1s 2ms/step - loss: 0.5026 - accuracy: 0.7587\n",
      "Epoch 26/100\n",
      "785/804 [============================>.] - ETA: 0s - loss: 0.5019 - accuracy: 0.7594\n",
      "Epoch 26: saving model to Checkpoints\\weights.26.hdf5\n",
      "804/804 [==============================] - 1s 2ms/step - loss: 0.5025 - accuracy: 0.7590\n",
      "Epoch 27/100\n",
      "779/804 [============================>.] - ETA: 0s - loss: 0.5016 - accuracy: 0.7591\n",
      "Epoch 27: saving model to Checkpoints\\weights.27.hdf5\n",
      "804/804 [==============================] - 1s 2ms/step - loss: 0.5018 - accuracy: 0.7592\n",
      "Epoch 28/100\n",
      "800/804 [============================>.] - ETA: 0s - loss: 0.5018 - accuracy: 0.7597\n",
      "Epoch 28: saving model to Checkpoints\\weights.28.hdf5\n",
      "804/804 [==============================] - 1s 2ms/step - loss: 0.5016 - accuracy: 0.7600\n",
      "Epoch 29/100\n",
      "792/804 [============================>.] - ETA: 0s - loss: 0.5007 - accuracy: 0.7594\n",
      "Epoch 29: saving model to Checkpoints\\weights.29.hdf5\n",
      "804/804 [==============================] - 1s 2ms/step - loss: 0.5008 - accuracy: 0.7594\n",
      "Epoch 30/100\n",
      "803/804 [============================>.] - ETA: 0s - loss: 0.5010 - accuracy: 0.7607\n",
      "Epoch 30: saving model to Checkpoints\\weights.30.hdf5\n",
      "804/804 [==============================] - 1s 2ms/step - loss: 0.5010 - accuracy: 0.7606\n",
      "Epoch 31/100\n",
      "769/804 [===========================>..] - ETA: 0s - loss: 0.4997 - accuracy: 0.7604\n",
      "Epoch 31: saving model to Checkpoints\\weights.31.hdf5\n",
      "804/804 [==============================] - 2s 2ms/step - loss: 0.4998 - accuracy: 0.7603\n",
      "Epoch 32/100\n",
      "789/804 [============================>.] - ETA: 0s - loss: 0.4997 - accuracy: 0.7610\n",
      "Epoch 32: saving model to Checkpoints\\weights.32.hdf5\n",
      "804/804 [==============================] - 1s 2ms/step - loss: 0.4997 - accuracy: 0.7608\n",
      "Epoch 33/100\n",
      "802/804 [============================>.] - ETA: 0s - loss: 0.4994 - accuracy: 0.7609\n",
      "Epoch 33: saving model to Checkpoints\\weights.33.hdf5\n",
      "804/804 [==============================] - 1s 2ms/step - loss: 0.4993 - accuracy: 0.7611\n",
      "Epoch 34/100\n",
      "790/804 [============================>.] - ETA: 0s - loss: 0.4989 - accuracy: 0.7610\n",
      "Epoch 34: saving model to Checkpoints\\weights.34.hdf5\n",
      "804/804 [==============================] - 1s 2ms/step - loss: 0.4993 - accuracy: 0.7606\n",
      "Epoch 35/100\n",
      "800/804 [============================>.] - ETA: 0s - loss: 0.4985 - accuracy: 0.7613\n",
      "Epoch 35: saving model to Checkpoints\\weights.35.hdf5\n",
      "804/804 [==============================] - 1s 2ms/step - loss: 0.4985 - accuracy: 0.7612\n",
      "Epoch 36/100\n",
      "776/804 [===========================>..] - ETA: 0s - loss: 0.4986 - accuracy: 0.7606\n",
      "Epoch 36: saving model to Checkpoints\\weights.36.hdf5\n",
      "804/804 [==============================] - 1s 2ms/step - loss: 0.4984 - accuracy: 0.7607\n",
      "Epoch 37/100\n",
      "799/804 [============================>.] - ETA: 0s - loss: 0.4981 - accuracy: 0.7625\n",
      "Epoch 37: saving model to Checkpoints\\weights.37.hdf5\n",
      "804/804 [==============================] - 1s 2ms/step - loss: 0.4982 - accuracy: 0.7624\n",
      "Epoch 38/100\n",
      "776/804 [===========================>..] - ETA: 0s - loss: 0.4983 - accuracy: 0.7617\n",
      "Epoch 38: saving model to Checkpoints\\weights.38.hdf5\n",
      "804/804 [==============================] - 1s 2ms/step - loss: 0.4984 - accuracy: 0.7614\n",
      "Epoch 39/100\n",
      "782/804 [============================>.] - ETA: 0s - loss: 0.4968 - accuracy: 0.7623\n",
      "Epoch 39: saving model to Checkpoints\\weights.39.hdf5\n",
      "804/804 [==============================] - 1s 2ms/step - loss: 0.4974 - accuracy: 0.7619\n",
      "Epoch 40/100\n",
      "777/804 [===========================>..] - ETA: 0s - loss: 0.4976 - accuracy: 0.7623\n",
      "Epoch 40: saving model to Checkpoints\\weights.40.hdf5\n",
      "804/804 [==============================] - 1s 2ms/step - loss: 0.4972 - accuracy: 0.7625\n",
      "Epoch 41/100\n",
      "782/804 [============================>.] - ETA: 0s - loss: 0.4963 - accuracy: 0.7622\n",
      "Epoch 41: saving model to Checkpoints\\weights.41.hdf5\n",
      "804/804 [==============================] - 1s 2ms/step - loss: 0.4965 - accuracy: 0.7622\n",
      "Epoch 42/100\n",
      "795/804 [============================>.] - ETA: 0s - loss: 0.4961 - accuracy: 0.7627\n",
      "Epoch 42: saving model to Checkpoints\\weights.42.hdf5\n",
      "804/804 [==============================] - 1s 2ms/step - loss: 0.4963 - accuracy: 0.7625\n",
      "Epoch 43/100\n",
      "796/804 [============================>.] - ETA: 0s - loss: 0.4967 - accuracy: 0.7630\n",
      "Epoch 43: saving model to Checkpoints\\weights.43.hdf5\n",
      "804/804 [==============================] - 1s 2ms/step - loss: 0.4961 - accuracy: 0.7636\n",
      "Epoch 44/100\n",
      "786/804 [============================>.] - ETA: 0s - loss: 0.4954 - accuracy: 0.7635\n",
      "Epoch 44: saving model to Checkpoints\\weights.44.hdf5\n",
      "804/804 [==============================] - 1s 2ms/step - loss: 0.4955 - accuracy: 0.7632\n",
      "Epoch 45/100\n",
      "794/804 [============================>.] - ETA: 0s - loss: 0.4957 - accuracy: 0.7622\n",
      "Epoch 45: saving model to Checkpoints\\weights.45.hdf5\n",
      "804/804 [==============================] - 1s 2ms/step - loss: 0.4959 - accuracy: 0.7618\n",
      "Epoch 46/100\n",
      "787/804 [============================>.] - ETA: 0s - loss: 0.4956 - accuracy: 0.7620\n",
      "Epoch 46: saving model to Checkpoints\\weights.46.hdf5\n",
      "804/804 [==============================] - 1s 2ms/step - loss: 0.4951 - accuracy: 0.7625\n",
      "Epoch 47/100\n",
      "776/804 [===========================>..] - ETA: 0s - loss: 0.4957 - accuracy: 0.7638\n",
      "Epoch 47: saving model to Checkpoints\\weights.47.hdf5\n",
      "804/804 [==============================] - 1s 2ms/step - loss: 0.4953 - accuracy: 0.7636\n",
      "Epoch 48/100\n",
      "803/804 [============================>.] - ETA: 0s - loss: 0.4951 - accuracy: 0.7627\n",
      "Epoch 48: saving model to Checkpoints\\weights.48.hdf5\n",
      "804/804 [==============================] - 1s 2ms/step - loss: 0.4951 - accuracy: 0.7627\n",
      "Epoch 49/100\n",
      "779/804 [============================>.] - ETA: 0s - loss: 0.4954 - accuracy: 0.7626\n",
      "Epoch 49: saving model to Checkpoints\\weights.49.hdf5\n",
      "804/804 [==============================] - 1s 2ms/step - loss: 0.4950 - accuracy: 0.7631\n",
      "Epoch 50/100\n",
      "787/804 [============================>.] - ETA: 0s - loss: 0.4947 - accuracy: 0.7624\n",
      "Epoch 50: saving model to Checkpoints\\weights.50.hdf5\n",
      "804/804 [==============================] - 1s 2ms/step - loss: 0.4945 - accuracy: 0.7624\n",
      "Epoch 51/100\n",
      "804/804 [==============================] - ETA: 0s - loss: 0.4939 - accuracy: 0.7638\n",
      "Epoch 51: saving model to Checkpoints\\weights.51.hdf5\n",
      "804/804 [==============================] - 1s 2ms/step - loss: 0.4939 - accuracy: 0.7638\n",
      "Epoch 52/100\n",
      "800/804 [============================>.] - ETA: 0s - loss: 0.4942 - accuracy: 0.7639\n",
      "Epoch 52: saving model to Checkpoints\\weights.52.hdf5\n",
      "804/804 [==============================] - 2s 2ms/step - loss: 0.4940 - accuracy: 0.7639\n",
      "Epoch 53/100\n",
      "802/804 [============================>.] - ETA: 0s - loss: 0.4940 - accuracy: 0.7628\n",
      "Epoch 53: saving model to Checkpoints\\weights.53.hdf5\n",
      "804/804 [==============================] - 1s 2ms/step - loss: 0.4940 - accuracy: 0.7628\n",
      "Epoch 54/100\n",
      "777/804 [===========================>..] - ETA: 0s - loss: 0.4937 - accuracy: 0.7640\n",
      "Epoch 54: saving model to Checkpoints\\weights.54.hdf5\n",
      "804/804 [==============================] - 1s 2ms/step - loss: 0.4938 - accuracy: 0.7633\n",
      "Epoch 55/100\n",
      "796/804 [============================>.] - ETA: 0s - loss: 0.4940 - accuracy: 0.7641\n",
      "Epoch 55: saving model to Checkpoints\\weights.55.hdf5\n",
      "804/804 [==============================] - 1s 2ms/step - loss: 0.4935 - accuracy: 0.7645\n",
      "Epoch 56/100\n",
      "786/804 [============================>.] - ETA: 0s - loss: 0.4928 - accuracy: 0.7635\n",
      "Epoch 56: saving model to Checkpoints\\weights.56.hdf5\n",
      "804/804 [==============================] - 1s 2ms/step - loss: 0.4926 - accuracy: 0.7639\n",
      "Epoch 57/100\n",
      "786/804 [============================>.] - ETA: 0s - loss: 0.4922 - accuracy: 0.7640\n",
      "Epoch 57: saving model to Checkpoints\\weights.57.hdf5\n",
      "804/804 [==============================] - 2s 2ms/step - loss: 0.4929 - accuracy: 0.7633\n",
      "Epoch 58/100\n",
      "792/804 [============================>.] - ETA: 0s - loss: 0.4932 - accuracy: 0.7638\n",
      "Epoch 58: saving model to Checkpoints\\weights.58.hdf5\n",
      "804/804 [==============================] - 1s 2ms/step - loss: 0.4930 - accuracy: 0.7639\n",
      "Epoch 59/100\n",
      "791/804 [============================>.] - ETA: 0s - loss: 0.4926 - accuracy: 0.7646\n",
      "Epoch 59: saving model to Checkpoints\\weights.59.hdf5\n",
      "804/804 [==============================] - 1s 2ms/step - loss: 0.4926 - accuracy: 0.7643\n",
      "Epoch 60/100\n",
      "788/804 [============================>.] - ETA: 0s - loss: 0.4929 - accuracy: 0.7630\n",
      "Epoch 60: saving model to Checkpoints\\weights.60.hdf5\n",
      "804/804 [==============================] - 2s 2ms/step - loss: 0.4925 - accuracy: 0.7634\n",
      "Epoch 61/100\n",
      "800/804 [============================>.] - ETA: 0s - loss: 0.4927 - accuracy: 0.7636\n",
      "Epoch 61: saving model to Checkpoints\\weights.61.hdf5\n",
      "804/804 [==============================] - 1s 2ms/step - loss: 0.4928 - accuracy: 0.7636\n",
      "Epoch 62/100\n",
      "803/804 [============================>.] - ETA: 0s - loss: 0.4925 - accuracy: 0.7640\n",
      "Epoch 62: saving model to Checkpoints\\weights.62.hdf5\n",
      "804/804 [==============================] - 1s 2ms/step - loss: 0.4925 - accuracy: 0.7640\n",
      "Epoch 63/100\n",
      "790/804 [============================>.] - ETA: 0s - loss: 0.4927 - accuracy: 0.7649\n",
      "Epoch 63: saving model to Checkpoints\\weights.63.hdf5\n",
      "804/804 [==============================] - 1s 2ms/step - loss: 0.4922 - accuracy: 0.7651\n",
      "Epoch 64/100\n",
      "783/804 [============================>.] - ETA: 0s - loss: 0.4908 - accuracy: 0.7641\n",
      "Epoch 64: saving model to Checkpoints\\weights.64.hdf5\n",
      "804/804 [==============================] - 1s 2ms/step - loss: 0.4912 - accuracy: 0.7637\n",
      "Epoch 65/100\n",
      "781/804 [============================>.] - ETA: 0s - loss: 0.4912 - accuracy: 0.7639\n",
      "Epoch 65: saving model to Checkpoints\\weights.65.hdf5\n",
      "804/804 [==============================] - 1s 2ms/step - loss: 0.4913 - accuracy: 0.7638\n",
      "Epoch 66/100\n",
      "783/804 [============================>.] - ETA: 0s - loss: 0.4908 - accuracy: 0.7654\n",
      "Epoch 66: saving model to Checkpoints\\weights.66.hdf5\n",
      "804/804 [==============================] - 1s 2ms/step - loss: 0.4912 - accuracy: 0.7647\n",
      "Epoch 67/100\n",
      "797/804 [============================>.] - ETA: 0s - loss: 0.4906 - accuracy: 0.7654\n",
      "Epoch 67: saving model to Checkpoints\\weights.67.hdf5\n",
      "804/804 [==============================] - 2s 2ms/step - loss: 0.4910 - accuracy: 0.7651\n",
      "Epoch 68/100\n",
      "776/804 [===========================>..] - ETA: 0s - loss: 0.4909 - accuracy: 0.7639\n",
      "Epoch 68: saving model to Checkpoints\\weights.68.hdf5\n",
      "804/804 [==============================] - 1s 2ms/step - loss: 0.4911 - accuracy: 0.7639\n",
      "Epoch 69/100\n",
      "771/804 [===========================>..] - ETA: 0s - loss: 0.4920 - accuracy: 0.7649\n",
      "Epoch 69: saving model to Checkpoints\\weights.69.hdf5\n",
      "804/804 [==============================] - 1s 2ms/step - loss: 0.4916 - accuracy: 0.7653\n",
      "Epoch 70/100\n",
      "790/804 [============================>.] - ETA: 0s - loss: 0.4913 - accuracy: 0.7636\n",
      "Epoch 70: saving model to Checkpoints\\weights.70.hdf5\n",
      "804/804 [==============================] - 1s 2ms/step - loss: 0.4906 - accuracy: 0.7642\n",
      "Epoch 71/100\n",
      "781/804 [============================>.] - ETA: 0s - loss: 0.4902 - accuracy: 0.7644\n",
      "Epoch 71: saving model to Checkpoints\\weights.71.hdf5\n",
      "804/804 [==============================] - 1s 2ms/step - loss: 0.4908 - accuracy: 0.7640\n",
      "Epoch 72/100\n",
      "793/804 [============================>.] - ETA: 0s - loss: 0.4908 - accuracy: 0.7642\n",
      "Epoch 72: saving model to Checkpoints\\weights.72.hdf5\n",
      "804/804 [==============================] - 1s 2ms/step - loss: 0.4909 - accuracy: 0.7642\n",
      "Epoch 73/100\n",
      "799/804 [============================>.] - ETA: 0s - loss: 0.4896 - accuracy: 0.7639\n",
      "Epoch 73: saving model to Checkpoints\\weights.73.hdf5\n",
      "804/804 [==============================] - 1s 2ms/step - loss: 0.4900 - accuracy: 0.7634\n",
      "Epoch 74/100\n",
      "778/804 [============================>.] - ETA: 0s - loss: 0.4913 - accuracy: 0.7638\n",
      "Epoch 74: saving model to Checkpoints\\weights.74.hdf5\n",
      "804/804 [==============================] - 1s 2ms/step - loss: 0.4903 - accuracy: 0.7648\n",
      "Epoch 75/100\n",
      "782/804 [============================>.] - ETA: 0s - loss: 0.4904 - accuracy: 0.7651\n",
      "Epoch 75: saving model to Checkpoints\\weights.75.hdf5\n",
      "804/804 [==============================] - 1s 2ms/step - loss: 0.4903 - accuracy: 0.7647\n",
      "Epoch 76/100\n",
      "786/804 [============================>.] - ETA: 0s - loss: 0.4910 - accuracy: 0.7626\n",
      "Epoch 76: saving model to Checkpoints\\weights.76.hdf5\n",
      "804/804 [==============================] - 1s 2ms/step - loss: 0.4902 - accuracy: 0.7635\n",
      "Epoch 77/100\n",
      "800/804 [============================>.] - ETA: 0s - loss: 0.4900 - accuracy: 0.7637\n",
      "Epoch 77: saving model to Checkpoints\\weights.77.hdf5\n",
      "804/804 [==============================] - 1s 2ms/step - loss: 0.4899 - accuracy: 0.7636\n",
      "Epoch 78/100\n",
      "784/804 [============================>.] - ETA: 0s - loss: 0.4890 - accuracy: 0.7653\n",
      "Epoch 78: saving model to Checkpoints\\weights.78.hdf5\n",
      "804/804 [==============================] - 1s 2ms/step - loss: 0.4900 - accuracy: 0.7647\n",
      "Epoch 79/100\n",
      "781/804 [============================>.] - ETA: 0s - loss: 0.4895 - accuracy: 0.7646\n",
      "Epoch 79: saving model to Checkpoints\\weights.79.hdf5\n",
      "804/804 [==============================] - 1s 2ms/step - loss: 0.4898 - accuracy: 0.7644\n",
      "Epoch 80/100\n",
      "777/804 [===========================>..] - ETA: 0s - loss: 0.4899 - accuracy: 0.7645\n",
      "Epoch 80: saving model to Checkpoints\\weights.80.hdf5\n",
      "804/804 [==============================] - 1s 2ms/step - loss: 0.4898 - accuracy: 0.7647\n",
      "Epoch 81/100\n",
      "800/804 [============================>.] - ETA: 0s - loss: 0.4899 - accuracy: 0.7641\n",
      "Epoch 81: saving model to Checkpoints\\weights.81.hdf5\n",
      "804/804 [==============================] - 1s 2ms/step - loss: 0.4898 - accuracy: 0.7643\n",
      "Epoch 82/100\n",
      "773/804 [===========================>..] - ETA: 0s - loss: 0.4894 - accuracy: 0.7654\n",
      "Epoch 82: saving model to Checkpoints\\weights.82.hdf5\n",
      "804/804 [==============================] - 1s 2ms/step - loss: 0.4896 - accuracy: 0.7650\n",
      "Epoch 83/100\n",
      "780/804 [============================>.] - ETA: 0s - loss: 0.4896 - accuracy: 0.7640\n",
      "Epoch 83: saving model to Checkpoints\\weights.83.hdf5\n",
      "804/804 [==============================] - 1s 2ms/step - loss: 0.4894 - accuracy: 0.7637\n",
      "Epoch 84/100\n",
      "775/804 [===========================>..] - ETA: 0s - loss: 0.4896 - accuracy: 0.7642\n",
      "Epoch 84: saving model to Checkpoints\\weights.84.hdf5\n",
      "804/804 [==============================] - 1s 2ms/step - loss: 0.4894 - accuracy: 0.7642\n",
      "Epoch 85/100\n",
      "786/804 [============================>.] - ETA: 0s - loss: 0.4892 - accuracy: 0.7645\n",
      "Epoch 85: saving model to Checkpoints\\weights.85.hdf5\n",
      "804/804 [==============================] - 1s 2ms/step - loss: 0.4898 - accuracy: 0.7643\n",
      "Epoch 86/100\n",
      "800/804 [============================>.] - ETA: 0s - loss: 0.4899 - accuracy: 0.7651\n",
      "Epoch 86: saving model to Checkpoints\\weights.86.hdf5\n",
      "804/804 [==============================] - 1s 2ms/step - loss: 0.4901 - accuracy: 0.7650\n",
      "Epoch 87/100\n",
      "800/804 [============================>.] - ETA: 0s - loss: 0.4894 - accuracy: 0.7648\n",
      "Epoch 87: saving model to Checkpoints\\weights.87.hdf5\n",
      "804/804 [==============================] - 1s 2ms/step - loss: 0.4896 - accuracy: 0.7645\n",
      "Epoch 88/100\n",
      "779/804 [============================>.] - ETA: 0s - loss: 0.4893 - accuracy: 0.7638\n",
      "Epoch 88: saving model to Checkpoints\\weights.88.hdf5\n",
      "804/804 [==============================] - 1s 2ms/step - loss: 0.4888 - accuracy: 0.7647\n",
      "Epoch 89/100\n",
      "793/804 [============================>.] - ETA: 0s - loss: 0.4885 - accuracy: 0.7658\n",
      "Epoch 89: saving model to Checkpoints\\weights.89.hdf5\n",
      "804/804 [==============================] - 1s 2ms/step - loss: 0.4888 - accuracy: 0.7654\n",
      "Epoch 90/100\n",
      "802/804 [============================>.] - ETA: 0s - loss: 0.4889 - accuracy: 0.7650\n",
      "Epoch 90: saving model to Checkpoints\\weights.90.hdf5\n",
      "804/804 [==============================] - 1s 2ms/step - loss: 0.4891 - accuracy: 0.7647\n",
      "Epoch 91/100\n",
      "800/804 [============================>.] - ETA: 0s - loss: 0.4895 - accuracy: 0.7647\n",
      "Epoch 91: saving model to Checkpoints\\weights.91.hdf5\n",
      "804/804 [==============================] - 2s 2ms/step - loss: 0.4895 - accuracy: 0.7648\n",
      "Epoch 92/100\n",
      "780/804 [============================>.] - ETA: 0s - loss: 0.4893 - accuracy: 0.7649\n",
      "Epoch 92: saving model to Checkpoints\\weights.92.hdf5\n",
      "804/804 [==============================] - 1s 2ms/step - loss: 0.4893 - accuracy: 0.7648\n",
      "Epoch 93/100\n",
      "803/804 [============================>.] - ETA: 0s - loss: 0.4890 - accuracy: 0.7649\n",
      "Epoch 93: saving model to Checkpoints\\weights.93.hdf5\n",
      "804/804 [==============================] - 1s 2ms/step - loss: 0.4890 - accuracy: 0.7650\n",
      "Epoch 94/100\n",
      "786/804 [============================>.] - ETA: 0s - loss: 0.4895 - accuracy: 0.7652\n",
      "Epoch 94: saving model to Checkpoints\\weights.94.hdf5\n",
      "804/804 [==============================] - 1s 2ms/step - loss: 0.4888 - accuracy: 0.7657\n",
      "Epoch 95/100\n",
      "801/804 [============================>.] - ETA: 0s - loss: 0.4882 - accuracy: 0.7654\n",
      "Epoch 95: saving model to Checkpoints\\weights.95.hdf5\n",
      "804/804 [==============================] - 1s 2ms/step - loss: 0.4888 - accuracy: 0.7650\n",
      "Epoch 96/100\n",
      "796/804 [============================>.] - ETA: 0s - loss: 0.4893 - accuracy: 0.7659\n",
      "Epoch 96: saving model to Checkpoints\\weights.96.hdf5\n",
      "804/804 [==============================] - 1s 2ms/step - loss: 0.4890 - accuracy: 0.7661\n",
      "Epoch 97/100\n",
      "782/804 [============================>.] - ETA: 0s - loss: 0.4903 - accuracy: 0.7643\n",
      "Epoch 97: saving model to Checkpoints\\weights.97.hdf5\n",
      "804/804 [==============================] - 1s 2ms/step - loss: 0.4891 - accuracy: 0.7650\n",
      "Epoch 98/100\n",
      "799/804 [============================>.] - ETA: 0s - loss: 0.4887 - accuracy: 0.7657\n",
      "Epoch 98: saving model to Checkpoints\\weights.98.hdf5\n",
      "804/804 [==============================] - 1s 2ms/step - loss: 0.4887 - accuracy: 0.7657\n",
      "Epoch 99/100\n",
      "775/804 [===========================>..] - ETA: 0s - loss: 0.4884 - accuracy: 0.7652\n",
      "Epoch 99: saving model to Checkpoints\\weights.99.hdf5\n",
      "804/804 [==============================] - 1s 2ms/step - loss: 0.4887 - accuracy: 0.7647\n",
      "Epoch 100/100\n",
      "791/804 [============================>.] - ETA: 0s - loss: 0.4890 - accuracy: 0.7654\n",
      "Epoch 100: saving model to Checkpoints\\weights.100.hdf5\n",
      "804/804 [==============================] - 1s 2ms/step - loss: 0.4890 - accuracy: 0.7655\n"
     ]
    }
   ],
   "source": [
    "# Train the model\n",
    "fit_model = nn.fit(X_train_scaled,y_train,epochs=100, callbacks=[cp_callback])"
   ]
  },
  {
   "cell_type": "code",
   "execution_count": 47,
   "metadata": {
    "colab": {
     "base_uri": "https://localhost:8080/",
     "height": 296
    },
    "id": "r_AzlFv6T6m0",
    "outputId": "61b05bf6-b2d1-437c-ae67-b74cf7ac488c"
   },
   "outputs": [
    {
     "data": {
      "text/plain": [
       "<AxesSubplot:>"
      ]
     },
     "execution_count": 47,
     "metadata": {},
     "output_type": "execute_result"
    },
    {
     "data": {
      "image/png": "[encoded data removed]",
      "text/plain": [
       "<Figure size 432x288 with 1 Axes>"
      ]
     },
     "metadata": {},
     "output_type": "display_data"
    }
   ],
   "source": [
    "# Create a DataFrame containing training History\n",
    "history_df = pd.DataFrame(fit_model.history, index=range(1,len(fit_model.history[\"loss\"])+1))\n",
    "\n",
    "# Plot the loss\n",
    "history_df.plot(y=\"loss\")"
   ]
  },
  {
   "cell_type": "code",
   "execution_count": 48,
   "metadata": {
    "colab": {
     "base_uri": "https://localhost:8080/",
     "height": 285
    },
    "id": "wS-fBGRoT6cW",
    "outputId": "7bc0c819-d2db-480e-dc41-4ff2d0347823"
   },
   "outputs": [
    {
     "data": {
      "text/plain": [
       "<AxesSubplot:>"
      ]
     },
     "execution_count": 48,
     "metadata": {},
     "output_type": "execute_result"
    },
    {
     "data": {
      "image/png": "[encoded data removed]",
      "text/plain": [
       "<Figure size 432x288 with 1 Axes>"
      ]
     },
     "metadata": {},
     "output_type": "display_data"
    }
   ],
   "source": [
    "# Plot the accuracy\n",
    "history_df.plot(y=\"accuracy\")"
   ]
  },
  {
   "cell_type": "code",
   "execution_count": 49,
   "metadata": {
    "colab": {
     "base_uri": "https://localhost:8080/"
    },
    "id": "3-CB_ze2N4cu",
    "outputId": "7852ebf8-27ad-4dc9-8749-467ec4cc3d14"
   },
   "outputs": [
    {
     "name": "stdout",
     "output_type": "stream",
     "text": [
      "268/268 - 0s - loss: 0.5411 - accuracy: 0.7430 - 431ms/epoch - 2ms/step\n",
      "Loss: 0.5411022305488586, Accuracy: 0.7429737448692322\n"
     ]
    }
   ],
   "source": [
    "# Evaluate the model using the test data\n",
    "model_loss, model_accuracy = nn.evaluate(X_test_scaled,y_tests,verbose=2)\n",
    "print(f\"Loss: {model_loss}, Accuracy: {model_accuracy}\")"
   ]
  },
  {
   "cell_type": "code",
   "execution_count": 50,
   "metadata": {
    "id": "cqHbY_68N4cu"
   },
   "outputs": [],
   "source": [
    "# Export our model to HDF5 file\n",
    "nn.save(\"./Trained_Models/AlphabetSoupCharity.h5\")"
   ]
  }
 ],
 "metadata": {
  "colab": {
   "collapsed_sections": [],
   "provenance": []
  },
  "kernelspec": {
   "display_name": "mlenv",
   "language": "python",
   "name": "mlenv"
  },
  "language_info": {
   "codemirror_mode": {
    "name": "ipython",
    "version": 3
   },
   "file_extension": ".py",
   "mimetype": "text/x-python",
   "name": "python",
   "nbconvert_exporter": "python",
   "pygments_lexer": "ipython3",
   "version": "3.7.13"
  }
 },
 "nbformat": 4,
 "nbformat_minor": 4
}
